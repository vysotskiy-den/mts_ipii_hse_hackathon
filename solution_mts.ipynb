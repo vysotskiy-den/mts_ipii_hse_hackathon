{
 "cells": [
  {
   "cell_type": "code",
   "execution_count": null,
   "id": "f30f1647",
   "metadata": {},
   "outputs": [],
   "source": [
    "import warnings\n",
    "warnings.filterwarnings('ignore')\n",
    "\n",
    "import os\n",
    "import pandas as pd\n",
    "import numpy as np\n",
    "import seaborn as sns\n",
    "import matplotlib.pyplot as plt\n",
    "\n",
    "from catboost import CatBoostClassifier, Pool, cv\n",
    "from sklearn.model_selection import train_test_split, StratifiedKFold\n",
    "import ast\n",
    "\n",
    "import shap\n",
    "import optuna as optuna\n",
    "from sklearn import metrics\n",
    "\n",
    "import optuna\n",
    "\n",
    "from optuna.visualization import plot_optimization_history\n",
    "from optuna.visualization import plot_param_importances\n",
    "\n",
    "from catboost.utils import get_gpu_device_count\n",
    "from sklearn.metrics import roc_auc_score\n",
    "\n",
    "import joblib"
   ]
  },
  {
   "cell_type": "code",
   "execution_count": 2,
   "id": "3a69273b",
   "metadata": {},
   "outputs": [],
   "source": [
    "train = pd.read_csv(\"D:/educ/ml/hack/bank-churn-competition-by-ipii-hs-ex-mts/train.csv\", sep=',')\n",
    "test = pd.read_csv(\"D:/educ/ml/hack/bank-churn-competition-by-ipii-hs-ex-mts/test.csv\", sep=',')"
   ]
  },
  {
   "cell_type": "code",
   "execution_count": 3,
   "id": "7a69596c",
   "metadata": {},
   "outputs": [
    {
     "data": {
      "text/html": [
       "<div>\n",
       "<style scoped>\n",
       "    .dataframe tbody tr th:only-of-type {\n",
       "        vertical-align: middle;\n",
       "    }\n",
       "\n",
       "    .dataframe tbody tr th {\n",
       "        vertical-align: top;\n",
       "    }\n",
       "\n",
       "    .dataframe thead th {\n",
       "        text-align: right;\n",
       "    }\n",
       "</style>\n",
       "<table border=\"1\" class=\"dataframe\">\n",
       "  <thead>\n",
       "    <tr style=\"text-align: right;\">\n",
       "      <th></th>\n",
       "      <th>id</th>\n",
       "      <th>CustomerId</th>\n",
       "      <th>Surname</th>\n",
       "      <th>CreditScore</th>\n",
       "      <th>Geography</th>\n",
       "      <th>Gender</th>\n",
       "      <th>Age</th>\n",
       "      <th>Tenure</th>\n",
       "      <th>Balance</th>\n",
       "      <th>NumOfProducts</th>\n",
       "      <th>HasCrCard</th>\n",
       "      <th>IsActiveMember</th>\n",
       "      <th>EstimatedSalary</th>\n",
       "      <th>Exited</th>\n",
       "    </tr>\n",
       "  </thead>\n",
       "  <tbody>\n",
       "    <tr>\n",
       "      <th>0</th>\n",
       "      <td>0</td>\n",
       "      <td>15752626.0</td>\n",
       "      <td>Martin</td>\n",
       "      <td>675.0</td>\n",
       "      <td>France</td>\n",
       "      <td>Female</td>\n",
       "      <td>48.0</td>\n",
       "      <td>7.0</td>\n",
       "      <td>143582.89</td>\n",
       "      <td>2.0</td>\n",
       "      <td>0.0</td>\n",
       "      <td>0.0</td>\n",
       "      <td>93844.82</td>\n",
       "      <td>1.0</td>\n",
       "    </tr>\n",
       "    <tr>\n",
       "      <th>1</th>\n",
       "      <td>1</td>\n",
       "      <td>15797960.0</td>\n",
       "      <td>Pagnotto</td>\n",
       "      <td>673.0</td>\n",
       "      <td>France</td>\n",
       "      <td>Female</td>\n",
       "      <td>37.0</td>\n",
       "      <td>7.0</td>\n",
       "      <td>0.00</td>\n",
       "      <td>2.0</td>\n",
       "      <td>0.0</td>\n",
       "      <td>0.0</td>\n",
       "      <td>170980.86</td>\n",
       "      <td>0.0</td>\n",
       "    </tr>\n",
       "    <tr>\n",
       "      <th>2</th>\n",
       "      <td>2</td>\n",
       "      <td>15672056.0</td>\n",
       "      <td>T'an</td>\n",
       "      <td>607.0</td>\n",
       "      <td>France</td>\n",
       "      <td>Male</td>\n",
       "      <td>29.0</td>\n",
       "      <td>4.0</td>\n",
       "      <td>0.00</td>\n",
       "      <td>2.0</td>\n",
       "      <td>0.0</td>\n",
       "      <td>1.0</td>\n",
       "      <td>61290.99</td>\n",
       "      <td>0.0</td>\n",
       "    </tr>\n",
       "    <tr>\n",
       "      <th>3</th>\n",
       "      <td>3</td>\n",
       "      <td>15733169.0</td>\n",
       "      <td>Chukwufumnanya</td>\n",
       "      <td>669.0</td>\n",
       "      <td>France</td>\n",
       "      <td>Female</td>\n",
       "      <td>28.0</td>\n",
       "      <td>2.0</td>\n",
       "      <td>0.00</td>\n",
       "      <td>2.0</td>\n",
       "      <td>1.0</td>\n",
       "      <td>0.0</td>\n",
       "      <td>97734.30</td>\n",
       "      <td>0.0</td>\n",
       "    </tr>\n",
       "    <tr>\n",
       "      <th>4</th>\n",
       "      <td>4</td>\n",
       "      <td>15795519.0</td>\n",
       "      <td>Hsing</td>\n",
       "      <td>743.0</td>\n",
       "      <td>France</td>\n",
       "      <td>Male</td>\n",
       "      <td>24.0</td>\n",
       "      <td>7.0</td>\n",
       "      <td>0.00</td>\n",
       "      <td>2.0</td>\n",
       "      <td>1.0</td>\n",
       "      <td>0.0</td>\n",
       "      <td>180800.42</td>\n",
       "      <td>0.0</td>\n",
       "    </tr>\n",
       "  </tbody>\n",
       "</table>\n",
       "</div>"
      ],
      "text/plain": [
       "   id  CustomerId         Surname  CreditScore Geography  Gender   Age  \\\n",
       "0   0  15752626.0          Martin        675.0    France  Female  48.0   \n",
       "1   1  15797960.0        Pagnotto        673.0    France  Female  37.0   \n",
       "2   2  15672056.0            T'an        607.0    France    Male  29.0   \n",
       "3   3  15733169.0  Chukwufumnanya        669.0    France  Female  28.0   \n",
       "4   4  15795519.0           Hsing        743.0    France    Male  24.0   \n",
       "\n",
       "   Tenure    Balance  NumOfProducts  HasCrCard  IsActiveMember  \\\n",
       "0     7.0  143582.89            2.0        0.0             0.0   \n",
       "1     7.0       0.00            2.0        0.0             0.0   \n",
       "2     4.0       0.00            2.0        0.0             1.0   \n",
       "3     2.0       0.00            2.0        1.0             0.0   \n",
       "4     7.0       0.00            2.0        1.0             0.0   \n",
       "\n",
       "   EstimatedSalary  Exited  \n",
       "0         93844.82     1.0  \n",
       "1        170980.86     0.0  \n",
       "2         61290.99     0.0  \n",
       "3         97734.30     0.0  \n",
       "4        180800.42     0.0  "
      ]
     },
     "execution_count": 3,
     "metadata": {},
     "output_type": "execute_result"
    }
   ],
   "source": [
    "train.head()"
   ]
  },
  {
   "cell_type": "code",
   "execution_count": 4,
   "id": "62fed12a",
   "metadata": {},
   "outputs": [
    {
     "name": "stdout",
     "output_type": "stream",
     "text": [
      "<class 'pandas.core.frame.DataFrame'>\n",
      "RangeIndex: 15000 entries, 0 to 14999\n",
      "Data columns (total 14 columns):\n",
      " #   Column           Non-Null Count  Dtype  \n",
      "---  ------           --------------  -----  \n",
      " 0   id               15000 non-null  int64  \n",
      " 1   CustomerId       15000 non-null  float64\n",
      " 2   Surname          15000 non-null  object \n",
      " 3   CreditScore      15000 non-null  float64\n",
      " 4   Geography        15000 non-null  object \n",
      " 5   Gender           15000 non-null  object \n",
      " 6   Age              15000 non-null  float64\n",
      " 7   Tenure           15000 non-null  float64\n",
      " 8   Balance          15000 non-null  float64\n",
      " 9   NumOfProducts    15000 non-null  float64\n",
      " 10  HasCrCard        15000 non-null  float64\n",
      " 11  IsActiveMember   15000 non-null  float64\n",
      " 12  EstimatedSalary  15000 non-null  float64\n",
      " 13  Exited           15000 non-null  float64\n",
      "dtypes: float64(10), int64(1), object(3)\n",
      "memory usage: 1.6+ MB\n"
     ]
    }
   ],
   "source": [
    "train.info()"
   ]
  },
  {
   "cell_type": "code",
   "execution_count": 5,
   "id": "0748fe73",
   "metadata": {},
   "outputs": [
    {
     "name": "stdout",
     "output_type": "stream",
     "text": [
      "<class 'pandas.core.frame.DataFrame'>\n",
      "RangeIndex: 10000 entries, 0 to 9999\n",
      "Data columns (total 13 columns):\n",
      " #   Column           Non-Null Count  Dtype  \n",
      "---  ------           --------------  -----  \n",
      " 0   id               10000 non-null  int64  \n",
      " 1   CustomerId       10000 non-null  float64\n",
      " 2   Surname          10000 non-null  object \n",
      " 3   CreditScore      10000 non-null  float64\n",
      " 4   Geography        10000 non-null  object \n",
      " 5   Gender           10000 non-null  object \n",
      " 6   Age              10000 non-null  float64\n",
      " 7   Tenure           10000 non-null  float64\n",
      " 8   Balance          10000 non-null  float64\n",
      " 9   NumOfProducts    10000 non-null  float64\n",
      " 10  HasCrCard        10000 non-null  float64\n",
      " 11  IsActiveMember   10000 non-null  float64\n",
      " 12  EstimatedSalary  10000 non-null  float64\n",
      "dtypes: float64(9), int64(1), object(3)\n",
      "memory usage: 1015.8+ KB\n"
     ]
    }
   ],
   "source": [
    "test.info()"
   ]
  },
  {
   "cell_type": "code",
   "execution_count": 6,
   "id": "4b387717",
   "metadata": {},
   "outputs": [
    {
     "data": {
      "text/plain": [
       "'GPU'"
      ]
     },
     "execution_count": 6,
     "metadata": {},
     "output_type": "execute_result"
    }
   ],
   "source": [
    "is_gpu_available = get_gpu_device_count()\n",
    "device = 'GPU' if is_gpu_available else 'CPU'\n",
    "\n",
    "device"
   ]
  },
  {
   "cell_type": "code",
   "execution_count": 27,
   "id": "62531e2e",
   "metadata": {},
   "outputs": [],
   "source": [
    "train['HasCrCard'] = train['HasCrCard'].astype('int8')\n",
    "train['IsActiveMember'] = train['IsActiveMember'].astype('int8')"
   ]
  },
  {
   "cell_type": "code",
   "execution_count": 15,
   "id": "1cc73ad6",
   "metadata": {},
   "outputs": [],
   "source": [
    "num_cols = train.select_dtypes(include=['number']).columns.tolist()\n",
    "num_cols.remove('id')\n",
    "num_cols.remove('CustomerId')"
   ]
  },
  {
   "cell_type": "code",
   "execution_count": 28,
   "id": "09514fe3",
   "metadata": {},
   "outputs": [
    {
     "data": {
      "image/png": "[encoded data removed]",
      "text/plain": [
       "<Figure size 1500x1000 with 9 Axes>"
      ]
     },
     "metadata": {},
     "output_type": "display_data"
    }
   ],
   "source": [
    "train[num_cols].hist(bins=25, figsize=(15,10))\n",
    "plt.tight_layout()\n",
    "plt.show()"
   ]
  },
  {
   "cell_type": "code",
   "execution_count": 18,
   "id": "ee0c8d62",
   "metadata": {},
   "outputs": [
    {
     "name": "stdout",
     "output_type": "stream",
     "text": [
      "id                 0\n",
      "CustomerId         0\n",
      "Surname            0\n",
      "CreditScore        0\n",
      "Geography          0\n",
      "Gender             0\n",
      "Age                0\n",
      "Tenure             0\n",
      "Balance            0\n",
      "NumOfProducts      0\n",
      "HasCrCard          0\n",
      "IsActiveMember     0\n",
      "EstimatedSalary    0\n",
      "Exited             0\n",
      "dtype: int64\n"
     ]
    }
   ],
   "source": [
    "nan_counts = train.isna().sum()\n",
    "print(nan_counts)"
   ]
  },
  {
   "cell_type": "code",
   "execution_count": 30,
   "id": "65c84a6a",
   "metadata": {},
   "outputs": [
    {
     "data": {
      "text/html": [
       "<div>\n",
       "<style scoped>\n",
       "    .dataframe tbody tr th:only-of-type {\n",
       "        vertical-align: middle;\n",
       "    }\n",
       "\n",
       "    .dataframe tbody tr th {\n",
       "        vertical-align: top;\n",
       "    }\n",
       "\n",
       "    .dataframe thead th {\n",
       "        text-align: right;\n",
       "    }\n",
       "</style>\n",
       "<table border=\"1\" class=\"dataframe\">\n",
       "  <thead>\n",
       "    <tr style=\"text-align: right;\">\n",
       "      <th></th>\n",
       "      <th>id</th>\n",
       "      <th>CustomerId</th>\n",
       "      <th>Surname</th>\n",
       "      <th>CreditScore</th>\n",
       "      <th>Geography</th>\n",
       "      <th>Gender</th>\n",
       "      <th>Age</th>\n",
       "      <th>Tenure</th>\n",
       "      <th>Balance</th>\n",
       "      <th>NumOfProducts</th>\n",
       "      <th>HasCrCard</th>\n",
       "      <th>IsActiveMember</th>\n",
       "      <th>EstimatedSalary</th>\n",
       "      <th>Exited</th>\n",
       "    </tr>\n",
       "  </thead>\n",
       "  <tbody>\n",
       "    <tr>\n",
       "      <th>0</th>\n",
       "      <td>0</td>\n",
       "      <td>15752626.0</td>\n",
       "      <td>Martin</td>\n",
       "      <td>675.0</td>\n",
       "      <td>France</td>\n",
       "      <td>Female</td>\n",
       "      <td>48.0</td>\n",
       "      <td>7.0</td>\n",
       "      <td>143582.89</td>\n",
       "      <td>2.0</td>\n",
       "      <td>0</td>\n",
       "      <td>0</td>\n",
       "      <td>93844.82</td>\n",
       "      <td>1.0</td>\n",
       "    </tr>\n",
       "    <tr>\n",
       "      <th>1</th>\n",
       "      <td>1</td>\n",
       "      <td>15797960.0</td>\n",
       "      <td>Pagnotto</td>\n",
       "      <td>673.0</td>\n",
       "      <td>France</td>\n",
       "      <td>Female</td>\n",
       "      <td>37.0</td>\n",
       "      <td>7.0</td>\n",
       "      <td>0.00</td>\n",
       "      <td>2.0</td>\n",
       "      <td>0</td>\n",
       "      <td>0</td>\n",
       "      <td>170980.86</td>\n",
       "      <td>0.0</td>\n",
       "    </tr>\n",
       "    <tr>\n",
       "      <th>2</th>\n",
       "      <td>2</td>\n",
       "      <td>15672056.0</td>\n",
       "      <td>T'an</td>\n",
       "      <td>607.0</td>\n",
       "      <td>France</td>\n",
       "      <td>Male</td>\n",
       "      <td>29.0</td>\n",
       "      <td>4.0</td>\n",
       "      <td>0.00</td>\n",
       "      <td>2.0</td>\n",
       "      <td>0</td>\n",
       "      <td>1</td>\n",
       "      <td>61290.99</td>\n",
       "      <td>0.0</td>\n",
       "    </tr>\n",
       "    <tr>\n",
       "      <th>3</th>\n",
       "      <td>3</td>\n",
       "      <td>15733169.0</td>\n",
       "      <td>Chukwufumnanya</td>\n",
       "      <td>669.0</td>\n",
       "      <td>France</td>\n",
       "      <td>Female</td>\n",
       "      <td>28.0</td>\n",
       "      <td>2.0</td>\n",
       "      <td>0.00</td>\n",
       "      <td>2.0</td>\n",
       "      <td>1</td>\n",
       "      <td>0</td>\n",
       "      <td>97734.30</td>\n",
       "      <td>0.0</td>\n",
       "    </tr>\n",
       "    <tr>\n",
       "      <th>4</th>\n",
       "      <td>4</td>\n",
       "      <td>15795519.0</td>\n",
       "      <td>Hsing</td>\n",
       "      <td>743.0</td>\n",
       "      <td>France</td>\n",
       "      <td>Male</td>\n",
       "      <td>24.0</td>\n",
       "      <td>7.0</td>\n",
       "      <td>0.00</td>\n",
       "      <td>2.0</td>\n",
       "      <td>1</td>\n",
       "      <td>0</td>\n",
       "      <td>180800.42</td>\n",
       "      <td>0.0</td>\n",
       "    </tr>\n",
       "  </tbody>\n",
       "</table>\n",
       "</div>"
      ],
      "text/plain": [
       "   id  CustomerId         Surname  CreditScore Geography  Gender   Age  \\\n",
       "0   0  15752626.0          Martin        675.0    France  Female  48.0   \n",
       "1   1  15797960.0        Pagnotto        673.0    France  Female  37.0   \n",
       "2   2  15672056.0            T'an        607.0    France    Male  29.0   \n",
       "3   3  15733169.0  Chukwufumnanya        669.0    France  Female  28.0   \n",
       "4   4  15795519.0           Hsing        743.0    France    Male  24.0   \n",
       "\n",
       "   Tenure    Balance  NumOfProducts  HasCrCard  IsActiveMember  \\\n",
       "0     7.0  143582.89            2.0          0               0   \n",
       "1     7.0       0.00            2.0          0               0   \n",
       "2     4.0       0.00            2.0          0               1   \n",
       "3     2.0       0.00            2.0          1               0   \n",
       "4     7.0       0.00            2.0          1               0   \n",
       "\n",
       "   EstimatedSalary  Exited  \n",
       "0         93844.82     1.0  \n",
       "1        170980.86     0.0  \n",
       "2         61290.99     0.0  \n",
       "3         97734.30     0.0  \n",
       "4        180800.42     0.0  "
      ]
     },
     "execution_count": 30,
     "metadata": {},
     "output_type": "execute_result"
    }
   ],
   "source": [
    "train.head()"
   ]
  },
  {
   "cell_type": "code",
   "execution_count": null,
   "id": "bcdf46ba",
   "metadata": {},
   "outputs": [
    {
     "name": "stdout",
     "output_type": "stream",
     "text": [
      "cat_features ['Surname', 'Geography', 'Gender', 'HasCrCard', 'IsActiveMember']\n",
      "num_features 6\n",
      "targets ['Exited']\n"
     ]
    }
   ],
   "source": [
    "cat_features = ['Surname',\n",
    "                'Geography',\n",
    "                'Gender', \n",
    "                'HasCrCard', \n",
    "                'IsActiveMember'\n",
    "                ]\n",
    "\n",
    "target = ['Exited']\n",
    "\n",
    "features2drop = ['id', \n",
    "                 'CustomerId'\n",
    "                 \n",
    "                 ]\n",
    "\n",
    "# Отбираем итоговый набор признаков для использования моделью\n",
    "filtered_features = [i for i in train.columns if (i not in target and i not in features2drop)]\n",
    "num_features = [i for i in filtered_features if i not in cat_features]\n",
    "\n",
    "print(\"cat_features\", cat_features)\n",
    "print(\"num_features\", len(num_features))\n",
    "print(\"targets\", target)"
   ]
  },
  {
   "cell_type": "code",
   "execution_count": 31,
   "id": "d6af029b",
   "metadata": {},
   "outputs": [],
   "source": [
    "X = train[filtered_features].drop(target, axis=1, errors=\"ignore\")\n",
    "y = train[\"Exited\"]"
   ]
  },
  {
   "cell_type": "code",
   "execution_count": 32,
   "id": "39d8234c",
   "metadata": {},
   "outputs": [
    {
     "data": {
      "text/plain": [
       "Exited\n",
       "0.0    0.798867\n",
       "1.0    0.201133\n",
       "Name: proportion, dtype: float64"
      ]
     },
     "execution_count": 32,
     "metadata": {},
     "output_type": "execute_result"
    }
   ],
   "source": [
    "y.value_counts(normalize = True)"
   ]
  },
  {
   "cell_type": "markdown",
   "id": "3484f1b8",
   "metadata": {},
   "source": [
    "Подбор ГП"
   ]
  },
  {
   "cell_type": "code",
   "execution_count": 115,
   "id": "4044223f",
   "metadata": {},
   "outputs": [],
   "source": [
    "def objective(trial):\n",
    "    \n",
    "    #bootstrap_type = trial.suggest_categorical(\"bootstrap_type\", [\n",
    "        #\"Bayesian\", \n",
    "        #\"Bernoulli\", \n",
    "    #    \"MVS\"])\n",
    "\n",
    "    params = {\n",
    "        \"iterations\": 2000,\n",
    "        \"depth\": 6,\n",
    "        \"learning_rate\": trial.suggest_float(\"learning_rate\", 0.06, 0.08, log=False),\n",
    "        \"l2_leaf_reg\": 18,\n",
    "        'max_bin': trial.suggest_int('max_bin', 200, 300),\n",
    "        'min_data_in_leaf': trial.suggest_int('min_data_in_leaf', 100, 200),        \n",
    "        \"bootstrap_type\": 'MVS',\n",
    "        \"random_strength\": 0.15,\n",
    "        \"eval_metric\": \"AUC\",\n",
    "        \"loss_function\": \"Logloss\",\n",
    "        \"verbose\": 100,\n",
    "        \"random_seed\": 42,\n",
    "        \"task_type\": \"GPU\"\n",
    "    }\n",
    "\n",
    "    #if bootstrap_type == \"Bayesian\":\n",
    "    #    params[\"bagging_temperature\"] = trial.suggest_float(\"bagging_temperature\", 0.0, 1.0)\n",
    "\n",
    "    #if bootstrap_type == \"Bernoulli\":\n",
    "    #    params[\"subsample\"] = trial.suggest_float(\"subsample\", 0.6, 1.0)\n",
    "\n",
    "    # Стратифицированная кросс-валидация\n",
    "    cv = StratifiedKFold(n_splits=5, shuffle=True, random_state=42)\n",
    "    scores = []\n",
    "\n",
    "    for train_idx, valid_idx in cv.split(X, y):\n",
    "        X_train, X_valid = X.iloc[train_idx], X.iloc[valid_idx]\n",
    "        y_train, y_valid = y.iloc[train_idx], y.iloc[valid_idx]\n",
    "\n",
    "        train_pool = Pool(X_train, y_train, cat_features=cat_features)\n",
    "        valid_pool = Pool(X_valid, y_valid, cat_features=cat_features)\n",
    "\n",
    "        model = CatBoostClassifier(**params)\n",
    "        model.fit(train_pool, eval_set=valid_pool, early_stopping_rounds=100)\n",
    "\n",
    "        preds = model.predict_proba(X_valid)[:, 1]\n",
    "        score = roc_auc_score(y_valid, preds)\n",
    "        scores.append(score)\n",
    "\n",
    "    return np.mean(scores)"
   ]
  },
  {
   "cell_type": "code",
   "execution_count": 116,
   "id": "e574ed12",
   "metadata": {},
   "outputs": [
    {
     "name": "stderr",
     "output_type": "stream",
     "text": [
      "[I 2025-06-27 22:54:24,358] A new study created in memory with name: no-name-9182f666-3a5b-4e43-9ab1-00e18dfb535d\n",
      "Default metric period is 5 because AUC is/are not implemented for GPU\n"
     ]
    },
    {
     "name": "stdout",
     "output_type": "stream",
     "text": [
      "0:\ttest: 0.9017965\tbest: 0.9017965 (0)\ttotal: 60.7ms\tremaining: 2m 1s\n",
      "100:\ttest: 0.9366929\tbest: 0.9367185 (97)\ttotal: 5.65s\tremaining: 1m 46s\n",
      "200:\ttest: 0.9382836\tbest: 0.9382988 (192)\ttotal: 9.97s\tremaining: 1m 29s\n",
      "300:\ttest: 0.9384349\tbest: 0.9384860 (275)\ttotal: 14.1s\tremaining: 1m 19s\n",
      "400:\ttest: 0.9384397\tbest: 0.9384950 (341)\ttotal: 19.3s\tremaining: 1m 17s\n",
      "bestTest = 0.9384950399\n",
      "bestIteration = 341\n",
      "Shrink model to first 342 iterations.\n"
     ]
    },
    {
     "name": "stderr",
     "output_type": "stream",
     "text": [
      "Default metric period is 5 because AUC is/are not implemented for GPU\n"
     ]
    },
    {
     "name": "stdout",
     "output_type": "stream",
     "text": [
      "0:\ttest: 0.8948952\tbest: 0.8948952 (0)\ttotal: 63.4ms\tremaining: 2m 6s\n",
      "100:\ttest: 0.9300345\tbest: 0.9300801 (98)\ttotal: 5.1s\tremaining: 1m 35s\n",
      "200:\ttest: 0.9320390\tbest: 0.9320390 (200)\ttotal: 10.2s\tremaining: 1m 31s\n",
      "300:\ttest: 0.9327715\tbest: 0.9327750 (299)\ttotal: 16.1s\tremaining: 1m 30s\n",
      "400:\ttest: 0.9331792\tbest: 0.9331986 (397)\ttotal: 23.3s\tremaining: 1m 32s\n",
      "500:\ttest: 0.9332946\tbest: 0.9333713 (446)\ttotal: 30.1s\tremaining: 1m 29s\n",
      "bestTest = 0.9333713055\n",
      "bestIteration = 446\n",
      "Shrink model to first 447 iterations.\n"
     ]
    },
    {
     "name": "stderr",
     "output_type": "stream",
     "text": [
      "Default metric period is 5 because AUC is/are not implemented for GPU\n"
     ]
    },
    {
     "name": "stdout",
     "output_type": "stream",
     "text": [
      "0:\ttest: 0.8999561\tbest: 0.8999561 (0)\ttotal: 65.2ms\tremaining: 2m 10s\n",
      "100:\ttest: 0.9333267\tbest: 0.9333619 (99)\ttotal: 6.36s\tremaining: 1m 59s\n",
      "200:\ttest: 0.9341694\tbest: 0.9341908 (197)\ttotal: 11.1s\tremaining: 1m 39s\n",
      "300:\ttest: 0.9344932\tbest: 0.9344932 (300)\ttotal: 16.4s\tremaining: 1m 32s\n",
      "400:\ttest: 0.9343133\tbest: 0.9344932 (300)\ttotal: 21.6s\tremaining: 1m 26s\n",
      "bestTest = 0.9344931841\n",
      "bestIteration = 300\n",
      "Shrink model to first 301 iterations.\n"
     ]
    },
    {
     "name": "stderr",
     "output_type": "stream",
     "text": [
      "Default metric period is 5 because AUC is/are not implemented for GPU\n"
     ]
    },
    {
     "name": "stdout",
     "output_type": "stream",
     "text": [
      "0:\ttest: 0.9019802\tbest: 0.9019802 (0)\ttotal: 78.1ms\tremaining: 2m 36s\n",
      "100:\ttest: 0.9326003\tbest: 0.9326003 (100)\ttotal: 5.41s\tremaining: 1m 41s\n",
      "200:\ttest: 0.9349726\tbest: 0.9349726 (199)\ttotal: 10.4s\tremaining: 1m 33s\n",
      "300:\ttest: 0.9353967\tbest: 0.9355711 (274)\ttotal: 14.7s\tremaining: 1m 23s\n",
      "bestTest = 0.9355710745\n",
      "bestIteration = 274\n",
      "Shrink model to first 275 iterations.\n"
     ]
    },
    {
     "name": "stderr",
     "output_type": "stream",
     "text": [
      "Default metric period is 5 because AUC is/are not implemented for GPU\n"
     ]
    },
    {
     "name": "stdout",
     "output_type": "stream",
     "text": [
      "0:\ttest: 0.9066000\tbest: 0.9066000 (0)\ttotal: 61.7ms\tremaining: 2m 3s\n",
      "100:\ttest: 0.9365743\tbest: 0.9365916 (99)\ttotal: 6.3s\tremaining: 1m 58s\n",
      "200:\ttest: 0.9379227\tbest: 0.9380673 (184)\ttotal: 12.2s\tremaining: 1m 49s\n",
      "300:\ttest: 0.9383413\tbest: 0.9383489 (294)\ttotal: 17.8s\tremaining: 1m 40s\n",
      "400:\ttest: 0.9392808\tbest: 0.9392905 (399)\ttotal: 22.5s\tremaining: 1m 29s\n",
      "500:\ttest: 0.9392386\tbest: 0.9393306 (420)\ttotal: 27.3s\tremaining: 1m 21s\n"
     ]
    },
    {
     "name": "stderr",
     "output_type": "stream",
     "text": [
      "[I 2025-06-27 22:56:29,951] Trial 0 finished with value: 0.9362207150642223 and parameters: {'learning_rate': 0.07694774951239733, 'max_bin': 269, 'min_data_in_leaf': 149}. Best is trial 0 with value: 0.9362207150642223.\n"
     ]
    },
    {
     "name": "stdout",
     "output_type": "stream",
     "text": [
      "bestTest = 0.9393305779\n",
      "bestIteration = 420\n",
      "Shrink model to first 421 iterations.\n"
     ]
    },
    {
     "name": "stderr",
     "output_type": "stream",
     "text": [
      "Default metric period is 5 because AUC is/are not implemented for GPU\n"
     ]
    },
    {
     "name": "stdout",
     "output_type": "stream",
     "text": [
      "0:\ttest: 0.8969122\tbest: 0.8969122 (0)\ttotal: 57.6ms\tremaining: 1m 55s\n",
      "100:\ttest: 0.9369023\tbest: 0.9369023 (100)\ttotal: 5.21s\tremaining: 1m 38s\n",
      "200:\ttest: 0.9380735\tbest: 0.9381606 (191)\ttotal: 10.9s\tremaining: 1m 37s\n",
      "300:\ttest: 0.9386477\tbest: 0.9386678 (295)\ttotal: 15.1s\tremaining: 1m 25s\n",
      "400:\ttest: 0.9387742\tbest: 0.9389539 (362)\ttotal: 21.6s\tremaining: 1m 26s\n",
      "bestTest = 0.9389538765\n",
      "bestIteration = 362\n",
      "Shrink model to first 363 iterations.\n"
     ]
    },
    {
     "name": "stderr",
     "output_type": "stream",
     "text": [
      "Default metric period is 5 because AUC is/are not implemented for GPU\n"
     ]
    },
    {
     "name": "stdout",
     "output_type": "stream",
     "text": [
      "0:\ttest: 0.8948952\tbest: 0.8948952 (0)\ttotal: 61.1ms\tremaining: 2m 2s\n",
      "100:\ttest: 0.9288073\tbest: 0.9288736 (94)\ttotal: 5.33s\tremaining: 1m 40s\n",
      "200:\ttest: 0.9312851\tbest: 0.9312851 (200)\ttotal: 9.88s\tremaining: 1m 28s\n",
      "300:\ttest: 0.9322311\tbest: 0.9322311 (299)\ttotal: 13.7s\tremaining: 1m 17s\n",
      "400:\ttest: 0.9324765\tbest: 0.9325670 (387)\ttotal: 17.8s\tremaining: 1m 10s\n",
      "500:\ttest: 0.9326713\tbest: 0.9327508 (477)\ttotal: 21.7s\tremaining: 1m 5s\n",
      "600:\ttest: 0.9327369\tbest: 0.9327701 (570)\ttotal: 25.8s\tremaining: 1m\n",
      "700:\ttest: 0.9328517\tbest: 0.9328765 (697)\ttotal: 30.7s\tremaining: 56.9s\n",
      "800:\ttest: 0.9328731\tbest: 0.9328938 (720)\ttotal: 35.5s\tremaining: 53.1s\n",
      "900:\ttest: 0.9331032\tbest: 0.9331067 (884)\ttotal: 39.9s\tremaining: 48.6s\n",
      "1000:\ttest: 0.9331433\tbest: 0.9331453 (997)\ttotal: 43.9s\tremaining: 43.8s\n",
      "1100:\ttest: 0.9330894\tbest: 0.9331495 (1051)\ttotal: 48.1s\tremaining: 39.3s\n",
      "1200:\ttest: 0.9330071\tbest: 0.9331613 (1107)\ttotal: 52.6s\tremaining: 35s\n",
      "bestTest = 0.9331612587\n",
      "bestIteration = 1107\n",
      "Shrink model to first 1108 iterations.\n"
     ]
    },
    {
     "name": "stderr",
     "output_type": "stream",
     "text": [
      "Default metric period is 5 because AUC is/are not implemented for GPU\n"
     ]
    },
    {
     "name": "stdout",
     "output_type": "stream",
     "text": [
      "0:\ttest: 0.9003463\tbest: 0.9003463 (0)\ttotal: 65.5ms\tremaining: 2m 10s\n",
      "100:\ttest: 0.9320800\tbest: 0.9320800 (98)\ttotal: 4.83s\tremaining: 1m 30s\n",
      "200:\ttest: 0.9333813\tbest: 0.9334263 (198)\ttotal: 8.78s\tremaining: 1m 18s\n",
      "300:\ttest: 0.9345831\tbest: 0.9345949 (287)\ttotal: 13.1s\tremaining: 1m 14s\n",
      "400:\ttest: 0.9348481\tbest: 0.9348550 (383)\ttotal: 17.6s\tremaining: 1m 10s\n",
      "500:\ttest: 0.9346896\tbest: 0.9348854 (402)\ttotal: 21.7s\tremaining: 1m 4s\n",
      "bestTest = 0.9348854423\n",
      "bestIteration = 402\n",
      "Shrink model to first 403 iterations.\n"
     ]
    },
    {
     "name": "stderr",
     "output_type": "stream",
     "text": [
      "Default metric period is 5 because AUC is/are not implemented for GPU\n"
     ]
    },
    {
     "name": "stdout",
     "output_type": "stream",
     "text": [
      "0:\ttest: 0.9004270\tbest: 0.9004270 (0)\ttotal: 58.8ms\tremaining: 1m 57s\n",
      "100:\ttest: 0.9331772\tbest: 0.9331772 (100)\ttotal: 4.75s\tremaining: 1m 29s\n",
      "200:\ttest: 0.9351878\tbest: 0.9351878 (200)\ttotal: 9.2s\tremaining: 1m 22s\n",
      "300:\ttest: 0.9355406\tbest: 0.9356465 (297)\ttotal: 13.7s\tremaining: 1m 17s\n",
      "400:\ttest: 0.9357744\tbest: 0.9357980 (397)\ttotal: 17.9s\tremaining: 1m 11s\n",
      "500:\ttest: 0.9361744\tbest: 0.9362429 (492)\ttotal: 21.9s\tremaining: 1m 5s\n",
      "600:\ttest: 0.9362373\tbest: 0.9362442 (594)\ttotal: 25.8s\tremaining: 1m\n",
      "700:\ttest: 0.9363847\tbest: 0.9363847 (700)\ttotal: 30.1s\tremaining: 55.8s\n",
      "800:\ttest: 0.9363003\tbest: 0.9364677 (738)\ttotal: 34.2s\tremaining: 51.2s\n",
      "bestTest = 0.9364677072\n",
      "bestIteration = 738\n",
      "Shrink model to first 739 iterations.\n"
     ]
    },
    {
     "name": "stderr",
     "output_type": "stream",
     "text": [
      "Default metric period is 5 because AUC is/are not implemented for GPU\n"
     ]
    },
    {
     "name": "stdout",
     "output_type": "stream",
     "text": [
      "0:\ttest: 0.9065215\tbest: 0.9065215 (0)\ttotal: 57.1ms\tremaining: 1m 54s\n",
      "100:\ttest: 0.9361377\tbest: 0.9361453 (98)\ttotal: 4.58s\tremaining: 1m 26s\n",
      "200:\ttest: 0.9374176\tbest: 0.9375899 (188)\ttotal: 8.78s\tremaining: 1m 18s\n",
      "300:\ttest: 0.9387557\tbest: 0.9387930 (294)\ttotal: 13.1s\tremaining: 1m 13s\n",
      "400:\ttest: 0.9392995\tbest: 0.9392995 (400)\ttotal: 17.4s\tremaining: 1m 9s\n",
      "500:\ttest: 0.9395022\tbest: 0.9395022 (500)\ttotal: 22s\tremaining: 1m 5s\n",
      "600:\ttest: 0.9396731\tbest: 0.9397063 (597)\ttotal: 26.1s\tremaining: 1m\n",
      "700:\ttest: 0.9393977\tbest: 0.9397104 (623)\ttotal: 30.3s\tremaining: 56.2s\n"
     ]
    },
    {
     "name": "stderr",
     "output_type": "stream",
     "text": [
      "[I 2025-06-27 22:59:18,517] Trial 1 finished with value: 0.936635733534952 and parameters: {'learning_rate': 0.07213941470892607, 'max_bin': 220, 'min_data_in_leaf': 131}. Best is trial 1 with value: 0.936635733534952.\n"
     ]
    },
    {
     "name": "stdout",
     "output_type": "stream",
     "text": [
      "bestTest = 0.9397104383\n",
      "bestIteration = 623\n",
      "Shrink model to first 624 iterations.\n"
     ]
    },
    {
     "name": "stderr",
     "output_type": "stream",
     "text": [
      "Default metric period is 5 because AUC is/are not implemented for GPU\n"
     ]
    },
    {
     "name": "stdout",
     "output_type": "stream",
     "text": [
      "0:\ttest: 0.8969122\tbest: 0.8969122 (0)\ttotal: 59.5ms\tremaining: 1m 58s\n",
      "100:\ttest: 0.9359736\tbest: 0.9360565 (99)\ttotal: 4.92s\tremaining: 1m 32s\n",
      "200:\ttest: 0.9383402\tbest: 0.9383568 (195)\ttotal: 9.36s\tremaining: 1m 23s\n",
      "300:\ttest: 0.9385752\tbest: 0.9387569 (266)\ttotal: 14.7s\tremaining: 1m 23s\n",
      "400:\ttest: 0.9388371\tbest: 0.9390168 (368)\ttotal: 20s\tremaining: 1m 19s\n",
      "bestTest = 0.9390167594\n",
      "bestIteration = 368\n",
      "Shrink model to first 369 iterations.\n"
     ]
    },
    {
     "name": "stderr",
     "output_type": "stream",
     "text": [
      "Default metric period is 5 because AUC is/are not implemented for GPU\n"
     ]
    },
    {
     "name": "stdout",
     "output_type": "stream",
     "text": [
      "0:\ttest: 0.8948952\tbest: 0.8948952 (0)\ttotal: 75.5ms\tremaining: 2m 30s\n",
      "100:\ttest: 0.9294381\tbest: 0.9294381 (100)\ttotal: 5.87s\tremaining: 1m 50s\n",
      "200:\ttest: 0.9320080\tbest: 0.9320080 (200)\ttotal: 11.1s\tremaining: 1m 39s\n",
      "300:\ttest: 0.9331229\tbest: 0.9331371 (278)\ttotal: 16.5s\tremaining: 1m 32s\n",
      "400:\ttest: 0.9336960\tbest: 0.9337078 (398)\ttotal: 24.6s\tremaining: 1m 38s\n",
      "500:\ttest: 0.9340167\tbest: 0.9340581 (468)\ttotal: 30s\tremaining: 1m 29s\n",
      "600:\ttest: 0.9342012\tbest: 0.9342260 (527)\ttotal: 35.4s\tremaining: 1m 22s\n",
      "bestTest = 0.9342260361\n",
      "bestIteration = 527\n",
      "Shrink model to first 528 iterations.\n"
     ]
    },
    {
     "name": "stderr",
     "output_type": "stream",
     "text": [
      "Default metric period is 5 because AUC is/are not implemented for GPU\n"
     ]
    },
    {
     "name": "stdout",
     "output_type": "stream",
     "text": [
      "0:\ttest: 0.9003463\tbest: 0.9003463 (0)\ttotal: 86ms\tremaining: 2m 51s\n",
      "100:\ttest: 0.9325269\tbest: 0.9325269 (100)\ttotal: 7.02s\tremaining: 2m 11s\n",
      "200:\ttest: 0.9334955\tbest: 0.9335093 (196)\ttotal: 11.7s\tremaining: 1m 44s\n",
      "300:\ttest: 0.9342773\tbest: 0.9343022 (272)\ttotal: 15.9s\tremaining: 1m 30s\n",
      "400:\ttest: 0.9346219\tbest: 0.9346219 (400)\ttotal: 20.6s\tremaining: 1m 22s\n",
      "500:\ttest: 0.9345236\tbest: 0.9346713 (422)\ttotal: 24.8s\tremaining: 1m 14s\n",
      "bestTest = 0.9346713126\n",
      "bestIteration = 422\n",
      "Shrink model to first 423 iterations.\n"
     ]
    },
    {
     "name": "stderr",
     "output_type": "stream",
     "text": [
      "Default metric period is 5 because AUC is/are not implemented for GPU\n"
     ]
    },
    {
     "name": "stdout",
     "output_type": "stream",
     "text": [
      "0:\ttest: 0.9004270\tbest: 0.9004270 (0)\ttotal: 56.9ms\tremaining: 1m 53s\n",
      "100:\ttest: 0.9325165\tbest: 0.9325165 (100)\ttotal: 4.6s\tremaining: 1m 26s\n",
      "200:\ttest: 0.9340884\tbest: 0.9340884 (200)\ttotal: 8.38s\tremaining: 1m 15s\n",
      "300:\ttest: 0.9351919\tbest: 0.9352189 (292)\ttotal: 12.3s\tremaining: 1m 9s\n",
      "400:\ttest: 0.9355981\tbest: 0.9355981 (400)\ttotal: 16.3s\tremaining: 1m 4s\n",
      "500:\ttest: 0.9358457\tbest: 0.9359267 (492)\ttotal: 20.1s\tremaining: 1m\n",
      "600:\ttest: 0.9362823\tbest: 0.9362885 (599)\ttotal: 23.8s\tremaining: 55.4s\n",
      "700:\ttest: 0.9365009\tbest: 0.9365272 (680)\ttotal: 27.6s\tremaining: 51.1s\n",
      "800:\ttest: 0.9367168\tbest: 0.9367320 (794)\ttotal: 31.3s\tremaining: 46.9s\n",
      "900:\ttest: 0.9366081\tbest: 0.9367472 (816)\ttotal: 35.2s\tremaining: 42.9s\n",
      "bestTest = 0.9367471933\n",
      "bestIteration = 816\n",
      "Shrink model to first 817 iterations.\n"
     ]
    },
    {
     "name": "stderr",
     "output_type": "stream",
     "text": [
      "Default metric period is 5 because AUC is/are not implemented for GPU\n"
     ]
    },
    {
     "name": "stdout",
     "output_type": "stream",
     "text": [
      "0:\ttest: 0.9066000\tbest: 0.9066000 (0)\ttotal: 58.8ms\tremaining: 1m 57s\n",
      "100:\ttest: 0.9363930\tbest: 0.9364089 (99)\ttotal: 4.65s\tremaining: 1m 27s\n",
      "200:\ttest: 0.9373934\tbest: 0.9374294 (199)\ttotal: 8.62s\tremaining: 1m 17s\n",
      "300:\ttest: 0.9381863\tbest: 0.9382638 (296)\ttotal: 13s\tremaining: 1m 13s\n",
      "400:\ttest: 0.9384872\tbest: 0.9385267 (393)\ttotal: 17.8s\tremaining: 1m 10s\n",
      "500:\ttest: 0.9391016\tbest: 0.9391140 (499)\ttotal: 22.8s\tremaining: 1m 8s\n",
      "600:\ttest: 0.9390490\tbest: 0.9392406 (534)\ttotal: 27.5s\tremaining: 1m 3s\n"
     ]
    },
    {
     "name": "stderr",
     "output_type": "stream",
     "text": [
      "[I 2025-06-27 23:01:52,009] Trial 2 finished with value: 0.9367803280454703 and parameters: {'learning_rate': 0.06010684673919817, 'max_bin': 216, 'min_data_in_leaf': 175}. Best is trial 2 with value: 0.9367803280454703.\n"
     ]
    },
    {
     "name": "stdout",
     "output_type": "stream",
     "text": [
      "bestTest = 0.9392406344\n",
      "bestIteration = 534\n",
      "Shrink model to first 535 iterations.\n"
     ]
    },
    {
     "name": "stderr",
     "output_type": "stream",
     "text": [
      "Default metric period is 5 because AUC is/are not implemented for GPU\n"
     ]
    },
    {
     "name": "stdout",
     "output_type": "stream",
     "text": [
      "0:\ttest: 0.9017965\tbest: 0.9017965 (0)\ttotal: 62.3ms\tremaining: 2m 4s\n",
      "100:\ttest: 0.9372333\tbest: 0.9372333 (100)\ttotal: 5.26s\tremaining: 1m 38s\n",
      "200:\ttest: 0.9378635\tbest: 0.9379408 (185)\ttotal: 9.84s\tremaining: 1m 28s\n",
      "300:\ttest: 0.9382718\tbest: 0.9382718 (300)\ttotal: 13.9s\tremaining: 1m 18s\n",
      "400:\ttest: 0.9383983\tbest: 0.9383997 (399)\ttotal: 18.8s\tremaining: 1m 15s\n",
      "500:\ttest: 0.9385945\tbest: 0.9386312 (479)\ttotal: 23.5s\tremaining: 1m 10s\n",
      "600:\ttest: 0.9384170\tbest: 0.9387072 (543)\ttotal: 28.4s\tremaining: 1m 6s\n",
      "bestTest = 0.9387071729\n",
      "bestIteration = 543\n",
      "Shrink model to first 544 iterations.\n"
     ]
    },
    {
     "name": "stderr",
     "output_type": "stream",
     "text": [
      "Default metric period is 5 because AUC is/are not implemented for GPU\n"
     ]
    },
    {
     "name": "stdout",
     "output_type": "stream",
     "text": [
      "0:\ttest: 0.8948952\tbest: 0.8948952 (0)\ttotal: 101ms\tremaining: 3m 22s\n",
      "100:\ttest: 0.9301913\tbest: 0.9301913 (100)\ttotal: 5.35s\tremaining: 1m 40s\n",
      "200:\ttest: 0.9320225\tbest: 0.9320384 (198)\ttotal: 9.84s\tremaining: 1m 28s\n",
      "300:\ttest: 0.9326354\tbest: 0.9326354 (300)\ttotal: 14.6s\tremaining: 1m 22s\n",
      "400:\ttest: 0.9328047\tbest: 0.9328164 (348)\ttotal: 18.7s\tremaining: 1m 14s\n",
      "500:\ttest: 0.9328648\tbest: 0.9329677 (462)\ttotal: 23.8s\tremaining: 1m 11s\n",
      "600:\ttest: 0.9327453\tbest: 0.9329926 (542)\ttotal: 28.4s\tremaining: 1m 6s\n",
      "700:\ttest: 0.9331557\tbest: 0.9331605 (699)\ttotal: 32.8s\tremaining: 1m\n",
      "800:\ttest: 0.9332904\tbest: 0.9333802 (722)\ttotal: 37s\tremaining: 55.4s\n",
      "900:\ttest: 0.9334155\tbest: 0.9334515 (842)\ttotal: 40.6s\tremaining: 49.5s\n",
      "bestTest = 0.9334514737\n",
      "bestIteration = 842\n",
      "Shrink model to first 843 iterations.\n"
     ]
    },
    {
     "name": "stderr",
     "output_type": "stream",
     "text": [
      "Default metric period is 5 because AUC is/are not implemented for GPU\n"
     ]
    },
    {
     "name": "stdout",
     "output_type": "stream",
     "text": [
      "0:\ttest: 0.8999561\tbest: 0.8999561 (0)\ttotal: 60.9ms\tremaining: 2m 1s\n",
      "100:\ttest: 0.9326210\tbest: 0.9326210 (100)\ttotal: 4.31s\tremaining: 1m 20s\n",
      "200:\ttest: 0.9337294\tbest: 0.9337529 (199)\ttotal: 8.12s\tremaining: 1m 12s\n",
      "300:\ttest: 0.9343548\tbest: 0.9343548 (299)\ttotal: 11.7s\tremaining: 1m 6s\n",
      "400:\ttest: 0.9345942\tbest: 0.9345970 (394)\ttotal: 15.6s\tremaining: 1m 2s\n",
      "500:\ttest: 0.9349850\tbest: 0.9350058 (492)\ttotal: 19.6s\tremaining: 58.7s\n",
      "600:\ttest: 0.9349179\tbest: 0.9350508 (509)\ttotal: 23.5s\tremaining: 54.7s\n",
      "bestTest = 0.9350507855\n",
      "bestIteration = 509\n",
      "Shrink model to first 510 iterations.\n"
     ]
    },
    {
     "name": "stderr",
     "output_type": "stream",
     "text": [
      "Default metric period is 5 because AUC is/are not implemented for GPU\n"
     ]
    },
    {
     "name": "stdout",
     "output_type": "stream",
     "text": [
      "0:\ttest: 0.9019802\tbest: 0.9019802 (0)\ttotal: 58.7ms\tremaining: 1m 57s\n",
      "100:\ttest: 0.9324017\tbest: 0.9324017 (100)\ttotal: 4.77s\tremaining: 1m 29s\n",
      "200:\ttest: 0.9351442\tbest: 0.9351511 (199)\ttotal: 9.55s\tremaining: 1m 25s\n",
      "300:\ttest: 0.9360837\tbest: 0.9360837 (300)\ttotal: 14s\tremaining: 1m 19s\n",
      "400:\ttest: 0.9363383\tbest: 0.9363473 (399)\ttotal: 19.9s\tremaining: 1m 19s\n",
      "500:\ttest: 0.9366351\tbest: 0.9366359 (497)\ttotal: 24.6s\tremaining: 1m 13s\n",
      "600:\ttest: 0.9365341\tbest: 0.9366787 (515)\ttotal: 28.6s\tremaining: 1m 6s\n",
      "bestTest = 0.9366787076\n",
      "bestIteration = 515\n",
      "Shrink model to first 516 iterations.\n"
     ]
    },
    {
     "name": "stderr",
     "output_type": "stream",
     "text": [
      "Default metric period is 5 because AUC is/are not implemented for GPU\n"
     ]
    },
    {
     "name": "stdout",
     "output_type": "stream",
     "text": [
      "0:\ttest: 0.9066000\tbest: 0.9066000 (0)\ttotal: 56.3ms\tremaining: 1m 52s\n",
      "100:\ttest: 0.9362698\tbest: 0.9363210 (87)\ttotal: 4.89s\tremaining: 1m 32s\n",
      "200:\ttest: 0.9380950\tbest: 0.9381192 (199)\ttotal: 8.71s\tremaining: 1m 17s\n",
      "300:\ttest: 0.9392220\tbest: 0.9392849 (259)\ttotal: 13s\tremaining: 1m 13s\n",
      "400:\ttest: 0.9396724\tbest: 0.9397354 (396)\ttotal: 18.1s\tremaining: 1m 12s\n",
      "500:\ttest: 0.9399484\tbest: 0.9399657 (489)\ttotal: 23s\tremaining: 1m 8s\n",
      "600:\ttest: 0.9401131\tbest: 0.9401131 (600)\ttotal: 27.7s\tremaining: 1m 4s\n",
      "700:\ttest: 0.9401090\tbest: 0.9401297 (694)\ttotal: 32.6s\tremaining: 1m\n",
      "800:\ttest: 0.9400508\tbest: 0.9401435 (703)\ttotal: 37.3s\tremaining: 55.8s\n",
      "bestTest = 0.9401435256\n",
      "bestIteration = 703\n",
      "Shrink model to first 704 iterations.\n"
     ]
    },
    {
     "name": "stderr",
     "output_type": "stream",
     "text": [
      "[I 2025-06-27 23:04:37,768] Trial 3 finished with value: 0.9366951894390916 and parameters: {'learning_rate': 0.07002452820559008, 'max_bin': 299, 'min_data_in_leaf': 185}. Best is trial 2 with value: 0.9367803280454703.\n",
      "Default metric period is 5 because AUC is/are not implemented for GPU\n"
     ]
    },
    {
     "name": "stdout",
     "output_type": "stream",
     "text": [
      "0:\ttest: 0.8969122\tbest: 0.8969122 (0)\ttotal: 63.4ms\tremaining: 2m 6s\n",
      "100:\ttest: 0.9364276\tbest: 0.9364939 (97)\ttotal: 5.59s\tremaining: 1m 45s\n",
      "200:\ttest: 0.9379416\tbest: 0.9380141 (194)\ttotal: 10.2s\tremaining: 1m 30s\n",
      "300:\ttest: 0.9385358\tbest: 0.9385586 (263)\ttotal: 14.6s\tremaining: 1m 22s\n",
      "400:\ttest: 0.9388585\tbest: 0.9388585 (400)\ttotal: 19.2s\tremaining: 1m 16s\n",
      "500:\ttest: 0.9389552\tbest: 0.9390824 (439)\ttotal: 24s\tremaining: 1m 11s\n",
      "bestTest = 0.9390823841\n",
      "bestIteration = 439\n",
      "Shrink model to first 440 iterations.\n"
     ]
    },
    {
     "name": "stderr",
     "output_type": "stream",
     "text": [
      "Default metric period is 5 because AUC is/are not implemented for GPU\n"
     ]
    },
    {
     "name": "stdout",
     "output_type": "stream",
     "text": [
      "0:\ttest: 0.8948952\tbest: 0.8948952 (0)\ttotal: 62.9ms\tremaining: 2m 5s\n",
      "100:\ttest: 0.9289067\tbest: 0.9290463 (93)\ttotal: 5.5s\tremaining: 1m 43s\n",
      "200:\ttest: 0.9308706\tbest: 0.9308989 (191)\ttotal: 9.99s\tremaining: 1m 29s\n",
      "300:\ttest: 0.9321468\tbest: 0.9321468 (300)\ttotal: 14.8s\tremaining: 1m 23s\n",
      "400:\ttest: 0.9326465\tbest: 0.9327342 (379)\ttotal: 19.7s\tremaining: 1m 18s\n",
      "500:\ttest: 0.9329567\tbest: 0.9329788 (488)\ttotal: 24.4s\tremaining: 1m 13s\n",
      "600:\ttest: 0.9330313\tbest: 0.9331363 (520)\ttotal: 29.3s\tremaining: 1m 8s\n",
      "bestTest = 0.933136344\n",
      "bestIteration = 520\n",
      "Shrink model to first 521 iterations.\n"
     ]
    },
    {
     "name": "stderr",
     "output_type": "stream",
     "text": [
      "Default metric period is 5 because AUC is/are not implemented for GPU\n"
     ]
    },
    {
     "name": "stdout",
     "output_type": "stream",
     "text": [
      "0:\ttest: 0.9003463\tbest: 0.9003463 (0)\ttotal: 66.8ms\tremaining: 2m 13s\n",
      "100:\ttest: 0.9332623\tbest: 0.9332623 (99)\ttotal: 5.03s\tremaining: 1m 34s\n",
      "200:\ttest: 0.9347796\tbest: 0.9347796 (199)\ttotal: 8.96s\tremaining: 1m 20s\n",
      "300:\ttest: 0.9352320\tbest: 0.9352909 (287)\ttotal: 13s\tremaining: 1m 13s\n",
      "400:\ttest: 0.9354258\tbest: 0.9354258 (400)\ttotal: 16.6s\tremaining: 1m 6s\n",
      "500:\ttest: 0.9353241\tbest: 0.9354804 (452)\ttotal: 20.6s\tremaining: 1m 1s\n",
      "bestTest = 0.9354804158\n",
      "bestIteration = 452\n",
      "Shrink model to first 453 iterations.\n"
     ]
    },
    {
     "name": "stderr",
     "output_type": "stream",
     "text": [
      "Default metric period is 5 because AUC is/are not implemented for GPU\n"
     ]
    },
    {
     "name": "stdout",
     "output_type": "stream",
     "text": [
      "0:\ttest: 0.9004270\tbest: 0.9004270 (0)\ttotal: 56.3ms\tremaining: 1m 52s\n",
      "100:\ttest: 0.9334430\tbest: 0.9334430 (100)\ttotal: 4.45s\tremaining: 1m 23s\n",
      "200:\ttest: 0.9351241\tbest: 0.9351691 (194)\ttotal: 8.46s\tremaining: 1m 15s\n",
      "300:\ttest: 0.9356506\tbest: 0.9356506 (287)\ttotal: 12.2s\tremaining: 1m 8s\n",
      "400:\ttest: 0.9362283\tbest: 0.9363459 (380)\ttotal: 16.4s\tremaining: 1m 5s\n",
      "500:\ttest: 0.9366469\tbest: 0.9366518 (494)\ttotal: 20.4s\tremaining: 1m 1s\n",
      "600:\ttest: 0.9367244\tbest: 0.9368987 (551)\ttotal: 24.4s\tremaining: 56.9s\n",
      "bestTest = 0.9368987083\n",
      "bestIteration = 551\n",
      "Shrink model to first 552 iterations.\n"
     ]
    },
    {
     "name": "stderr",
     "output_type": "stream",
     "text": [
      "Default metric period is 5 because AUC is/are not implemented for GPU\n"
     ]
    },
    {
     "name": "stdout",
     "output_type": "stream",
     "text": [
      "0:\ttest: 0.9065215\tbest: 0.9065215 (0)\ttotal: 55.9ms\tremaining: 1m 51s\n",
      "100:\ttest: 0.9369894\tbest: 0.9372128 (79)\ttotal: 4.89s\tremaining: 1m 31s\n",
      "200:\ttest: 0.9385868\tbest: 0.9385868 (200)\ttotal: 9.11s\tremaining: 1m 21s\n",
      "300:\ttest: 0.9394711\tbest: 0.9394738 (292)\ttotal: 14.1s\tremaining: 1m 19s\n",
      "400:\ttest: 0.9398502\tbest: 0.9398765 (389)\ttotal: 19s\tremaining: 1m 15s\n",
      "500:\ttest: 0.9400723\tbest: 0.9401262 (489)\ttotal: 23.7s\tremaining: 1m 10s\n"
     ]
    },
    {
     "name": "stderr",
     "output_type": "stream",
     "text": [
      "[I 2025-06-27 23:06:53,876] Trial 4 finished with value: 0.9369448283274782 and parameters: {'learning_rate': 0.07426445644320168, 'max_bin': 228, 'min_data_in_leaf': 175}. Best is trial 4 with value: 0.9369448283274782.\n"
     ]
    },
    {
     "name": "stdout",
     "output_type": "stream",
     "text": [
      "bestTest = 0.9401262403\n",
      "bestIteration = 489\n",
      "Shrink model to first 490 iterations.\n"
     ]
    },
    {
     "name": "stderr",
     "output_type": "stream",
     "text": [
      "Default metric period is 5 because AUC is/are not implemented for GPU\n"
     ]
    },
    {
     "name": "stdout",
     "output_type": "stream",
     "text": [
      "0:\ttest: 0.9017965\tbest: 0.9017965 (0)\ttotal: 65.6ms\tremaining: 2m 11s\n",
      "100:\ttest: 0.9364980\tbest: 0.9364980 (100)\ttotal: 5.51s\tremaining: 1m 43s\n",
      "200:\ttest: 0.9377100\tbest: 0.9377515 (192)\ttotal: 9.98s\tremaining: 1m 29s\n",
      "300:\ttest: 0.9381350\tbest: 0.9382041 (286)\ttotal: 14.4s\tremaining: 1m 21s\n",
      "400:\ttest: 0.9385911\tbest: 0.9386422 (377)\ttotal: 19.1s\tremaining: 1m 16s\n",
      "500:\ttest: 0.9385710\tbest: 0.9387397 (479)\ttotal: 23.6s\tremaining: 1m 10s\n",
      "bestTest = 0.9387396574\n",
      "bestIteration = 479\n",
      "Shrink model to first 480 iterations.\n"
     ]
    },
    {
     "name": "stderr",
     "output_type": "stream",
     "text": [
      "Default metric period is 5 because AUC is/are not implemented for GPU\n"
     ]
    },
    {
     "name": "stdout",
     "output_type": "stream",
     "text": [
      "0:\ttest: 0.8948952\tbest: 0.8948952 (0)\ttotal: 63.6ms\tremaining: 2m 7s\n",
      "100:\ttest: 0.9288978\tbest: 0.9288978 (100)\ttotal: 5.17s\tremaining: 1m 37s\n",
      "200:\ttest: 0.9311290\tbest: 0.9311290 (200)\ttotal: 9.93s\tremaining: 1m 28s\n",
      "300:\ttest: 0.9322747\tbest: 0.9323058 (295)\ttotal: 14.5s\tremaining: 1m 22s\n",
      "400:\ttest: 0.9326859\tbest: 0.9326962 (396)\ttotal: 19.3s\tremaining: 1m 16s\n",
      "500:\ttest: 0.9328551\tbest: 0.9329048 (491)\ttotal: 24.1s\tremaining: 1m 12s\n",
      "600:\ttest: 0.9329982\tbest: 0.9330279 (559)\ttotal: 28.8s\tremaining: 1m 7s\n",
      "700:\ttest: 0.9330279\tbest: 0.9330887 (624)\ttotal: 33.6s\tremaining: 1m 2s\n",
      "bestTest = 0.9330886602\n",
      "bestIteration = 624\n",
      "Shrink model to first 625 iterations.\n"
     ]
    },
    {
     "name": "stderr",
     "output_type": "stream",
     "text": [
      "Default metric period is 5 because AUC is/are not implemented for GPU\n"
     ]
    },
    {
     "name": "stdout",
     "output_type": "stream",
     "text": [
      "0:\ttest: 0.8999561\tbest: 0.8999561 (0)\ttotal: 69.8ms\tremaining: 2m 19s\n",
      "100:\ttest: 0.9335308\tbest: 0.9335612 (97)\ttotal: 5.35s\tremaining: 1m 40s\n",
      "200:\ttest: 0.9347270\tbest: 0.9347270 (200)\ttotal: 9.9s\tremaining: 1m 28s\n",
      "300:\ttest: 0.9348744\tbest: 0.9349491 (271)\ttotal: 14.7s\tremaining: 1m 22s\n",
      "bestTest = 0.9349491\n",
      "bestIteration = 271\n",
      "Shrink model to first 272 iterations.\n"
     ]
    },
    {
     "name": "stderr",
     "output_type": "stream",
     "text": [
      "Default metric period is 5 because AUC is/are not implemented for GPU\n"
     ]
    },
    {
     "name": "stdout",
     "output_type": "stream",
     "text": [
      "0:\ttest: 0.9019802\tbest: 0.9019802 (0)\ttotal: 62.8ms\tremaining: 2m 5s\n",
      "100:\ttest: 0.9326183\tbest: 0.9326183 (100)\ttotal: 5.04s\tremaining: 1m 34s\n",
      "200:\ttest: 0.9343541\tbest: 0.9343845 (198)\ttotal: 8.89s\tremaining: 1m 19s\n",
      "300:\ttest: 0.9355310\tbest: 0.9355337 (294)\ttotal: 13.4s\tremaining: 1m 15s\n",
      "400:\ttest: 0.9356631\tbest: 0.9357247 (380)\ttotal: 17.5s\tremaining: 1m 9s\n",
      "500:\ttest: 0.9358326\tbest: 0.9359025 (442)\ttotal: 21.5s\tremaining: 1m 4s\n",
      "600:\ttest: 0.9360920\tbest: 0.9361045 (565)\ttotal: 25.7s\tremaining: 59.9s\n",
      "bestTest = 0.9361044765\n",
      "bestIteration = 565\n",
      "Shrink model to first 566 iterations.\n"
     ]
    },
    {
     "name": "stderr",
     "output_type": "stream",
     "text": [
      "Default metric period is 5 because AUC is/are not implemented for GPU\n"
     ]
    },
    {
     "name": "stdout",
     "output_type": "stream",
     "text": [
      "0:\ttest: 0.9066000\tbest: 0.9066000 (0)\ttotal: 56.8ms\tremaining: 1m 53s\n",
      "100:\ttest: 0.9366649\tbest: 0.9367707 (95)\ttotal: 5.21s\tremaining: 1m 37s\n",
      "200:\ttest: 0.9377649\tbest: 0.9377649 (200)\ttotal: 9.44s\tremaining: 1m 24s\n",
      "300:\ttest: 0.9381676\tbest: 0.9383385 (276)\ttotal: 13.8s\tremaining: 1m 17s\n",
      "400:\ttest: 0.9385052\tbest: 0.9385495 (382)\ttotal: 17.6s\tremaining: 1m 10s\n",
      "500:\ttest: 0.9388366\tbest: 0.9388366 (500)\ttotal: 21.8s\tremaining: 1m 5s\n",
      "600:\ttest: 0.9390663\tbest: 0.9390926 (598)\ttotal: 26.6s\tremaining: 1m 2s\n",
      "700:\ttest: 0.9393161\tbest: 0.9393479 (662)\ttotal: 33.7s\tremaining: 1m 2s\n",
      "800:\ttest: 0.9394732\tbest: 0.9394794 (753)\ttotal: 40.9s\tremaining: 1m 1s\n",
      "900:\ttest: 0.9394205\tbest: 0.9395333 (812)\ttotal: 46.3s\tremaining: 56.5s\n"
     ]
    },
    {
     "name": "stderr",
     "output_type": "stream",
     "text": [
      "[I 2025-06-27 23:09:31,777] Trial 5 finished with value: 0.9364137386464817 and parameters: {'learning_rate': 0.06136448027027146, 'max_bin': 293, 'min_data_in_leaf': 128}. Best is trial 4 with value: 0.9369448283274782.\n"
     ]
    },
    {
     "name": "stdout",
     "output_type": "stream",
     "text": [
      "bestTest = 0.9395332932\n",
      "bestIteration = 812\n",
      "Shrink model to first 813 iterations.\n"
     ]
    },
    {
     "name": "stderr",
     "output_type": "stream",
     "text": [
      "Default metric period is 5 because AUC is/are not implemented for GPU\n"
     ]
    },
    {
     "name": "stdout",
     "output_type": "stream",
     "text": [
      "0:\ttest: 0.9017965\tbest: 0.9017965 (0)\ttotal: 65.5ms\tremaining: 2m 11s\n",
      "100:\ttest: 0.9359847\tbest: 0.9359992 (99)\ttotal: 5.16s\tremaining: 1m 37s\n",
      "200:\ttest: 0.9381025\tbest: 0.9381087 (199)\ttotal: 11.3s\tremaining: 1m 41s\n",
      "300:\ttest: 0.9385427\tbest: 0.9385683 (295)\ttotal: 16.4s\tremaining: 1m 32s\n",
      "400:\ttest: 0.9387479\tbest: 0.9387479 (400)\ttotal: 21.2s\tremaining: 1m 24s\n",
      "500:\ttest: 0.9384108\tbest: 0.9387479 (400)\ttotal: 25.9s\tremaining: 1m 17s\n",
      "bestTest = 0.9387479424\n",
      "bestIteration = 400\n",
      "Shrink model to first 401 iterations.\n"
     ]
    },
    {
     "name": "stderr",
     "output_type": "stream",
     "text": [
      "Default metric period is 5 because AUC is/are not implemented for GPU\n"
     ]
    },
    {
     "name": "stdout",
     "output_type": "stream",
     "text": [
      "0:\ttest: 0.8948952\tbest: 0.8948952 (0)\ttotal: 64ms\tremaining: 2m 7s\n",
      "100:\ttest: 0.9289320\tbest: 0.9289320 (99)\ttotal: 5.17s\tremaining: 1m 37s\n",
      "200:\ttest: 0.9311933\tbest: 0.9312914 (175)\ttotal: 9.88s\tremaining: 1m 28s\n",
      "300:\ttest: 0.9321510\tbest: 0.9322111 (285)\ttotal: 15.6s\tremaining: 1m 28s\n",
      "400:\ttest: 0.9323078\tbest: 0.9323168 (398)\ttotal: 20.3s\tremaining: 1m 20s\n",
      "500:\ttest: 0.9324757\tbest: 0.9324757 (500)\ttotal: 24.5s\tremaining: 1m 13s\n",
      "600:\ttest: 0.9323984\tbest: 0.9324757 (500)\ttotal: 29.1s\tremaining: 1m 7s\n",
      "bestTest = 0.9324757457\n",
      "bestIteration = 500\n",
      "Shrink model to first 501 iterations.\n"
     ]
    },
    {
     "name": "stderr",
     "output_type": "stream",
     "text": [
      "Default metric period is 5 because AUC is/are not implemented for GPU\n"
     ]
    },
    {
     "name": "stdout",
     "output_type": "stream",
     "text": [
      "0:\ttest: 0.8999561\tbest: 0.8999561 (0)\ttotal: 69.7ms\tremaining: 2m 19s\n",
      "100:\ttest: 0.9337978\tbest: 0.9337978 (100)\ttotal: 5.17s\tremaining: 1m 37s\n",
      "200:\ttest: 0.9345347\tbest: 0.9345880 (178)\ttotal: 9.86s\tremaining: 1m 28s\n",
      "300:\ttest: 0.9350093\tbest: 0.9350093 (300)\ttotal: 14.5s\tremaining: 1m 21s\n",
      "400:\ttest: 0.9350709\tbest: 0.9351131 (349)\ttotal: 19.2s\tremaining: 1m 16s\n",
      "bestTest = 0.9351130724\n",
      "bestIteration = 349\n",
      "Shrink model to first 350 iterations.\n"
     ]
    },
    {
     "name": "stderr",
     "output_type": "stream",
     "text": [
      "Default metric period is 5 because AUC is/are not implemented for GPU\n"
     ]
    },
    {
     "name": "stdout",
     "output_type": "stream",
     "text": [
      "0:\ttest: 0.9019802\tbest: 0.9019802 (0)\ttotal: 60.9ms\tremaining: 2m 1s\n",
      "100:\ttest: 0.9330527\tbest: 0.9330527 (100)\ttotal: 4.54s\tremaining: 1m 25s\n",
      "200:\ttest: 0.9350930\tbest: 0.9350930 (200)\ttotal: 8.5s\tremaining: 1m 16s\n",
      "300:\ttest: 0.9356797\tbest: 0.9357101 (293)\ttotal: 12.5s\tremaining: 1m 10s\n",
      "400:\ttest: 0.9360132\tbest: 0.9360387 (399)\ttotal: 16.5s\tremaining: 1m 5s\n",
      "500:\ttest: 0.9361066\tbest: 0.9361626 (485)\ttotal: 20.6s\tremaining: 1m 1s\n",
      "600:\ttest: 0.9361086\tbest: 0.9361716 (542)\ttotal: 24.8s\tremaining: 57.8s\n",
      "bestTest = 0.9361715913\n",
      "bestIteration = 542\n",
      "Shrink model to first 543 iterations.\n"
     ]
    },
    {
     "name": "stderr",
     "output_type": "stream",
     "text": [
      "Default metric period is 5 because AUC is/are not implemented for GPU\n"
     ]
    },
    {
     "name": "stdout",
     "output_type": "stream",
     "text": [
      "0:\ttest: 0.9066000\tbest: 0.9066000 (0)\ttotal: 56.8ms\tremaining: 1m 53s\n",
      "100:\ttest: 0.9363487\tbest: 0.9363487 (100)\ttotal: 4.82s\tremaining: 1m 30s\n",
      "200:\ttest: 0.9378555\tbest: 0.9380161 (159)\ttotal: 9.09s\tremaining: 1m 21s\n",
      "300:\ttest: 0.9383675\tbest: 0.9383675 (300)\ttotal: 13s\tremaining: 1m 13s\n",
      "400:\ttest: 0.9387176\tbest: 0.9387294 (397)\ttotal: 17s\tremaining: 1m 7s\n",
      "500:\ttest: 0.9389508\tbest: 0.9389709 (498)\ttotal: 21.4s\tremaining: 1m 3s\n",
      "600:\ttest: 0.9390455\tbest: 0.9391071 (579)\ttotal: 25.6s\tremaining: 59.6s\n",
      "700:\ttest: 0.9391943\tbest: 0.9391943 (700)\ttotal: 29.6s\tremaining: 54.8s\n",
      "800:\ttest: 0.9391715\tbest: 0.9393023 (721)\ttotal: 34.2s\tremaining: 51.2s\n"
     ]
    },
    {
     "name": "stderr",
     "output_type": "stream",
     "text": [
      "[I 2025-06-27 23:11:52,945] Trial 6 finished with value: 0.9363011150278858 and parameters: {'learning_rate': 0.07517450146482087, 'max_bin': 273, 'min_data_in_leaf': 157}. Best is trial 4 with value: 0.9369448283274782.\n"
     ]
    },
    {
     "name": "stdout",
     "output_type": "stream",
     "text": [
      "bestTest = 0.9393022656\n",
      "bestIteration = 721\n",
      "Shrink model to first 722 iterations.\n"
     ]
    },
    {
     "name": "stderr",
     "output_type": "stream",
     "text": [
      "Default metric period is 5 because AUC is/are not implemented for GPU\n"
     ]
    },
    {
     "name": "stdout",
     "output_type": "stream",
     "text": [
      "0:\ttest: 0.8969122\tbest: 0.8969122 (0)\ttotal: 65.8ms\tremaining: 2m 11s\n",
      "100:\ttest: 0.9375228\tbest: 0.9375228 (100)\ttotal: 5.09s\tremaining: 1m 35s\n",
      "200:\ttest: 0.9384121\tbest: 0.9384280 (199)\ttotal: 9.58s\tremaining: 1m 25s\n",
      "300:\ttest: 0.9390153\tbest: 0.9390306 (294)\ttotal: 14.2s\tremaining: 1m 20s\n",
      "400:\ttest: 0.9390105\tbest: 0.9390928 (323)\ttotal: 19s\tremaining: 1m 15s\n",
      "bestTest = 0.9390927553\n",
      "bestIteration = 323\n",
      "Shrink model to first 324 iterations.\n"
     ]
    },
    {
     "name": "stderr",
     "output_type": "stream",
     "text": [
      "Default metric period is 5 because AUC is/are not implemented for GPU\n"
     ]
    },
    {
     "name": "stdout",
     "output_type": "stream",
     "text": [
      "0:\ttest: 0.8948952\tbest: 0.8948952 (0)\ttotal: 65.5ms\tremaining: 2m 10s\n",
      "100:\ttest: 0.9294195\tbest: 0.9294195 (100)\ttotal: 5.16s\tremaining: 1m 37s\n",
      "200:\ttest: 0.9317157\tbest: 0.9317488 (192)\ttotal: 9.92s\tremaining: 1m 28s\n",
      "300:\ttest: 0.9324605\tbest: 0.9324702 (293)\ttotal: 14.4s\tremaining: 1m 21s\n",
      "400:\ttest: 0.9325877\tbest: 0.9326831 (387)\ttotal: 19.5s\tremaining: 1m 17s\n",
      "500:\ttest: 0.9328634\tbest: 0.9329201 (461)\ttotal: 24.3s\tremaining: 1m 12s\n",
      "600:\ttest: 0.9333464\tbest: 0.9333575 (599)\ttotal: 29.3s\tremaining: 1m 8s\n",
      "700:\ttest: 0.9333588\tbest: 0.9334183 (629)\ttotal: 33.7s\tremaining: 1m 2s\n",
      "bestTest = 0.9334182739\n",
      "bestIteration = 629\n",
      "Shrink model to first 630 iterations.\n"
     ]
    },
    {
     "name": "stderr",
     "output_type": "stream",
     "text": [
      "Default metric period is 5 because AUC is/are not implemented for GPU\n"
     ]
    },
    {
     "name": "stdout",
     "output_type": "stream",
     "text": [
      "0:\ttest: 0.9003463\tbest: 0.9003463 (0)\ttotal: 70.2ms\tremaining: 2m 20s\n",
      "100:\ttest: 0.9329704\tbest: 0.9330652 (89)\ttotal: 5.38s\tremaining: 1m 41s\n",
      "200:\ttest: 0.9341362\tbest: 0.9341362 (200)\ttotal: 10.1s\tremaining: 1m 30s\n",
      "300:\ttest: 0.9343534\tbest: 0.9344081 (263)\ttotal: 15.1s\tremaining: 1m 24s\n",
      "400:\ttest: 0.9348460\tbest: 0.9348460 (400)\ttotal: 19.6s\tremaining: 1m 17s\n",
      "500:\ttest: 0.9347138\tbest: 0.9348460 (400)\ttotal: 24.1s\tremaining: 1m 12s\n",
      "bestTest = 0.934845984\n",
      "bestIteration = 400\n",
      "Shrink model to first 401 iterations.\n"
     ]
    },
    {
     "name": "stderr",
     "output_type": "stream",
     "text": [
      "Default metric period is 5 because AUC is/are not implemented for GPU\n"
     ]
    },
    {
     "name": "stdout",
     "output_type": "stream",
     "text": [
      "0:\ttest: 0.9004270\tbest: 0.9004270 (0)\ttotal: 64.3ms\tremaining: 2m 8s\n",
      "100:\ttest: 0.9331800\tbest: 0.9331800 (100)\ttotal: 4.8s\tremaining: 1m 30s\n",
      "200:\ttest: 0.9355026\tbest: 0.9355026 (200)\ttotal: 9.27s\tremaining: 1m 23s\n",
      "300:\ttest: 0.9363937\tbest: 0.9363979 (296)\ttotal: 13.8s\tremaining: 1m 17s\n",
      "400:\ttest: 0.9365874\tbest: 0.9365991 (379)\ttotal: 19.6s\tremaining: 1m 18s\n",
      "500:\ttest: 0.9364587\tbest: 0.9366199 (407)\ttotal: 25.3s\tremaining: 1m 15s\n",
      "bestTest = 0.9366199374\n",
      "bestIteration = 407\n",
      "Shrink model to first 408 iterations.\n"
     ]
    },
    {
     "name": "stderr",
     "output_type": "stream",
     "text": [
      "Default metric period is 5 because AUC is/are not implemented for GPU\n"
     ]
    },
    {
     "name": "stdout",
     "output_type": "stream",
     "text": [
      "0:\ttest: 0.9065215\tbest: 0.9065215 (0)\ttotal: 60.5ms\tremaining: 2m 1s\n",
      "100:\ttest: 0.9379220\tbest: 0.9380175 (90)\ttotal: 6.14s\tremaining: 1m 55s\n",
      "200:\ttest: 0.9388242\tbest: 0.9388415 (186)\ttotal: 11.3s\tremaining: 1m 41s\n",
      "300:\ttest: 0.9392019\tbest: 0.9392172 (233)\ttotal: 15.8s\tremaining: 1m 28s\n",
      "400:\ttest: 0.9394427\tbest: 0.9395070 (354)\ttotal: 19.4s\tremaining: 1m 17s\n",
      "500:\ttest: 0.9395036\tbest: 0.9396731 (469)\ttotal: 23.6s\tremaining: 1m 10s\n"
     ]
    },
    {
     "name": "stderr",
     "output_type": "stream",
     "text": [
      "[I 2025-06-27 23:14:06,924] Trial 7 finished with value: 0.9367300042308597 and parameters: {'learning_rate': 0.07640615962935998, 'max_bin': 242, 'min_data_in_leaf': 136}. Best is trial 4 with value: 0.9369448283274782.\n"
     ]
    },
    {
     "name": "stdout",
     "output_type": "stream",
     "text": [
      "bestTest = 0.9396730661\n",
      "bestIteration = 469\n",
      "Shrink model to first 470 iterations.\n"
     ]
    },
    {
     "name": "stderr",
     "output_type": "stream",
     "text": [
      "Default metric period is 5 because AUC is/are not implemented for GPU\n"
     ]
    },
    {
     "name": "stdout",
     "output_type": "stream",
     "text": [
      "0:\ttest: 0.8969122\tbest: 0.8969122 (0)\ttotal: 62.4ms\tremaining: 2m 4s\n",
      "100:\ttest: 0.9362486\tbest: 0.9362486 (100)\ttotal: 4.97s\tremaining: 1m 33s\n",
      "200:\ttest: 0.9378808\tbest: 0.9378897 (196)\ttotal: 9.05s\tremaining: 1m 21s\n",
      "300:\ttest: 0.9383078\tbest: 0.9383340 (269)\ttotal: 13.1s\tremaining: 1m 13s\n",
      "400:\ttest: 0.9384550\tbest: 0.9385434 (368)\ttotal: 17.5s\tremaining: 1m 9s\n",
      "bestTest = 0.9385433793\n",
      "bestIteration = 368\n",
      "Shrink model to first 369 iterations.\n"
     ]
    },
    {
     "name": "stderr",
     "output_type": "stream",
     "text": [
      "Default metric period is 5 because AUC is/are not implemented for GPU\n"
     ]
    },
    {
     "name": "stdout",
     "output_type": "stream",
     "text": [
      "0:\ttest: 0.8948952\tbest: 0.8948952 (0)\ttotal: 66.9ms\tremaining: 2m 13s\n",
      "100:\ttest: 0.9286673\tbest: 0.9286673 (100)\ttotal: 5.86s\tremaining: 1m 50s\n",
      "200:\ttest: 0.9312105\tbest: 0.9312202 (198)\ttotal: 11s\tremaining: 1m 38s\n",
      "300:\ttest: 0.9324695\tbest: 0.9324820 (299)\ttotal: 15.9s\tremaining: 1m 29s\n",
      "400:\ttest: 0.9328828\tbest: 0.9328828 (399)\ttotal: 20.8s\tremaining: 1m 22s\n",
      "500:\ttest: 0.9331350\tbest: 0.9331425 (496)\ttotal: 26s\tremaining: 1m 17s\n",
      "600:\ttest: 0.9335046\tbest: 0.9335046 (600)\ttotal: 31s\tremaining: 1m 12s\n",
      "700:\ttest: 0.9334452\tbest: 0.9335440 (644)\ttotal: 36.1s\tremaining: 1m 6s\n",
      "bestTest = 0.9335440397\n",
      "bestIteration = 644\n",
      "Shrink model to first 645 iterations.\n"
     ]
    },
    {
     "name": "stderr",
     "output_type": "stream",
     "text": [
      "Default metric period is 5 because AUC is/are not implemented for GPU\n"
     ]
    },
    {
     "name": "stdout",
     "output_type": "stream",
     "text": [
      "0:\ttest: 0.9003463\tbest: 0.9003463 (0)\ttotal: 69.9ms\tremaining: 2m 19s\n",
      "100:\ttest: 0.9316828\tbest: 0.9317382 (99)\ttotal: 5.47s\tremaining: 1m 42s\n",
      "200:\ttest: 0.9339023\tbest: 0.9339286 (196)\ttotal: 10.5s\tremaining: 1m 34s\n",
      "300:\ttest: 0.9342648\tbest: 0.9343762 (266)\ttotal: 15.6s\tremaining: 1m 28s\n",
      "400:\ttest: 0.9342427\tbest: 0.9344364 (376)\ttotal: 20.5s\tremaining: 1m 21s\n",
      "500:\ttest: 0.9344219\tbest: 0.9344662 (477)\ttotal: 25.4s\tremaining: 1m 16s\n",
      "600:\ttest: 0.9345707\tbest: 0.9345997 (572)\ttotal: 30.7s\tremaining: 1m 11s\n",
      "700:\ttest: 0.9345700\tbest: 0.9346966 (661)\ttotal: 35.7s\tremaining: 1m 6s\n",
      "bestTest = 0.9346965551\n",
      "bestIteration = 661\n",
      "Shrink model to first 662 iterations.\n"
     ]
    },
    {
     "name": "stderr",
     "output_type": "stream",
     "text": [
      "Default metric period is 5 because AUC is/are not implemented for GPU\n"
     ]
    },
    {
     "name": "stdout",
     "output_type": "stream",
     "text": [
      "0:\ttest: 0.9004270\tbest: 0.9004270 (0)\ttotal: 64.6ms\tremaining: 2m 9s\n",
      "100:\ttest: 0.9325342\tbest: 0.9325342 (100)\ttotal: 5.35s\tremaining: 1m 40s\n",
      "200:\ttest: 0.9341866\tbest: 0.9341866 (200)\ttotal: 9.99s\tremaining: 1m 29s\n",
      "300:\ttest: 0.9350563\tbest: 0.9351179 (296)\ttotal: 14.5s\tremaining: 1m 21s\n",
      "400:\ttest: 0.9354085\tbest: 0.9354237 (397)\ttotal: 19.3s\tremaining: 1m 16s\n",
      "500:\ttest: 0.9355704\tbest: 0.9355966 (459)\ttotal: 23.8s\tremaining: 1m 11s\n",
      "bestTest = 0.9355966449\n",
      "bestIteration = 459\n",
      "Shrink model to first 460 iterations.\n"
     ]
    },
    {
     "name": "stderr",
     "output_type": "stream",
     "text": [
      "Default metric period is 5 because AUC is/are not implemented for GPU\n"
     ]
    },
    {
     "name": "stdout",
     "output_type": "stream",
     "text": [
      "0:\ttest: 0.9065215\tbest: 0.9065215 (0)\ttotal: 57.1ms\tremaining: 1m 54s\n",
      "100:\ttest: 0.9360824\tbest: 0.9361266 (99)\ttotal: 4.63s\tremaining: 1m 27s\n",
      "200:\ttest: 0.9378348\tbest: 0.9378417 (199)\ttotal: 9.05s\tremaining: 1m 21s\n",
      "300:\ttest: 0.9384782\tbest: 0.9385170 (296)\ttotal: 13.2s\tremaining: 1m 14s\n",
      "400:\ttest: 0.9388152\tbest: 0.9388505 (397)\ttotal: 17.3s\tremaining: 1m 9s\n",
      "500:\ttest: 0.9390103\tbest: 0.9390885 (486)\ttotal: 21.2s\tremaining: 1m 3s\n",
      "600:\ttest: 0.9392241\tbest: 0.9392462 (584)\ttotal: 26s\tremaining: 1m\n",
      "700:\ttest: 0.9393154\tbest: 0.9394448 (697)\ttotal: 30.5s\tremaining: 56.4s\n"
     ]
    },
    {
     "name": "stderr",
     "output_type": "stream",
     "text": [
      "[I 2025-06-27 23:16:51,397] Trial 8 finished with value: 0.9363650869844082 and parameters: {'learning_rate': 0.061126693621747163, 'max_bin': 222, 'min_data_in_leaf': 159}. Best is trial 4 with value: 0.9369448283274782.\n"
     ]
    },
    {
     "name": "stdout",
     "output_type": "stream",
     "text": [
      "bestTest = 0.9394447803\n",
      "bestIteration = 697\n",
      "Shrink model to first 698 iterations.\n"
     ]
    },
    {
     "name": "stderr",
     "output_type": "stream",
     "text": [
      "Default metric period is 5 because AUC is/are not implemented for GPU\n"
     ]
    },
    {
     "name": "stdout",
     "output_type": "stream",
     "text": [
      "0:\ttest: 0.9017965\tbest: 0.9017965 (0)\ttotal: 56.9ms\tremaining: 1m 53s\n",
      "100:\ttest: 0.9360406\tbest: 0.9360406 (99)\ttotal: 4.87s\tremaining: 1m 31s\n",
      "200:\ttest: 0.9388108\tbest: 0.9388149 (199)\ttotal: 9.43s\tremaining: 1m 24s\n",
      "300:\ttest: 0.9389103\tbest: 0.9389124 (297)\ttotal: 13.5s\tremaining: 1m 16s\n",
      "400:\ttest: 0.9389905\tbest: 0.9391232 (350)\ttotal: 17.5s\tremaining: 1m 9s\n",
      "500:\ttest: 0.9389725\tbest: 0.9391922 (432)\ttotal: 21.6s\tremaining: 1m 4s\n",
      "bestTest = 0.9391922355\n",
      "bestIteration = 432\n",
      "Shrink model to first 433 iterations.\n"
     ]
    },
    {
     "name": "stderr",
     "output_type": "stream",
     "text": [
      "Default metric period is 5 because AUC is/are not implemented for GPU\n"
     ]
    },
    {
     "name": "stdout",
     "output_type": "stream",
     "text": [
      "0:\ttest: 0.8948952\tbest: 0.8948952 (0)\ttotal: 55.7ms\tremaining: 1m 51s\n",
      "100:\ttest: 0.9296634\tbest: 0.9296641 (98)\ttotal: 4.66s\tremaining: 1m 27s\n",
      "200:\ttest: 0.9318732\tbest: 0.9318767 (197)\ttotal: 9.44s\tremaining: 1m 24s\n",
      "300:\ttest: 0.9324986\tbest: 0.9325511 (298)\ttotal: 14.1s\tremaining: 1m 19s\n",
      "400:\ttest: 0.9327784\tbest: 0.9327936 (396)\ttotal: 18.9s\tremaining: 1m 15s\n",
      "bestTest = 0.9327936172\n",
      "bestIteration = 396\n",
      "Shrink model to first 397 iterations.\n"
     ]
    },
    {
     "name": "stderr",
     "output_type": "stream",
     "text": [
      "Default metric period is 5 because AUC is/are not implemented for GPU\n"
     ]
    },
    {
     "name": "stdout",
     "output_type": "stream",
     "text": [
      "0:\ttest: 0.8999561\tbest: 0.8999561 (0)\ttotal: 66.2ms\tremaining: 2m 12s\n",
      "100:\ttest: 0.9328880\tbest: 0.9329309 (98)\ttotal: 5.06s\tremaining: 1m 35s\n",
      "200:\ttest: 0.9341410\tbest: 0.9341410 (199)\ttotal: 9.58s\tremaining: 1m 25s\n",
      "300:\ttest: 0.9347858\tbest: 0.9347858 (300)\ttotal: 14s\tremaining: 1m 18s\n",
      "400:\ttest: 0.9348903\tbest: 0.9349014 (399)\ttotal: 18.7s\tremaining: 1m 14s\n",
      "500:\ttest: 0.9348827\tbest: 0.9350155 (460)\ttotal: 23s\tremaining: 1m 8s\n",
      "bestTest = 0.9350154996\n",
      "bestIteration = 460\n",
      "Shrink model to first 461 iterations.\n"
     ]
    },
    {
     "name": "stderr",
     "output_type": "stream",
     "text": [
      "Default metric period is 5 because AUC is/are not implemented for GPU\n"
     ]
    },
    {
     "name": "stdout",
     "output_type": "stream",
     "text": [
      "0:\ttest: 0.9019802\tbest: 0.9019802 (0)\ttotal: 63.7ms\tremaining: 2m 7s\n",
      "100:\ttest: 0.9317707\tbest: 0.9317790 (97)\ttotal: 5.06s\tremaining: 1m 35s\n",
      "200:\ttest: 0.9335993\tbest: 0.9335993 (200)\ttotal: 9.67s\tremaining: 1m 26s\n",
      "300:\ttest: 0.9354853\tbest: 0.9354853 (300)\ttotal: 14.3s\tremaining: 1m 20s\n",
      "400:\ttest: 0.9361156\tbest: 0.9361232 (396)\ttotal: 18.6s\tremaining: 1m 14s\n",
      "500:\ttest: 0.9360408\tbest: 0.9361799 (420)\ttotal: 23.2s\tremaining: 1m 9s\n",
      "bestTest = 0.9361798763\n",
      "bestIteration = 420\n",
      "Shrink model to first 421 iterations.\n"
     ]
    },
    {
     "name": "stderr",
     "output_type": "stream",
     "text": [
      "Default metric period is 5 because AUC is/are not implemented for GPU\n"
     ]
    },
    {
     "name": "stdout",
     "output_type": "stream",
     "text": [
      "0:\ttest: 0.9066000\tbest: 0.9066000 (0)\ttotal: 70ms\tremaining: 2m 19s\n",
      "100:\ttest: 0.9378825\tbest: 0.9379435 (90)\ttotal: 5.46s\tremaining: 1m 42s\n",
      "200:\ttest: 0.9386560\tbest: 0.9386934 (196)\ttotal: 10s\tremaining: 1m 29s\n",
      "300:\ttest: 0.9392123\tbest: 0.9393023 (281)\ttotal: 14.9s\tremaining: 1m 24s\n",
      "400:\ttest: 0.9393957\tbest: 0.9393957 (400)\ttotal: 19.8s\tremaining: 1m 19s\n",
      "500:\ttest: 0.9398862\tbest: 0.9399636 (469)\ttotal: 24.9s\tremaining: 1m 14s\n"
     ]
    },
    {
     "name": "stderr",
     "output_type": "stream",
     "text": [
      "[I 2025-06-27 23:18:58,921] Trial 9 finished with value: 0.9366090859036549 and parameters: {'learning_rate': 0.06472198512117774, 'max_bin': 261, 'min_data_in_leaf': 114}. Best is trial 4 with value: 0.9369448283274782.\n"
     ]
    },
    {
     "name": "stdout",
     "output_type": "stream",
     "text": [
      "bestTest = 0.9399636388\n",
      "bestIteration = 469\n",
      "Shrink model to first 470 iterations.\n"
     ]
    },
    {
     "name": "stderr",
     "output_type": "stream",
     "text": [
      "Default metric period is 5 because AUC is/are not implemented for GPU\n"
     ]
    },
    {
     "name": "stdout",
     "output_type": "stream",
     "text": [
      "0:\ttest: 0.8969122\tbest: 0.8969122 (0)\ttotal: 65.4ms\tremaining: 2m 10s\n",
      "100:\ttest: 0.9371552\tbest: 0.9372139 (96)\ttotal: 4.47s\tremaining: 1m 24s\n",
      "200:\ttest: 0.9384702\tbest: 0.9385980 (188)\ttotal: 8.45s\tremaining: 1m 15s\n",
      "300:\ttest: 0.9393139\tbest: 0.9393194 (299)\ttotal: 12.6s\tremaining: 1m 11s\n",
      "400:\ttest: 0.9393892\tbest: 0.9395550 (370)\ttotal: 16.5s\tremaining: 1m 5s\n",
      "bestTest = 0.9395550489\n",
      "bestIteration = 370\n",
      "Shrink model to first 371 iterations.\n"
     ]
    },
    {
     "name": "stderr",
     "output_type": "stream",
     "text": [
      "Default metric period is 5 because AUC is/are not implemented for GPU\n"
     ]
    },
    {
     "name": "stdout",
     "output_type": "stream",
     "text": [
      "0:\ttest: 0.8948952\tbest: 0.8948952 (0)\ttotal: 57.2ms\tremaining: 1m 54s\n",
      "100:\ttest: 0.9302583\tbest: 0.9302583 (100)\ttotal: 4.7s\tremaining: 1m 28s\n",
      "200:\ttest: 0.9322767\tbest: 0.9322767 (200)\ttotal: 9.11s\tremaining: 1m 21s\n",
      "300:\ttest: 0.9325517\tbest: 0.9326071 (294)\ttotal: 13.9s\tremaining: 1m 18s\n",
      "400:\ttest: 0.9328192\tbest: 0.9328206 (397)\ttotal: 18.2s\tremaining: 1m 12s\n",
      "500:\ttest: 0.9328959\tbest: 0.9328973 (498)\ttotal: 22.2s\tremaining: 1m 6s\n",
      "600:\ttest: 0.9331550\tbest: 0.9331550 (600)\ttotal: 26.3s\tremaining: 1m 1s\n",
      "700:\ttest: 0.9331999\tbest: 0.9332275 (624)\ttotal: 30.5s\tremaining: 56.4s\n",
      "800:\ttest: 0.9333395\tbest: 0.9333720 (752)\ttotal: 35.2s\tremaining: 52.7s\n",
      "bestTest = 0.9333719611\n",
      "bestIteration = 752\n",
      "Shrink model to first 753 iterations.\n"
     ]
    },
    {
     "name": "stderr",
     "output_type": "stream",
     "text": [
      "Default metric period is 5 because AUC is/are not implemented for GPU\n"
     ]
    },
    {
     "name": "stdout",
     "output_type": "stream",
     "text": [
      "0:\ttest: 0.9003463\tbest: 0.9003463 (0)\ttotal: 76.6ms\tremaining: 2m 33s\n",
      "100:\ttest: 0.9324487\tbest: 0.9324660 (97)\ttotal: 4.83s\tremaining: 1m 30s\n",
      "200:\ttest: 0.9339916\tbest: 0.9340538 (194)\ttotal: 9.38s\tremaining: 1m 23s\n",
      "300:\ttest: 0.9340227\tbest: 0.9342607 (239)\ttotal: 14s\tremaining: 1m 19s\n",
      "400:\ttest: 0.9347014\tbest: 0.9347166 (390)\ttotal: 20.2s\tremaining: 1m 20s\n",
      "500:\ttest: 0.9348142\tbest: 0.9348322 (492)\ttotal: 25s\tremaining: 1m 14s\n",
      "600:\ttest: 0.9348841\tbest: 0.9349346 (583)\ttotal: 30.8s\tremaining: 1m 11s\n",
      "bestTest = 0.9349345565\n",
      "bestIteration = 583\n",
      "Shrink model to first 584 iterations.\n"
     ]
    },
    {
     "name": "stderr",
     "output_type": "stream",
     "text": [
      "Default metric period is 5 because AUC is/are not implemented for GPU\n"
     ]
    },
    {
     "name": "stdout",
     "output_type": "stream",
     "text": [
      "0:\ttest: 0.9004270\tbest: 0.9004270 (0)\ttotal: 69.6ms\tremaining: 2m 19s\n",
      "100:\ttest: 0.9326120\tbest: 0.9326155 (99)\ttotal: 6.63s\tremaining: 2m 4s\n",
      "200:\ttest: 0.9351137\tbest: 0.9351615 (195)\ttotal: 11.9s\tremaining: 1m 46s\n",
      "300:\ttest: 0.9359073\tbest: 0.9359246 (299)\ttotal: 17s\tremaining: 1m 36s\n",
      "400:\ttest: 0.9366116\tbest: 0.9366940 (382)\ttotal: 22.2s\tremaining: 1m 28s\n",
      "500:\ttest: 0.9366545\tbest: 0.9368102 (480)\ttotal: 27.4s\tremaining: 1m 21s\n",
      "bestTest = 0.9368101954\n",
      "bestIteration = 480\n",
      "Shrink model to first 481 iterations.\n"
     ]
    },
    {
     "name": "stderr",
     "output_type": "stream",
     "text": [
      "Default metric period is 5 because AUC is/are not implemented for GPU\n"
     ]
    },
    {
     "name": "stdout",
     "output_type": "stream",
     "text": [
      "0:\ttest: 0.9065215\tbest: 0.9065215 (0)\ttotal: 66.7ms\tremaining: 2m 13s\n",
      "100:\ttest: 0.9368482\tbest: 0.9371499 (85)\ttotal: 5.35s\tremaining: 1m 40s\n",
      "200:\ttest: 0.9393348\tbest: 0.9393355 (199)\ttotal: 10.5s\tremaining: 1m 33s\n",
      "300:\ttest: 0.9398938\tbest: 0.9399284 (298)\ttotal: 15.6s\tremaining: 1m 28s\n",
      "400:\ttest: 0.9399567\tbest: 0.9400557 (379)\ttotal: 20.7s\tremaining: 1m 22s\n",
      "500:\ttest: 0.9400121\tbest: 0.9401055 (478)\ttotal: 25.8s\tremaining: 1m 17s\n",
      "600:\ttest: 0.9405258\tbest: 0.9406015 (587)\ttotal: 31s\tremaining: 1m 12s\n"
     ]
    },
    {
     "name": "stderr",
     "output_type": "stream",
     "text": [
      "[I 2025-06-27 23:21:41,758] Trial 10 finished with value: 0.9370546574419789 and parameters: {'learning_rate': 0.07988843005102993, 'max_bin': 238, 'min_data_in_leaf': 197}. Best is trial 10 with value: 0.9370546574419789.\n"
     ]
    },
    {
     "name": "stdout",
     "output_type": "stream",
     "text": [
      "bestTest = 0.9406015277\n",
      "bestIteration = 587\n",
      "Shrink model to first 588 iterations.\n"
     ]
    },
    {
     "name": "stderr",
     "output_type": "stream",
     "text": [
      "Default metric period is 5 because AUC is/are not implemented for GPU\n"
     ]
    },
    {
     "name": "stdout",
     "output_type": "stream",
     "text": [
      "0:\ttest: 0.8969122\tbest: 0.8969122 (0)\ttotal: 69.7ms\tremaining: 2m 19s\n",
      "100:\ttest: 0.9363363\tbest: 0.9363440 (99)\ttotal: 4.72s\tremaining: 1m 28s\n",
      "200:\ttest: 0.9381157\tbest: 0.9381157 (200)\ttotal: 8.86s\tremaining: 1m 19s\n",
      "300:\ttest: 0.9386208\tbest: 0.9386512 (297)\ttotal: 12.7s\tremaining: 1m 11s\n",
      "400:\ttest: 0.9389580\tbest: 0.9390085 (392)\ttotal: 17s\tremaining: 1m 7s\n",
      "bestTest = 0.9390084743\n",
      "bestIteration = 392\n",
      "Shrink model to first 393 iterations.\n"
     ]
    },
    {
     "name": "stderr",
     "output_type": "stream",
     "text": [
      "Default metric period is 5 because AUC is/are not implemented for GPU\n"
     ]
    },
    {
     "name": "stdout",
     "output_type": "stream",
     "text": [
      "0:\ttest: 0.8948952\tbest: 0.8948952 (0)\ttotal: 60.6ms\tremaining: 2m 1s\n",
      "100:\ttest: 0.9294734\tbest: 0.9294734 (100)\ttotal: 4.63s\tremaining: 1m 27s\n",
      "200:\ttest: 0.9314095\tbest: 0.9314095 (200)\ttotal: 8.67s\tremaining: 1m 17s\n",
      "300:\ttest: 0.9324709\tbest: 0.9325124 (299)\ttotal: 13.1s\tremaining: 1m 13s\n",
      "400:\ttest: 0.9323078\tbest: 0.9325649 (321)\ttotal: 17s\tremaining: 1m 7s\n",
      "bestTest = 0.9325649142\n",
      "bestIteration = 321\n",
      "Shrink model to first 322 iterations.\n"
     ]
    },
    {
     "name": "stderr",
     "output_type": "stream",
     "text": [
      "Default metric period is 5 because AUC is/are not implemented for GPU\n"
     ]
    },
    {
     "name": "stdout",
     "output_type": "stream",
     "text": [
      "0:\ttest: 0.9003463\tbest: 0.9003463 (0)\ttotal: 63.4ms\tremaining: 2m 6s\n",
      "100:\ttest: 0.9335889\tbest: 0.9335889 (99)\ttotal: 5.57s\tremaining: 1m 44s\n",
      "200:\ttest: 0.9343631\tbest: 0.9345464 (183)\ttotal: 10.6s\tremaining: 1m 34s\n",
      "300:\ttest: 0.9348764\tbest: 0.9349048 (295)\ttotal: 15.6s\tremaining: 1m 28s\n",
      "400:\ttest: 0.9350155\tbest: 0.9350625 (380)\ttotal: 21s\tremaining: 1m 23s\n",
      "bestTest = 0.9350625277\n",
      "bestIteration = 380\n",
      "Shrink model to first 381 iterations.\n"
     ]
    },
    {
     "name": "stderr",
     "output_type": "stream",
     "text": [
      "Default metric period is 5 because AUC is/are not implemented for GPU\n"
     ]
    },
    {
     "name": "stdout",
     "output_type": "stream",
     "text": [
      "0:\ttest: 0.9004270\tbest: 0.9004270 (0)\ttotal: 67.1ms\tremaining: 2m 14s\n",
      "100:\ttest: 0.9340538\tbest: 0.9340656 (99)\ttotal: 5.55s\tremaining: 1m 44s\n",
      "200:\ttest: 0.9356977\tbest: 0.9357198 (193)\ttotal: 10.8s\tremaining: 1m 36s\n",
      "300:\ttest: 0.9360948\tbest: 0.9361038 (295)\ttotal: 15.9s\tremaining: 1m 29s\n",
      "400:\ttest: 0.9361488\tbest: 0.9363148 (357)\ttotal: 20.9s\tremaining: 1m 23s\n",
      "bestTest = 0.9363148212\n",
      "bestIteration = 357\n",
      "Shrink model to first 358 iterations.\n"
     ]
    },
    {
     "name": "stderr",
     "output_type": "stream",
     "text": [
      "Default metric period is 5 because AUC is/are not implemented for GPU\n"
     ]
    },
    {
     "name": "stdout",
     "output_type": "stream",
     "text": [
      "0:\ttest: 0.9065215\tbest: 0.9065215 (0)\ttotal: 65.2ms\tremaining: 2m 10s\n",
      "100:\ttest: 0.9373810\tbest: 0.9373810 (100)\ttotal: 5.81s\tremaining: 1m 49s\n",
      "200:\ttest: 0.9382396\tbest: 0.9382541 (197)\ttotal: 11.1s\tremaining: 1m 39s\n",
      "300:\ttest: 0.9391068\tbest: 0.9391431 (268)\ttotal: 16.4s\tremaining: 1m 32s\n",
      "400:\ttest: 0.9396980\tbest: 0.9397900 (392)\ttotal: 22s\tremaining: 1m 27s\n",
      "500:\ttest: 0.9401920\tbest: 0.9402736 (493)\ttotal: 27.3s\tremaining: 1m 21s\n",
      "600:\ttest: 0.9402342\tbest: 0.9403241 (567)\ttotal: 32.4s\tremaining: 1m 15s\n",
      "700:\ttest: 0.9405254\tbest: 0.9405552 (688)\ttotal: 37.4s\tremaining: 1m 9s\n",
      "800:\ttest: 0.9405365\tbest: 0.9406562 (776)\ttotal: 42.4s\tremaining: 1m 3s\n"
     ]
    },
    {
     "name": "stderr",
     "output_type": "stream",
     "text": [
      "[I 2025-06-27 23:23:58,477] Trial 11 finished with value: 0.9367215195046956 and parameters: {'learning_rate': 0.07987666570143613, 'max_bin': 240, 'min_data_in_leaf': 200}. Best is trial 10 with value: 0.9370546574419789.\n"
     ]
    },
    {
     "name": "stdout",
     "output_type": "stream",
     "text": [
      "bestTest = 0.9406561852\n",
      "bestIteration = 776\n",
      "Shrink model to first 777 iterations.\n"
     ]
    },
    {
     "name": "stderr",
     "output_type": "stream",
     "text": [
      "Default metric period is 5 because AUC is/are not implemented for GPU\n"
     ]
    },
    {
     "name": "stdout",
     "output_type": "stream",
     "text": [
      "0:\ttest: 0.8969122\tbest: 0.8969122 (0)\ttotal: 68.5ms\tremaining: 2m 16s\n",
      "100:\ttest: 0.9356737\tbest: 0.9357725 (93)\ttotal: 5.36s\tremaining: 1m 40s\n",
      "200:\ttest: 0.9379229\tbest: 0.9379236 (196)\ttotal: 10.2s\tremaining: 1m 31s\n",
      "300:\ttest: 0.9382491\tbest: 0.9383845 (249)\ttotal: 14.8s\tremaining: 1m 23s\n",
      "bestTest = 0.9383844733\n",
      "bestIteration = 249\n",
      "Shrink model to first 250 iterations.\n"
     ]
    },
    {
     "name": "stderr",
     "output_type": "stream",
     "text": [
      "Default metric period is 5 because AUC is/are not implemented for GPU\n"
     ]
    },
    {
     "name": "stdout",
     "output_type": "stream",
     "text": [
      "0:\ttest: 0.8948952\tbest: 0.8948952 (0)\ttotal: 67.1ms\tremaining: 2m 14s\n",
      "100:\ttest: 0.9308795\tbest: 0.9308795 (100)\ttotal: 5.31s\tremaining: 1m 39s\n",
      "200:\ttest: 0.9319153\tbest: 0.9319375 (197)\ttotal: 9.89s\tremaining: 1m 28s\n",
      "300:\ttest: 0.9322630\tbest: 0.9322740 (299)\ttotal: 14.2s\tremaining: 1m 20s\n",
      "400:\ttest: 0.9324122\tbest: 0.9324447 (381)\ttotal: 18s\tremaining: 1m 11s\n",
      "500:\ttest: 0.9323880\tbest: 0.9324827 (424)\ttotal: 22.2s\tremaining: 1m 6s\n",
      "bestTest = 0.9324826598\n",
      "bestIteration = 424\n",
      "Shrink model to first 425 iterations.\n"
     ]
    },
    {
     "name": "stderr",
     "output_type": "stream",
     "text": [
      "Default metric period is 5 because AUC is/are not implemented for GPU\n"
     ]
    },
    {
     "name": "stdout",
     "output_type": "stream",
     "text": [
      "0:\ttest: 0.9003463\tbest: 0.9003463 (0)\ttotal: 61.6ms\tremaining: 2m 3s\n",
      "100:\ttest: 0.9326909\tbest: 0.9326909 (100)\ttotal: 4.36s\tremaining: 1m 21s\n",
      "200:\ttest: 0.9338573\tbest: 0.9339438 (195)\ttotal: 8.65s\tremaining: 1m 17s\n",
      "300:\ttest: 0.9345195\tbest: 0.9345195 (300)\ttotal: 13s\tremaining: 1m 13s\n",
      "400:\ttest: 0.9347748\tbest: 0.9348460 (358)\ttotal: 17.1s\tremaining: 1m 8s\n",
      "bestTest = 0.934845984\n",
      "bestIteration = 358\n",
      "Shrink model to first 359 iterations.\n"
     ]
    },
    {
     "name": "stderr",
     "output_type": "stream",
     "text": [
      "Default metric period is 5 because AUC is/are not implemented for GPU\n"
     ]
    },
    {
     "name": "stdout",
     "output_type": "stream",
     "text": [
      "0:\ttest: 0.9004270\tbest: 0.9004270 (0)\ttotal: 59.1ms\tremaining: 1m 58s\n",
      "100:\ttest: 0.9338553\tbest: 0.9338553 (100)\ttotal: 5.77s\tremaining: 1m 48s\n",
      "200:\ttest: 0.9358969\tbest: 0.9358990 (198)\ttotal: 10.8s\tremaining: 1m 36s\n",
      "300:\ttest: 0.9366068\tbest: 0.9366414 (291)\ttotal: 16s\tremaining: 1m 30s\n",
      "400:\ttest: 0.9372142\tbest: 0.9372225 (372)\ttotal: 21.1s\tremaining: 1m 24s\n",
      "500:\ttest: 0.9375027\tbest: 0.9375131 (492)\ttotal: 26.1s\tremaining: 1m 18s\n",
      "600:\ttest: 0.9375650\tbest: 0.9376134 (590)\ttotal: 31.2s\tremaining: 1m 12s\n",
      "700:\ttest: 0.9375442\tbest: 0.9376273 (630)\ttotal: 35.9s\tremaining: 1m 6s\n",
      "bestTest = 0.9376272559\n",
      "bestIteration = 630\n",
      "Shrink model to first 631 iterations.\n"
     ]
    },
    {
     "name": "stderr",
     "output_type": "stream",
     "text": [
      "Default metric period is 5 because AUC is/are not implemented for GPU\n"
     ]
    },
    {
     "name": "stdout",
     "output_type": "stream",
     "text": [
      "0:\ttest: 0.9065215\tbest: 0.9065215 (0)\ttotal: 63.6ms\tremaining: 2m 7s\n",
      "100:\ttest: 0.9367687\tbest: 0.9367687 (100)\ttotal: 5.77s\tremaining: 1m 48s\n",
      "200:\ttest: 0.9378708\tbest: 0.9379427 (176)\ttotal: 10.7s\tremaining: 1m 35s\n",
      "300:\ttest: 0.9380998\tbest: 0.9385384 (279)\ttotal: 16s\tremaining: 1m 30s\n"
     ]
    },
    {
     "name": "stderr",
     "output_type": "stream",
     "text": [
      "[I 2025-06-27 23:25:58,731] Trial 12 finished with value: 0.9363757675545227 and parameters: {'learning_rate': 0.07998884839852757, 'max_bin': 233, 'min_data_in_leaf': 199}. Best is trial 10 with value: 0.9370546574419789.\n"
     ]
    },
    {
     "name": "stdout",
     "output_type": "stream",
     "text": [
      "bestTest = 0.9385384321\n",
      "bestIteration = 279\n",
      "Shrink model to first 280 iterations.\n"
     ]
    },
    {
     "name": "stderr",
     "output_type": "stream",
     "text": [
      "Default metric period is 5 because AUC is/are not implemented for GPU\n"
     ]
    },
    {
     "name": "stdout",
     "output_type": "stream",
     "text": [
      "0:\ttest: 0.8969122\tbest: 0.8969122 (0)\ttotal: 68.4ms\tremaining: 2m 16s\n",
      "100:\ttest: 0.9373473\tbest: 0.9373804 (98)\ttotal: 5.38s\tremaining: 1m 41s\n",
      "200:\ttest: 0.9387338\tbest: 0.9387338 (200)\ttotal: 10.4s\tremaining: 1m 32s\n",
      "300:\ttest: 0.9391307\tbest: 0.9391397 (299)\ttotal: 15.2s\tremaining: 1m 25s\n",
      "400:\ttest: 0.9394058\tbest: 0.9394147 (390)\ttotal: 19.7s\tremaining: 1m 18s\n",
      "500:\ttest: 0.9393920\tbest: 0.9394555 (426)\ttotal: 24.4s\tremaining: 1m 13s\n",
      "bestTest = 0.9394555092\n",
      "bestIteration = 426\n",
      "Shrink model to first 427 iterations.\n"
     ]
    },
    {
     "name": "stderr",
     "output_type": "stream",
     "text": [
      "Default metric period is 5 because AUC is/are not implemented for GPU\n"
     ]
    },
    {
     "name": "stdout",
     "output_type": "stream",
     "text": [
      "0:\ttest: 0.8948952\tbest: 0.8948952 (0)\ttotal: 66.8ms\tremaining: 2m 13s\n",
      "100:\ttest: 0.9288142\tbest: 0.9288142 (100)\ttotal: 5.43s\tremaining: 1m 42s\n",
      "200:\ttest: 0.9315408\tbest: 0.9315408 (200)\ttotal: 10.1s\tremaining: 1m 30s\n",
      "300:\ttest: 0.9322940\tbest: 0.9323686 (298)\ttotal: 14.4s\tremaining: 1m 21s\n",
      "400:\ttest: 0.9328005\tbest: 0.9328226 (388)\ttotal: 19.3s\tremaining: 1m 17s\n",
      "500:\ttest: 0.9330679\tbest: 0.9330679 (498)\ttotal: 24.1s\tremaining: 1m 12s\n",
      "600:\ttest: 0.9330327\tbest: 0.9331944 (513)\ttotal: 28.5s\tremaining: 1m 6s\n",
      "bestTest = 0.9331943989\n",
      "bestIteration = 513\n",
      "Shrink model to first 514 iterations.\n"
     ]
    },
    {
     "name": "stderr",
     "output_type": "stream",
     "text": [
      "Default metric period is 5 because AUC is/are not implemented for GPU\n"
     ]
    },
    {
     "name": "stdout",
     "output_type": "stream",
     "text": [
      "0:\ttest: 0.9003463\tbest: 0.9003463 (0)\ttotal: 61.8ms\tremaining: 2m 3s\n",
      "100:\ttest: 0.9332575\tbest: 0.9332713 (99)\ttotal: 5.57s\tremaining: 1m 44s\n",
      "200:\ttest: 0.9341542\tbest: 0.9342116 (188)\ttotal: 11.7s\tremaining: 1m 45s\n",
      "300:\ttest: 0.9341853\tbest: 0.9342517 (285)\ttotal: 17.3s\tremaining: 1m 37s\n",
      "400:\ttest: 0.9346592\tbest: 0.9347000 (391)\ttotal: 21.6s\tremaining: 1m 25s\n",
      "500:\ttest: 0.9346032\tbest: 0.9347118 (413)\ttotal: 26s\tremaining: 1m 17s\n",
      "bestTest = 0.9347117543\n",
      "bestIteration = 413\n",
      "Shrink model to first 414 iterations.\n"
     ]
    },
    {
     "name": "stderr",
     "output_type": "stream",
     "text": [
      "Default metric period is 5 because AUC is/are not implemented for GPU\n"
     ]
    },
    {
     "name": "stdout",
     "output_type": "stream",
     "text": [
      "0:\ttest: 0.9004270\tbest: 0.9004270 (0)\ttotal: 57.7ms\tremaining: 1m 55s\n",
      "100:\ttest: 0.9337418\tbest: 0.9337418 (100)\ttotal: 4.67s\tremaining: 1m 27s\n",
      "200:\ttest: 0.9352922\tbest: 0.9353144 (199)\ttotal: 8.56s\tremaining: 1m 16s\n",
      "300:\ttest: 0.9359502\tbest: 0.9359502 (300)\ttotal: 12.8s\tremaining: 1m 12s\n",
      "400:\ttest: 0.9364317\tbest: 0.9364317 (400)\ttotal: 16.8s\tremaining: 1m 6s\n",
      "500:\ttest: 0.9363826\tbest: 0.9364435 (493)\ttotal: 20.9s\tremaining: 1m 2s\n",
      "bestTest = 0.9364435077\n",
      "bestIteration = 493\n",
      "Shrink model to first 494 iterations.\n"
     ]
    },
    {
     "name": "stderr",
     "output_type": "stream",
     "text": [
      "Default metric period is 5 because AUC is/are not implemented for GPU\n"
     ]
    },
    {
     "name": "stdout",
     "output_type": "stream",
     "text": [
      "0:\ttest: 0.9066000\tbest: 0.9066000 (0)\ttotal: 69.8ms\tremaining: 2m 19s\n",
      "100:\ttest: 0.9358540\tbest: 0.9358540 (100)\ttotal: 5.25s\tremaining: 1m 38s\n",
      "200:\ttest: 0.9382520\tbest: 0.9383426 (191)\ttotal: 10.3s\tremaining: 1m 31s\n",
      "300:\ttest: 0.9396060\tbest: 0.9396060 (300)\ttotal: 17s\tremaining: 1m 36s\n",
      "400:\ttest: 0.9399623\tbest: 0.9400294 (385)\ttotal: 22.6s\tremaining: 1m 30s\n",
      "500:\ttest: 0.9400668\tbest: 0.9401006 (492)\ttotal: 27.7s\tremaining: 1m 22s\n",
      "600:\ttest: 0.9401366\tbest: 0.9401892 (588)\ttotal: 34.3s\tremaining: 1m 19s\n",
      "700:\ttest: 0.9403767\tbest: 0.9404556 (687)\ttotal: 42.9s\tremaining: 1m 19s\n"
     ]
    },
    {
     "name": "stderr",
     "output_type": "stream",
     "text": [
      "[I 2025-06-27 23:28:35,724] Trial 13 finished with value: 0.9368521512442932 and parameters: {'learning_rate': 0.07230627562073313, 'max_bin': 203, 'min_data_in_leaf': 177}. Best is trial 10 with value: 0.9370546574419789.\n"
     ]
    },
    {
     "name": "stdout",
     "output_type": "stream",
     "text": [
      "bestTest = 0.9404555559\n",
      "bestIteration = 687\n",
      "Shrink model to first 688 iterations.\n"
     ]
    },
    {
     "name": "stderr",
     "output_type": "stream",
     "text": [
      "Default metric period is 5 because AUC is/are not implemented for GPU\n"
     ]
    },
    {
     "name": "stdout",
     "output_type": "stream",
     "text": [
      "0:\ttest: 0.9017965\tbest: 0.9017965 (0)\ttotal: 87.3ms\tremaining: 2m 54s\n",
      "100:\ttest: 0.9375249\tbest: 0.9375905 (93)\ttotal: 5.61s\tremaining: 1m 45s\n",
      "200:\ttest: 0.9390541\tbest: 0.9391107 (199)\ttotal: 10.9s\tremaining: 1m 37s\n",
      "300:\ttest: 0.9388882\tbest: 0.9391695 (217)\ttotal: 16.2s\tremaining: 1m 31s\n",
      "bestTest = 0.9391694665\n",
      "bestIteration = 217\n",
      "Shrink model to first 218 iterations.\n"
     ]
    },
    {
     "name": "stderr",
     "output_type": "stream",
     "text": [
      "Default metric period is 5 because AUC is/are not implemented for GPU\n"
     ]
    },
    {
     "name": "stdout",
     "output_type": "stream",
     "text": [
      "0:\ttest: 0.8948952\tbest: 0.8948952 (0)\ttotal: 67.6ms\tremaining: 2m 15s\n",
      "100:\ttest: 0.9305575\tbest: 0.9305575 (100)\ttotal: 5.65s\tremaining: 1m 46s\n",
      "200:\ttest: 0.9319195\tbest: 0.9319278 (198)\ttotal: 10.2s\tremaining: 1m 31s\n",
      "300:\ttest: 0.9326630\tbest: 0.9326637 (298)\ttotal: 15s\tremaining: 1m 24s\n",
      "400:\ttest: 0.9332839\tbest: 0.9333623 (383)\ttotal: 19.8s\tremaining: 1m 18s\n",
      "500:\ttest: 0.9335344\tbest: 0.9335427 (495)\ttotal: 24.4s\tremaining: 1m 13s\n",
      "600:\ttest: 0.9334770\tbest: 0.9336795 (525)\ttotal: 29.2s\tremaining: 1m 7s\n",
      "bestTest = 0.9336794615\n",
      "bestIteration = 525\n",
      "Shrink model to first 526 iterations.\n"
     ]
    },
    {
     "name": "stderr",
     "output_type": "stream",
     "text": [
      "Default metric period is 5 because AUC is/are not implemented for GPU\n"
     ]
    },
    {
     "name": "stdout",
     "output_type": "stream",
     "text": [
      "0:\ttest: 0.8999561\tbest: 0.8999561 (0)\ttotal: 70.8ms\tremaining: 2m 21s\n",
      "100:\ttest: 0.9332101\tbest: 0.9332101 (100)\ttotal: 5.57s\tremaining: 1m 44s\n",
      "200:\ttest: 0.9343873\tbest: 0.9343873 (200)\ttotal: 10.2s\tremaining: 1m 30s\n",
      "300:\ttest: 0.9348252\tbest: 0.9349179 (282)\ttotal: 14.1s\tremaining: 1m 19s\n",
      "400:\ttest: 0.9351449\tbest: 0.9352383 (383)\ttotal: 18.2s\tremaining: 1m 12s\n",
      "500:\ttest: 0.9352791\tbest: 0.9353089 (468)\ttotal: 22.7s\tremaining: 1m 8s\n",
      "600:\ttest: 0.9351594\tbest: 0.9354569 (523)\ttotal: 27.6s\tremaining: 1m 4s\n",
      "bestTest = 0.9354569316\n",
      "bestIteration = 523\n",
      "Shrink model to first 524 iterations.\n"
     ]
    },
    {
     "name": "stderr",
     "output_type": "stream",
     "text": [
      "Default metric period is 5 because AUC is/are not implemented for GPU\n"
     ]
    },
    {
     "name": "stdout",
     "output_type": "stream",
     "text": [
      "0:\ttest: 0.9019802\tbest: 0.9019802 (0)\ttotal: 61.4ms\tremaining: 2m 2s\n",
      "100:\ttest: 0.9326743\tbest: 0.9326743 (100)\ttotal: 4.87s\tremaining: 1m 31s\n",
      "200:\ttest: 0.9347436\tbest: 0.9347436 (200)\ttotal: 9.16s\tremaining: 1m 21s\n",
      "300:\ttest: 0.9354915\tbest: 0.9355814 (286)\ttotal: 13.2s\tremaining: 1m 14s\n",
      "400:\ttest: 0.9361218\tbest: 0.9361218 (400)\ttotal: 17.5s\tremaining: 1m 9s\n",
      "500:\ttest: 0.9362608\tbest: 0.9363626 (427)\ttotal: 21.6s\tremaining: 1m 4s\n",
      "600:\ttest: 0.9367043\tbest: 0.9367195 (587)\ttotal: 26.8s\tremaining: 1m 2s\n",
      "700:\ttest: 0.9369299\tbest: 0.9369361 (694)\ttotal: 32.4s\tremaining: 1m\n",
      "bestTest = 0.9369360805\n",
      "bestIteration = 694\n",
      "Shrink model to first 695 iterations.\n"
     ]
    },
    {
     "name": "stderr",
     "output_type": "stream",
     "text": [
      "Default metric period is 5 because AUC is/are not implemented for GPU\n"
     ]
    },
    {
     "name": "stdout",
     "output_type": "stream",
     "text": [
      "0:\ttest: 0.9066000\tbest: 0.9066000 (0)\ttotal: 67.9ms\tremaining: 2m 15s\n",
      "100:\ttest: 0.9360477\tbest: 0.9360540 (98)\ttotal: 6.1s\tremaining: 1m 54s\n",
      "200:\ttest: 0.9379815\tbest: 0.9380133 (169)\ttotal: 11.7s\tremaining: 1m 44s\n",
      "300:\ttest: 0.9384388\tbest: 0.9386602 (255)\ttotal: 17.2s\tremaining: 1m 36s\n",
      "400:\ttest: 0.9392337\tbest: 0.9392442 (398)\ttotal: 22.8s\tremaining: 1m 30s\n",
      "500:\ttest: 0.9395181\tbest: 0.9395223 (480)\ttotal: 27.9s\tremaining: 1m 23s\n",
      "600:\ttest: 0.9393541\tbest: 0.9396641 (532)\ttotal: 33.2s\tremaining: 1m 17s\n"
     ]
    },
    {
     "name": "stderr",
     "output_type": "stream",
     "text": [
      "[I 2025-06-27 23:31:06,852] Trial 14 finished with value: 0.9369885302272039 and parameters: {'learning_rate': 0.07436912886956015, 'max_bin': 256, 'min_data_in_leaf': 184}. Best is trial 10 with value: 0.9370546574419789.\n"
     ]
    },
    {
     "name": "stdout",
     "output_type": "stream",
     "text": [
      "bestTest = 0.9396640658\n",
      "bestIteration = 532\n",
      "Shrink model to first 533 iterations.\n"
     ]
    },
    {
     "name": "stderr",
     "output_type": "stream",
     "text": [
      "Default metric period is 5 because AUC is/are not implemented for GPU\n"
     ]
    },
    {
     "name": "stdout",
     "output_type": "stream",
     "text": [
      "0:\ttest: 0.8969122\tbest: 0.8969122 (0)\ttotal: 68.3ms\tremaining: 2m 16s\n",
      "100:\ttest: 0.9366349\tbest: 0.9366349 (100)\ttotal: 5.63s\tremaining: 1m 45s\n",
      "200:\ttest: 0.9381005\tbest: 0.9381005 (200)\ttotal: 10.8s\tremaining: 1m 36s\n",
      "300:\ttest: 0.9383237\tbest: 0.9384750 (275)\ttotal: 15.8s\tremaining: 1m 29s\n",
      "400:\ttest: 0.9385939\tbest: 0.9386360 (398)\ttotal: 21s\tremaining: 1m 23s\n",
      "500:\ttest: 0.9388419\tbest: 0.9388419 (500)\ttotal: 26s\tremaining: 1m 17s\n",
      "600:\ttest: 0.9385772\tbest: 0.9388793 (513)\ttotal: 31.1s\tremaining: 1m 12s\n",
      "bestTest = 0.9388792515\n",
      "bestIteration = 513\n",
      "Shrink model to first 514 iterations.\n"
     ]
    },
    {
     "name": "stderr",
     "output_type": "stream",
     "text": [
      "Default metric period is 5 because AUC is/are not implemented for GPU\n"
     ]
    },
    {
     "name": "stdout",
     "output_type": "stream",
     "text": [
      "0:\ttest: 0.8948952\tbest: 0.8948952 (0)\ttotal: 67.5ms\tremaining: 2m 14s\n",
      "100:\ttest: 0.9288929\tbest: 0.9289075 (97)\ttotal: 5.41s\tremaining: 1m 41s\n",
      "200:\ttest: 0.9317053\tbest: 0.9317530 (197)\ttotal: 10.2s\tremaining: 1m 31s\n",
      "300:\ttest: 0.9321620\tbest: 0.9322104 (294)\ttotal: 14.9s\tremaining: 1m 24s\n",
      "400:\ttest: 0.9326941\tbest: 0.9327397 (396)\ttotal: 19.9s\tremaining: 1m 19s\n",
      "500:\ttest: 0.9331557\tbest: 0.9331557 (500)\ttotal: 24.7s\tremaining: 1m 13s\n",
      "600:\ttest: 0.9331523\tbest: 0.9332780 (591)\ttotal: 29s\tremaining: 1m 7s\n",
      "700:\ttest: 0.9332988\tbest: 0.9333133 (662)\ttotal: 33.7s\tremaining: 1m 2s\n",
      "bestTest = 0.9333132505\n",
      "bestIteration = 662\n",
      "Shrink model to first 663 iterations.\n"
     ]
    },
    {
     "name": "stderr",
     "output_type": "stream",
     "text": [
      "Default metric period is 5 because AUC is/are not implemented for GPU\n"
     ]
    },
    {
     "name": "stdout",
     "output_type": "stream",
     "text": [
      "0:\ttest: 0.9003463\tbest: 0.9003463 (0)\ttotal: 70.8ms\tremaining: 2m 21s\n",
      "100:\ttest: 0.9327739\tbest: 0.9327739 (100)\ttotal: 5.79s\tremaining: 1m 48s\n",
      "200:\ttest: 0.9339950\tbest: 0.9340206 (194)\ttotal: 11.8s\tremaining: 1m 45s\n",
      "300:\ttest: 0.9348266\tbest: 0.9348280 (299)\ttotal: 16.7s\tremaining: 1m 34s\n",
      "400:\ttest: 0.9349276\tbest: 0.9350300 (351)\ttotal: 21.3s\tremaining: 1m 25s\n",
      "bestTest = 0.9350300431\n",
      "bestIteration = 351\n",
      "Shrink model to first 352 iterations.\n"
     ]
    },
    {
     "name": "stderr",
     "output_type": "stream",
     "text": [
      "Default metric period is 5 because AUC is/are not implemented for GPU\n"
     ]
    },
    {
     "name": "stdout",
     "output_type": "stream",
     "text": [
      "0:\ttest: 0.9004270\tbest: 0.9004270 (0)\ttotal: 63.2ms\tremaining: 2m 6s\n",
      "100:\ttest: 0.9336774\tbest: 0.9336782 (99)\ttotal: 4.9s\tremaining: 1m 32s\n",
      "200:\ttest: 0.9355918\tbest: 0.9355918 (200)\ttotal: 9.24s\tremaining: 1m 22s\n",
      "300:\ttest: 0.9360768\tbest: 0.9360768 (300)\ttotal: 13.4s\tremaining: 1m 15s\n",
      "400:\ttest: 0.9361564\tbest: 0.9362774 (368)\ttotal: 17.6s\tremaining: 1m 10s\n",
      "500:\ttest: 0.9363196\tbest: 0.9363438 (478)\ttotal: 22.3s\tremaining: 1m 6s\n",
      "600:\ttest: 0.9365604\tbest: 0.9365653 (589)\ttotal: 27.4s\tremaining: 1m 3s\n",
      "700:\ttest: 0.9366601\tbest: 0.9367064 (681)\ttotal: 32.4s\tremaining: 1m\n",
      "800:\ttest: 0.9366490\tbest: 0.9367687 (735)\ttotal: 37.5s\tremaining: 56.1s\n",
      "bestTest = 0.936768651\n",
      "bestIteration = 735\n",
      "Shrink model to first 736 iterations.\n"
     ]
    },
    {
     "name": "stderr",
     "output_type": "stream",
     "text": [
      "Default metric period is 5 because AUC is/are not implemented for GPU\n"
     ]
    },
    {
     "name": "stdout",
     "output_type": "stream",
     "text": [
      "0:\ttest: 0.9065215\tbest: 0.9065215 (0)\ttotal: 101ms\tremaining: 3m 22s\n",
      "100:\ttest: 0.9374487\tbest: 0.9375318 (98)\ttotal: 5.61s\tremaining: 1m 45s\n",
      "200:\ttest: 0.9379829\tbest: 0.9380064 (194)\ttotal: 11.5s\tremaining: 1m 42s\n",
      "300:\ttest: 0.9384159\tbest: 0.9384194 (299)\ttotal: 16.5s\tremaining: 1m 33s\n",
      "400:\ttest: 0.9390172\tbest: 0.9390822 (385)\ttotal: 21.3s\tremaining: 1m 24s\n",
      "500:\ttest: 0.9391943\tbest: 0.9392379 (491)\ttotal: 26.9s\tremaining: 1m 20s\n",
      "600:\ttest: 0.9393472\tbest: 0.9394060 (535)\ttotal: 32.7s\tremaining: 1m 16s\n"
     ]
    },
    {
     "name": "stderr",
     "output_type": "stream",
     "text": [
      "[I 2025-06-27 23:33:55,855] Trial 15 finished with value: 0.9366794395268558 and parameters: {'learning_rate': 0.0666609294537772, 'max_bin': 253, 'min_data_in_leaf': 186}. Best is trial 10 with value: 0.9370546574419789.\n"
     ]
    },
    {
     "name": "stdout",
     "output_type": "stream",
     "text": [
      "bestTest = 0.9394060373\n",
      "bestIteration = 535\n",
      "Shrink model to first 536 iterations.\n"
     ]
    },
    {
     "name": "stderr",
     "output_type": "stream",
     "text": [
      "Default metric period is 5 because AUC is/are not implemented for GPU\n"
     ]
    },
    {
     "name": "stdout",
     "output_type": "stream",
     "text": [
      "0:\ttest: 0.9017965\tbest: 0.9017965 (0)\ttotal: 67.8ms\tremaining: 2m 15s\n",
      "100:\ttest: 0.9369389\tbest: 0.9369562 (99)\ttotal: 9.33s\tremaining: 2m 55s\n",
      "200:\ttest: 0.9377605\tbest: 0.9377633 (198)\ttotal: 16.7s\tremaining: 2m 29s\n",
      "300:\ttest: 0.9384183\tbest: 0.9384425 (294)\ttotal: 22.3s\tremaining: 2m 6s\n",
      "400:\ttest: 0.9385572\tbest: 0.9387134 (364)\ttotal: 30.4s\tremaining: 2m 1s\n",
      "bestTest = 0.9387133718\n",
      "bestIteration = 364\n",
      "Shrink model to first 365 iterations.\n"
     ]
    },
    {
     "name": "stderr",
     "output_type": "stream",
     "text": [
      "Default metric period is 5 because AUC is/are not implemented for GPU\n"
     ]
    },
    {
     "name": "stdout",
     "output_type": "stream",
     "text": [
      "0:\ttest: 0.8948952\tbest: 0.8948952 (0)\ttotal: 70.7ms\tremaining: 2m 21s\n",
      "100:\ttest: 0.9303330\tbest: 0.9303806 (94)\ttotal: 5.87s\tremaining: 1m 50s\n",
      "200:\ttest: 0.9322595\tbest: 0.9322809 (199)\ttotal: 10.9s\tremaining: 1m 37s\n",
      "300:\ttest: 0.9325476\tbest: 0.9326091 (284)\ttotal: 15.8s\tremaining: 1m 29s\n",
      "bestTest = 0.9326091409\n",
      "bestIteration = 284\n",
      "Shrink model to first 285 iterations.\n"
     ]
    },
    {
     "name": "stderr",
     "output_type": "stream",
     "text": [
      "Default metric period is 5 because AUC is/are not implemented for GPU\n"
     ]
    },
    {
     "name": "stdout",
     "output_type": "stream",
     "text": [
      "0:\ttest: 0.8999561\tbest: 0.8999561 (0)\ttotal: 70.5ms\tremaining: 2m 20s\n",
      "100:\ttest: 0.9318109\tbest: 0.9318427 (92)\ttotal: 4.97s\tremaining: 1m 33s\n",
      "200:\ttest: 0.9341624\tbest: 0.9341763 (199)\ttotal: 9.41s\tremaining: 1m 24s\n",
      "300:\ttest: 0.9346225\tbest: 0.9346869 (277)\ttotal: 14.4s\tremaining: 1m 21s\n",
      "400:\ttest: 0.9348674\tbest: 0.9349380 (364)\ttotal: 19s\tremaining: 1m 15s\n",
      "500:\ttest: 0.9347913\tbest: 0.9350183 (462)\ttotal: 23.5s\tremaining: 1m 10s\n",
      "bestTest = 0.935018301\n",
      "bestIteration = 462\n",
      "Shrink model to first 463 iterations.\n"
     ]
    },
    {
     "name": "stderr",
     "output_type": "stream",
     "text": [
      "Default metric period is 5 because AUC is/are not implemented for GPU\n"
     ]
    },
    {
     "name": "stdout",
     "output_type": "stream",
     "text": [
      "0:\ttest: 0.9019802\tbest: 0.9019802 (0)\ttotal: 57.1ms\tremaining: 1m 54s\n",
      "100:\ttest: 0.9320786\tbest: 0.9320786 (98)\ttotal: 4.44s\tremaining: 1m 23s\n",
      "200:\ttest: 0.9348889\tbest: 0.9348889 (200)\ttotal: 8.46s\tremaining: 1m 15s\n",
      "300:\ttest: 0.9354396\tbest: 0.9354451 (298)\ttotal: 13s\tremaining: 1m 13s\n",
      "400:\ttest: 0.9357378\tbest: 0.9359177 (335)\ttotal: 17.4s\tremaining: 1m 9s\n",
      "500:\ttest: 0.9362325\tbest: 0.9362857 (491)\ttotal: 22.7s\tremaining: 1m 7s\n",
      "bestTest = 0.9362857342\n",
      "bestIteration = 491\n",
      "Shrink model to first 492 iterations.\n"
     ]
    },
    {
     "name": "stderr",
     "output_type": "stream",
     "text": [
      "Default metric period is 5 because AUC is/are not implemented for GPU\n"
     ]
    },
    {
     "name": "stdout",
     "output_type": "stream",
     "text": [
      "0:\ttest: 0.9066000\tbest: 0.9066000 (0)\ttotal: 120ms\tremaining: 3m 59s\n",
      "100:\ttest: 0.9370267\tbest: 0.9370267 (100)\ttotal: 6.37s\tremaining: 1m 59s\n",
      "200:\ttest: 0.9381953\tbest: 0.9382831 (190)\ttotal: 11.4s\tremaining: 1m 42s\n",
      "300:\ttest: 0.9389217\tbest: 0.9390275 (271)\ttotal: 16.7s\tremaining: 1m 34s\n",
      "400:\ttest: 0.9387875\tbest: 0.9390574 (302)\ttotal: 21.6s\tremaining: 1m 25s\n",
      "bestTest = 0.9390573502\n",
      "bestIteration = 302\n",
      "Shrink model to first 303 iterations.\n"
     ]
    },
    {
     "name": "stderr",
     "output_type": "stream",
     "text": [
      "[I 2025-06-27 23:36:09,020] Trial 16 finished with value: 0.936381735867525 and parameters: {'learning_rate': 0.07758694285728465, 'max_bin': 283, 'min_data_in_leaf': 186}. Best is trial 10 with value: 0.9370546574419789.\n",
      "Default metric period is 5 because AUC is/are not implemented for GPU\n"
     ]
    },
    {
     "name": "stdout",
     "output_type": "stream",
     "text": [
      "0:\ttest: 0.8969122\tbest: 0.8969122 (0)\ttotal: 66.2ms\tremaining: 2m 12s\n",
      "100:\ttest: 0.9369769\tbest: 0.9371027 (93)\ttotal: 5.46s\tremaining: 1m 42s\n",
      "200:\ttest: 0.9384653\tbest: 0.9384653 (200)\ttotal: 10.5s\tremaining: 1m 34s\n",
      "300:\ttest: 0.9386235\tbest: 0.9387659 (272)\ttotal: 15.3s\tremaining: 1m 26s\n",
      "bestTest = 0.9387658834\n",
      "bestIteration = 272\n",
      "Shrink model to first 273 iterations.\n"
     ]
    },
    {
     "name": "stderr",
     "output_type": "stream",
     "text": [
      "Default metric period is 5 because AUC is/are not implemented for GPU\n"
     ]
    },
    {
     "name": "stdout",
     "output_type": "stream",
     "text": [
      "0:\ttest: 0.8948952\tbest: 0.8948952 (0)\ttotal: 68.7ms\tremaining: 2m 17s\n",
      "100:\ttest: 0.9288155\tbest: 0.9288217 (98)\ttotal: 5.34s\tremaining: 1m 40s\n",
      "200:\ttest: 0.9310322\tbest: 0.9310322 (200)\ttotal: 9.84s\tremaining: 1m 28s\n",
      "300:\ttest: 0.9314793\tbest: 0.9315132 (296)\ttotal: 14.4s\tremaining: 1m 21s\n",
      "400:\ttest: 0.9318027\tbest: 0.9318559 (387)\ttotal: 19.6s\tremaining: 1m 18s\n",
      "500:\ttest: 0.9321199\tbest: 0.9321199 (500)\ttotal: 24.6s\tremaining: 1m 13s\n",
      "600:\ttest: 0.9323576\tbest: 0.9323680 (584)\ttotal: 29.2s\tremaining: 1m 7s\n",
      "700:\ttest: 0.9323217\tbest: 0.9324426 (656)\ttotal: 33.8s\tremaining: 1m 2s\n",
      "800:\ttest: 0.9324847\tbest: 0.9325566 (785)\ttotal: 38.8s\tremaining: 58s\n",
      "bestTest = 0.9325566292\n",
      "bestIteration = 785\n",
      "Shrink model to first 786 iterations.\n"
     ]
    },
    {
     "name": "stderr",
     "output_type": "stream",
     "text": [
      "Default metric period is 5 because AUC is/are not implemented for GPU\n"
     ]
    },
    {
     "name": "stdout",
     "output_type": "stream",
     "text": [
      "0:\ttest: 0.9003463\tbest: 0.9003463 (0)\ttotal: 69.9ms\tremaining: 2m 19s\n",
      "100:\ttest: 0.9311432\tbest: 0.9311993 (99)\ttotal: 5.5s\tremaining: 1m 43s\n",
      "200:\ttest: 0.9332665\tbest: 0.9332665 (200)\ttotal: 10.9s\tremaining: 1m 37s\n",
      "300:\ttest: 0.9337660\tbest: 0.9337916 (280)\ttotal: 16.1s\tremaining: 1m 30s\n",
      "400:\ttest: 0.9336816\tbest: 0.9339169 (327)\ttotal: 20.8s\tremaining: 1m 22s\n",
      "bestTest = 0.9339168668\n",
      "bestIteration = 327\n",
      "Shrink model to first 328 iterations.\n"
     ]
    },
    {
     "name": "stderr",
     "output_type": "stream",
     "text": [
      "Default metric period is 5 because AUC is/are not implemented for GPU\n"
     ]
    },
    {
     "name": "stdout",
     "output_type": "stream",
     "text": [
      "0:\ttest: 0.9004270\tbest: 0.9004270 (0)\ttotal: 65.6ms\tremaining: 2m 11s\n",
      "100:\ttest: 0.9329628\tbest: 0.9329690 (99)\ttotal: 4.93s\tremaining: 1m 32s\n",
      "200:\ttest: 0.9354936\tbest: 0.9355316 (191)\ttotal: 9.2s\tremaining: 1m 22s\n",
      "300:\ttest: 0.9361252\tbest: 0.9361744 (294)\ttotal: 13.1s\tremaining: 1m 14s\n",
      "400:\ttest: 0.9361391\tbest: 0.9362629 (375)\ttotal: 17.1s\tremaining: 1m 8s\n",
      "500:\ttest: 0.9362726\tbest: 0.9364815 (440)\ttotal: 21.4s\tremaining: 1m 3s\n",
      "bestTest = 0.9364815354\n",
      "bestIteration = 440\n",
      "Shrink model to first 441 iterations.\n"
     ]
    },
    {
     "name": "stderr",
     "output_type": "stream",
     "text": [
      "Default metric period is 5 because AUC is/are not implemented for GPU\n"
     ]
    },
    {
     "name": "stdout",
     "output_type": "stream",
     "text": [
      "0:\ttest: 0.9065215\tbest: 0.9065215 (0)\ttotal: 57.7ms\tremaining: 1m 55s\n",
      "100:\ttest: 0.9378978\tbest: 0.9378978 (100)\ttotal: 5.09s\tremaining: 1m 35s\n",
      "200:\ttest: 0.9382845\tbest: 0.9384381 (182)\ttotal: 9.7s\tremaining: 1m 26s\n",
      "300:\ttest: 0.9389473\tbest: 0.9389473 (300)\ttotal: 13.8s\tremaining: 1m 17s\n",
      "400:\ttest: 0.9395188\tbest: 0.9395797 (396)\ttotal: 19.2s\tremaining: 1m 16s\n",
      "500:\ttest: 0.9395720\tbest: 0.9396399 (497)\ttotal: 27.4s\tremaining: 1m 21s\n",
      "600:\ttest: 0.9397886\tbest: 0.9397886 (600)\ttotal: 34.1s\tremaining: 1m 19s\n",
      "700:\ttest: 0.9398301\tbest: 0.9398301 (700)\ttotal: 45s\tremaining: 1m 23s\n",
      "800:\ttest: 0.9396828\tbest: 0.9398301 (700)\ttotal: 51.7s\tremaining: 1m 17s\n",
      "bestTest = 0.9398301244\n",
      "bestIteration = 700\n",
      "Shrink model to first 701 iterations.\n"
     ]
    },
    {
     "name": "stderr",
     "output_type": "stream",
     "text": [
      "[I 2025-06-27 23:38:51,004] Trial 17 finished with value: 0.936310343359659 and parameters: {'learning_rate': 0.07297524167630001, 'max_bin': 252, 'min_data_in_leaf': 163}. Best is trial 10 with value: 0.9370546574419789.\n",
      "Default metric period is 5 because AUC is/are not implemented for GPU\n"
     ]
    },
    {
     "name": "stdout",
     "output_type": "stream",
     "text": [
      "0:\ttest: 0.8969122\tbest: 0.8969122 (0)\ttotal: 218ms\tremaining: 7m 15s\n",
      "100:\ttest: 0.9368048\tbest: 0.9368048 (100)\ttotal: 6.41s\tremaining: 2m\n",
      "200:\ttest: 0.9384183\tbest: 0.9384508 (198)\ttotal: 12.2s\tremaining: 1m 48s\n",
      "300:\ttest: 0.9385710\tbest: 0.9385993 (276)\ttotal: 17.3s\tremaining: 1m 37s\n",
      "400:\ttest: 0.9385759\tbest: 0.9386360 (309)\ttotal: 22.8s\tremaining: 1m 30s\n",
      "500:\ttest: 0.9386415\tbest: 0.9386560 (494)\ttotal: 28.8s\tremaining: 1m 26s\n",
      "600:\ttest: 0.9386139\tbest: 0.9387438 (518)\ttotal: 33.5s\tremaining: 1m 18s\n",
      "bestTest = 0.9387437701\n",
      "bestIteration = 518\n",
      "Shrink model to first 519 iterations.\n"
     ]
    },
    {
     "name": "stderr",
     "output_type": "stream",
     "text": [
      "Default metric period is 5 because AUC is/are not implemented for GPU\n"
     ]
    },
    {
     "name": "stdout",
     "output_type": "stream",
     "text": [
      "0:\ttest: 0.8948952\tbest: 0.8948952 (0)\ttotal: 66.7ms\tremaining: 2m 13s\n",
      "100:\ttest: 0.9299433\tbest: 0.9299433 (100)\ttotal: 7.29s\tremaining: 2m 17s\n",
      "200:\ttest: 0.9315588\tbest: 0.9316245 (184)\ttotal: 12s\tremaining: 1m 47s\n",
      "300:\ttest: 0.9323915\tbest: 0.9323921 (299)\ttotal: 16.7s\tremaining: 1m 34s\n",
      "400:\ttest: 0.9329733\tbest: 0.9329967 (397)\ttotal: 21.6s\tremaining: 1m 25s\n",
      "500:\ttest: 0.9331819\tbest: 0.9331819 (500)\ttotal: 26.8s\tremaining: 1m 20s\n",
      "600:\ttest: 0.9333706\tbest: 0.9333706 (600)\ttotal: 31.5s\tremaining: 1m 13s\n",
      "700:\ttest: 0.9334604\tbest: 0.9334943 (687)\ttotal: 36s\tremaining: 1m 6s\n",
      "800:\ttest: 0.9336208\tbest: 0.9336366 (789)\ttotal: 40.8s\tremaining: 1m 1s\n",
      "900:\ttest: 0.9337209\tbest: 0.9337589 (875)\ttotal: 45.1s\tremaining: 55s\n",
      "bestTest = 0.9337589145\n",
      "bestIteration = 875\n",
      "Shrink model to first 876 iterations.\n"
     ]
    },
    {
     "name": "stderr",
     "output_type": "stream",
     "text": [
      "Default metric period is 5 because AUC is/are not implemented for GPU\n"
     ]
    },
    {
     "name": "stdout",
     "output_type": "stream",
     "text": [
      "0:\ttest: 0.9003463\tbest: 0.9003463 (0)\ttotal: 64.8ms\tremaining: 2m 9s\n",
      "100:\ttest: 0.9311149\tbest: 0.9311301 (98)\ttotal: 4.52s\tremaining: 1m 24s\n",
      "200:\ttest: 0.9334623\tbest: 0.9334637 (199)\ttotal: 9.04s\tremaining: 1m 20s\n",
      "300:\ttest: 0.9340746\tbest: 0.9340988 (286)\ttotal: 13.4s\tremaining: 1m 15s\n",
      "400:\ttest: 0.9343776\tbest: 0.9344454 (388)\ttotal: 17.6s\tremaining: 1m 10s\n",
      "bestTest = 0.9344454408\n",
      "bestIteration = 388\n",
      "Shrink model to first 389 iterations.\n"
     ]
    },
    {
     "name": "stderr",
     "output_type": "stream",
     "text": [
      "Default metric period is 5 because AUC is/are not implemented for GPU\n"
     ]
    },
    {
     "name": "stdout",
     "output_type": "stream",
     "text": [
      "0:\ttest: 0.9004270\tbest: 0.9004270 (0)\ttotal: 55.3ms\tremaining: 1m 50s\n",
      "100:\ttest: 0.9331945\tbest: 0.9331987 (99)\ttotal: 4.88s\tremaining: 1m 31s\n",
      "200:\ttest: 0.9351919\tbest: 0.9351919 (200)\ttotal: 8.78s\tremaining: 1m 18s\n",
      "300:\ttest: 0.9355946\tbest: 0.9357198 (258)\ttotal: 12.7s\tremaining: 1m 11s\n",
      "400:\ttest: 0.9358713\tbest: 0.9359163 (395)\ttotal: 17.3s\tremaining: 1m 8s\n",
      "500:\ttest: 0.9359433\tbest: 0.9360526 (426)\ttotal: 22.2s\tremaining: 1m 6s\n",
      "bestTest = 0.9360526204\n",
      "bestIteration = 426\n",
      "Shrink model to first 427 iterations.\n"
     ]
    },
    {
     "name": "stderr",
     "output_type": "stream",
     "text": [
      "Default metric period is 5 because AUC is/are not implemented for GPU\n"
     ]
    },
    {
     "name": "stdout",
     "output_type": "stream",
     "text": [
      "0:\ttest: 0.9065215\tbest: 0.9065215 (0)\ttotal: 65ms\tremaining: 2m 9s\n",
      "100:\ttest: 0.9368704\tbest: 0.9368704 (100)\ttotal: 5.64s\tremaining: 1m 46s\n",
      "200:\ttest: 0.9375629\tbest: 0.9376881 (195)\ttotal: 10.3s\tremaining: 1m 32s\n",
      "300:\ttest: 0.9384236\tbest: 0.9385938 (293)\ttotal: 14.9s\tremaining: 1m 23s\n",
      "400:\ttest: 0.9386899\tbest: 0.9387384 (393)\ttotal: 20.2s\tremaining: 1m 20s\n",
      "500:\ttest: 0.9390476\tbest: 0.9390836 (494)\ttotal: 25.4s\tremaining: 1m 15s\n",
      "600:\ttest: 0.9392053\tbest: 0.9392386 (583)\ttotal: 30.7s\tremaining: 1m 11s\n"
     ]
    },
    {
     "name": "stderr",
     "output_type": "stream",
     "text": [
      "[I 2025-06-27 23:41:35,590] Trial 18 finished with value: 0.9364480062979179 and parameters: {'learning_rate': 0.06892105260171537, 'max_bin': 243, 'min_data_in_leaf': 103}. Best is trial 10 with value: 0.9370546574419789.\n"
     ]
    },
    {
     "name": "stdout",
     "output_type": "stream",
     "text": [
      "bestTest = 0.9392386079\n",
      "bestIteration = 583\n",
      "Shrink model to first 584 iterations.\n"
     ]
    },
    {
     "name": "stderr",
     "output_type": "stream",
     "text": [
      "Default metric period is 5 because AUC is/are not implemented for GPU\n"
     ]
    },
    {
     "name": "stdout",
     "output_type": "stream",
     "text": [
      "0:\ttest: 0.9017965\tbest: 0.9017965 (0)\ttotal: 66ms\tremaining: 2m 11s\n",
      "100:\ttest: 0.9370149\tbest: 0.9370384 (98)\ttotal: 5.39s\tremaining: 1m 41s\n",
      "200:\ttest: 0.9383727\tbest: 0.9384218 (186)\ttotal: 9.96s\tremaining: 1m 29s\n",
      "300:\ttest: 0.9388571\tbest: 0.9388668 (299)\ttotal: 15.2s\tremaining: 1m 25s\n",
      "400:\ttest: 0.9390437\tbest: 0.9390720 (393)\ttotal: 20.2s\tremaining: 1m 20s\n",
      "500:\ttest: 0.9389780\tbest: 0.9391322 (434)\ttotal: 24.8s\tremaining: 1m 14s\n",
      "bestTest = 0.939132154\n",
      "bestIteration = 434\n",
      "Shrink model to first 435 iterations.\n"
     ]
    },
    {
     "name": "stderr",
     "output_type": "stream",
     "text": [
      "Default metric period is 5 because AUC is/are not implemented for GPU\n"
     ]
    },
    {
     "name": "stdout",
     "output_type": "stream",
     "text": [
      "0:\ttest: 0.8948952\tbest: 0.8948952 (0)\ttotal: 63.4ms\tremaining: 2m 6s\n",
      "100:\ttest: 0.9297926\tbest: 0.9298016 (99)\ttotal: 5.27s\tremaining: 1m 39s\n",
      "200:\ttest: 0.9314144\tbest: 0.9314144 (200)\ttotal: 11.1s\tremaining: 1m 39s\n",
      "300:\ttest: 0.9326892\tbest: 0.9326892 (300)\ttotal: 17.6s\tremaining: 1m 39s\n",
      "400:\ttest: 0.9328358\tbest: 0.9328890 (388)\ttotal: 23.5s\tremaining: 1m 33s\n",
      "500:\ttest: 0.9329588\tbest: 0.9329650 (499)\ttotal: 28.6s\tremaining: 1m 25s\n",
      "600:\ttest: 0.9333637\tbest: 0.9333658 (584)\ttotal: 35.2s\tremaining: 1m 21s\n",
      "700:\ttest: 0.9334210\tbest: 0.9334294 (699)\ttotal: 40.3s\tremaining: 1m 14s\n",
      "800:\ttest: 0.9333789\tbest: 0.9335254 (746)\ttotal: 44.5s\tremaining: 1m 6s\n",
      "bestTest = 0.9335253835\n",
      "bestIteration = 746\n",
      "Shrink model to first 747 iterations.\n"
     ]
    },
    {
     "name": "stderr",
     "output_type": "stream",
     "text": [
      "Default metric period is 5 because AUC is/are not implemented for GPU\n"
     ]
    },
    {
     "name": "stdout",
     "output_type": "stream",
     "text": [
      "0:\ttest: 0.8999561\tbest: 0.8999561 (0)\ttotal: 62.8ms\tremaining: 2m 5s\n",
      "100:\ttest: 0.9326106\tbest: 0.9326106 (100)\ttotal: 4.55s\tremaining: 1m 25s\n",
      "200:\ttest: 0.9345741\tbest: 0.9346212 (198)\ttotal: 8.83s\tremaining: 1m 19s\n",
      "300:\ttest: 0.9348592\tbest: 0.9348896 (290)\ttotal: 13s\tremaining: 1m 13s\n",
      "400:\ttest: 0.9351020\tbest: 0.9351158 (399)\ttotal: 17.5s\tremaining: 1m 9s\n",
      "500:\ttest: 0.9350840\tbest: 0.9351968 (457)\ttotal: 21.6s\tremaining: 1m 4s\n",
      "bestTest = 0.9351967573\n",
      "bestIteration = 457\n",
      "Shrink model to first 458 iterations.\n"
     ]
    },
    {
     "name": "stderr",
     "output_type": "stream",
     "text": [
      "Default metric period is 5 because AUC is/are not implemented for GPU\n"
     ]
    },
    {
     "name": "stdout",
     "output_type": "stream",
     "text": [
      "0:\ttest: 0.9019802\tbest: 0.9019802 (0)\ttotal: 59.7ms\tremaining: 1m 59s\n",
      "100:\ttest: 0.9320516\tbest: 0.9321657 (99)\ttotal: 4.34s\tremaining: 1m 21s\n",
      "200:\ttest: 0.9344752\tbest: 0.9344752 (200)\ttotal: 8.49s\tremaining: 1m 16s\n",
      "300:\ttest: 0.9358042\tbest: 0.9358319 (293)\ttotal: 14s\tremaining: 1m 18s\n",
      "400:\ttest: 0.9361073\tbest: 0.9361543 (371)\ttotal: 19.8s\tremaining: 1m 18s\n",
      "bestTest = 0.9361543059\n",
      "bestIteration = 371\n",
      "Shrink model to first 372 iterations.\n"
     ]
    },
    {
     "name": "stderr",
     "output_type": "stream",
     "text": [
      "Default metric period is 5 because AUC is/are not implemented for GPU\n"
     ]
    },
    {
     "name": "stdout",
     "output_type": "stream",
     "text": [
      "0:\ttest: 0.9066000\tbest: 0.9066000 (0)\ttotal: 69.1ms\tremaining: 2m 18s\n",
      "100:\ttest: 0.9372163\tbest: 0.9372163 (100)\ttotal: 6.02s\tremaining: 1m 53s\n",
      "200:\ttest: 0.9385004\tbest: 0.9385294 (198)\ttotal: 11.2s\tremaining: 1m 39s\n",
      "300:\ttest: 0.9390622\tbest: 0.9391742 (290)\ttotal: 17.5s\tremaining: 1m 38s\n",
      "400:\ttest: 0.9394282\tbest: 0.9394946 (367)\ttotal: 22.5s\tremaining: 1m 29s\n",
      "500:\ttest: 0.9396973\tbest: 0.9397588 (488)\ttotal: 27.8s\tremaining: 1m 23s\n",
      "600:\ttest: 0.9395983\tbest: 0.9397872 (561)\ttotal: 32.5s\tremaining: 1m 15s\n"
     ]
    },
    {
     "name": "stderr",
     "output_type": "stream",
     "text": [
      "[I 2025-06-27 23:44:14,199] Trial 19 finished with value: 0.936764040034437 and parameters: {'learning_rate': 0.07817465269665455, 'max_bin': 264, 'min_data_in_leaf': 192}. Best is trial 10 with value: 0.9370546574419789.\n"
     ]
    },
    {
     "name": "stdout",
     "output_type": "stream",
     "text": [
      "bestTest = 0.939787209\n",
      "bestIteration = 561\n",
      "Shrink model to first 562 iterations.\n",
      "Best parameters: {'learning_rate': 0.07988843005102993, 'max_bin': 238, 'min_data_in_leaf': 197}\n",
      "Best ROC AUC: 0.9370546574419789\n"
     ]
    }
   ],
   "source": [
    "study = optuna.create_study(direction='maximize')\n",
    "study.optimize(objective, n_trials=20)\n",
    "\n",
    "# Лучшие параметры\n",
    "print(\"Best parameters:\", study.best_params)\n",
    "print(\"Best ROC AUC:\", study.best_value)"
   ]
  },
  {
   "cell_type": "code",
   "execution_count": 117,
   "id": "e0afa42a",
   "metadata": {},
   "outputs": [
    {
     "data": {
      "text/plain": [
       "{'learning_rate': 0.07988843005102993, 'max_bin': 238, 'min_data_in_leaf': 197}"
      ]
     },
     "execution_count": 117,
     "metadata": {},
     "output_type": "execute_result"
    }
   ],
   "source": [
    "best_params = study.best_params\n",
    "best_params"
   ]
  },
  {
   "cell_type": "code",
   "execution_count": 118,
   "id": "992d9b46",
   "metadata": {},
   "outputs": [
    {
     "data": {
      "application/vnd.plotly.v1+json": {
       "config": {
        "plotlyServerURL": "https://plot.ly"
       },
       "data": [
        {
         "mode": "markers",
         "name": "Objective Value",
         "type": "scatter",
         "x": [
          0,
          1,
          2,
          3,
          4,
          5,
          6,
          7,
          8,
          9,
          10,
          11,
          12,
          13,
          14,
          15,
          16,
          17,
          18,
          19
         ],
         "y": [
          0.9362207150642223,
          0.936635733534952,
          0.9367803280454703,
          0.9366951894390916,
          0.9369448283274782,
          0.9364137386464817,
          0.9363011150278858,
          0.9367300042308597,
          0.9363650869844082,
          0.9366090859036549,
          0.9370546574419789,
          0.9367215195046956,
          0.9363757675545227,
          0.9368521512442932,
          0.9369885302272039,
          0.9366794395268558,
          0.936381735867525,
          0.936310343359659,
          0.9364480062979179,
          0.936764040034437
         ]
        },
        {
         "mode": "lines",
         "name": "Best Value",
         "type": "scatter",
         "x": [
          0,
          1,
          2,
          3,
          4,
          5,
          6,
          7,
          8,
          9,
          10,
          11,
          12,
          13,
          14,
          15,
          16,
          17,
          18,
          19
         ],
         "y": [
          0.9362207150642223,
          0.936635733534952,
          0.9367803280454703,
          0.9367803280454703,
          0.9369448283274782,
          0.9369448283274782,
          0.9369448283274782,
          0.9369448283274782,
          0.9369448283274782,
          0.9369448283274782,
          0.9370546574419789,
          0.9370546574419789,
          0.9370546574419789,
          0.9370546574419789,
          0.9370546574419789,
          0.9370546574419789,
          0.9370546574419789,
          0.9370546574419789,
          0.9370546574419789,
          0.9370546574419789
         ]
        },
        {
         "marker": {
          "color": "#cccccc"
         },
         "mode": "markers",
         "name": "Infeasible Trial",
         "showlegend": false,
         "type": "scatter",
         "x": [],
         "y": []
        }
       ],
       "layout": {
        "template": {
         "data": {
          "bar": [
           {
            "error_x": {
             "color": "#2a3f5f"
            },
            "error_y": {
             "color": "#2a3f5f"
            },
            "marker": {
             "line": {
              "color": "#E5ECF6",
              "width": 0.5
             },
             "pattern": {
              "fillmode": "overlay",
              "size": 10,
              "solidity": 0.2
             }
            },
            "type": "bar"
           }
          ],
          "barpolar": [
           {
            "marker": {
             "line": {
              "color": "#E5ECF6",
              "width": 0.5
             },
             "pattern": {
              "fillmode": "overlay",
              "size": 10,
              "solidity": 0.2
             }
            },
            "type": "barpolar"
           }
          ],
          "carpet": [
           {
            "aaxis": {
             "endlinecolor": "#2a3f5f",
             "gridcolor": "white",
             "linecolor": "white",
             "minorgridcolor": "white",
             "startlinecolor": "#2a3f5f"
            },
            "baxis": {
             "endlinecolor": "#2a3f5f",
             "gridcolor": "white",
             "linecolor": "white",
             "minorgridcolor": "white",
             "startlinecolor": "#2a3f5f"
            },
            "type": "carpet"
           }
          ],
          "choropleth": [
           {
            "colorbar": {
             "outlinewidth": 0,
             "ticks": ""
            },
            "type": "choropleth"
           }
          ],
          "contour": [
           {
            "colorbar": {
             "outlinewidth": 0,
             "ticks": ""
            },
            "colorscale": [
             [
              0,
              "#0d0887"
             ],
             [
              0.1111111111111111,
              "#46039f"
             ],
             [
              0.2222222222222222,
              "#7201a8"
             ],
             [
              0.3333333333333333,
              "#9c179e"
             ],
             [
              0.4444444444444444,
              "#bd3786"
             ],
             [
              0.5555555555555556,
              "#d8576b"
             ],
             [
              0.6666666666666666,
              "#ed7953"
             ],
             [
              0.7777777777777778,
              "#fb9f3a"
             ],
             [
              0.8888888888888888,
              "#fdca26"
             ],
             [
              1,
              "#f0f921"
             ]
            ],
            "type": "contour"
           }
          ],
          "contourcarpet": [
           {
            "colorbar": {
             "outlinewidth": 0,
             "ticks": ""
            },
            "type": "contourcarpet"
           }
          ],
          "heatmap": [
           {
            "colorbar": {
             "outlinewidth": 0,
             "ticks": ""
            },
            "colorscale": [
             [
              0,
              "#0d0887"
             ],
             [
              0.1111111111111111,
              "#46039f"
             ],
             [
              0.2222222222222222,
              "#7201a8"
             ],
             [
              0.3333333333333333,
              "#9c179e"
             ],
             [
              0.4444444444444444,
              "#bd3786"
             ],
             [
              0.5555555555555556,
              "#d8576b"
             ],
             [
              0.6666666666666666,
              "#ed7953"
             ],
             [
              0.7777777777777778,
              "#fb9f3a"
             ],
             [
              0.8888888888888888,
              "#fdca26"
             ],
             [
              1,
              "#f0f921"
             ]
            ],
            "type": "heatmap"
           }
          ],
          "heatmapgl": [
           {
            "colorbar": {
             "outlinewidth": 0,
             "ticks": ""
            },
            "colorscale": [
             [
              0,
              "#0d0887"
             ],
             [
              0.1111111111111111,
              "#46039f"
             ],
             [
              0.2222222222222222,
              "#7201a8"
             ],
             [
              0.3333333333333333,
              "#9c179e"
             ],
             [
              0.4444444444444444,
              "#bd3786"
             ],
             [
              0.5555555555555556,
              "#d8576b"
             ],
             [
              0.6666666666666666,
              "#ed7953"
             ],
             [
              0.7777777777777778,
              "#fb9f3a"
             ],
             [
              0.8888888888888888,
              "#fdca26"
             ],
             [
              1,
              "#f0f921"
             ]
            ],
            "type": "heatmapgl"
           }
          ],
          "histogram": [
           {
            "marker": {
             "pattern": {
              "fillmode": "overlay",
              "size": 10,
              "solidity": 0.2
             }
            },
            "type": "histogram"
           }
          ],
          "histogram2d": [
           {
            "colorbar": {
             "outlinewidth": 0,
             "ticks": ""
            },
            "colorscale": [
             [
              0,
              "#0d0887"
             ],
             [
              0.1111111111111111,
              "#46039f"
             ],
             [
              0.2222222222222222,
              "#7201a8"
             ],
             [
              0.3333333333333333,
              "#9c179e"
             ],
             [
              0.4444444444444444,
              "#bd3786"
             ],
             [
              0.5555555555555556,
              "#d8576b"
             ],
             [
              0.6666666666666666,
              "#ed7953"
             ],
             [
              0.7777777777777778,
              "#fb9f3a"
             ],
             [
              0.8888888888888888,
              "#fdca26"
             ],
             [
              1,
              "#f0f921"
             ]
            ],
            "type": "histogram2d"
           }
          ],
          "histogram2dcontour": [
           {
            "colorbar": {
             "outlinewidth": 0,
             "ticks": ""
            },
            "colorscale": [
             [
              0,
              "#0d0887"
             ],
             [
              0.1111111111111111,
              "#46039f"
             ],
             [
              0.2222222222222222,
              "#7201a8"
             ],
             [
              0.3333333333333333,
              "#9c179e"
             ],
             [
              0.4444444444444444,
              "#bd3786"
             ],
             [
              0.5555555555555556,
              "#d8576b"
             ],
             [
              0.6666666666666666,
              "#ed7953"
             ],
             [
              0.7777777777777778,
              "#fb9f3a"
             ],
             [
              0.8888888888888888,
              "#fdca26"
             ],
             [
              1,
              "#f0f921"
             ]
            ],
            "type": "histogram2dcontour"
           }
          ],
          "mesh3d": [
           {
            "colorbar": {
             "outlinewidth": 0,
             "ticks": ""
            },
            "type": "mesh3d"
           }
          ],
          "parcoords": [
           {
            "line": {
             "colorbar": {
              "outlinewidth": 0,
              "ticks": ""
             }
            },
            "type": "parcoords"
           }
          ],
          "pie": [
           {
            "automargin": true,
            "type": "pie"
           }
          ],
          "scatter": [
           {
            "fillpattern": {
             "fillmode": "overlay",
             "size": 10,
             "solidity": 0.2
            },
            "type": "scatter"
           }
          ],
          "scatter3d": [
           {
            "line": {
             "colorbar": {
              "outlinewidth": 0,
              "ticks": ""
             }
            },
            "marker": {
             "colorbar": {
              "outlinewidth": 0,
              "ticks": ""
             }
            },
            "type": "scatter3d"
           }
          ],
          "scattercarpet": [
           {
            "marker": {
             "colorbar": {
              "outlinewidth": 0,
              "ticks": ""
             }
            },
            "type": "scattercarpet"
           }
          ],
          "scattergeo": [
           {
            "marker": {
             "colorbar": {
              "outlinewidth": 0,
              "ticks": ""
             }
            },
            "type": "scattergeo"
           }
          ],
          "scattergl": [
           {
            "marker": {
             "colorbar": {
              "outlinewidth": 0,
              "ticks": ""
             }
            },
            "type": "scattergl"
           }
          ],
          "scattermapbox": [
           {
            "marker": {
             "colorbar": {
              "outlinewidth": 0,
              "ticks": ""
             }
            },
            "type": "scattermapbox"
           }
          ],
          "scatterpolar": [
           {
            "marker": {
             "colorbar": {
              "outlinewidth": 0,
              "ticks": ""
             }
            },
            "type": "scatterpolar"
           }
          ],
          "scatterpolargl": [
           {
            "marker": {
             "colorbar": {
              "outlinewidth": 0,
              "ticks": ""
             }
            },
            "type": "scatterpolargl"
           }
          ],
          "scatterternary": [
           {
            "marker": {
             "colorbar": {
              "outlinewidth": 0,
              "ticks": ""
             }
            },
            "type": "scatterternary"
           }
          ],
          "surface": [
           {
            "colorbar": {
             "outlinewidth": 0,
             "ticks": ""
            },
            "colorscale": [
             [
              0,
              "#0d0887"
             ],
             [
              0.1111111111111111,
              "#46039f"
             ],
             [
              0.2222222222222222,
              "#7201a8"
             ],
             [
              0.3333333333333333,
              "#9c179e"
             ],
             [
              0.4444444444444444,
              "#bd3786"
             ],
             [
              0.5555555555555556,
              "#d8576b"
             ],
             [
              0.6666666666666666,
              "#ed7953"
             ],
             [
              0.7777777777777778,
              "#fb9f3a"
             ],
             [
              0.8888888888888888,
              "#fdca26"
             ],
             [
              1,
              "#f0f921"
             ]
            ],
            "type": "surface"
           }
          ],
          "table": [
           {
            "cells": {
             "fill": {
              "color": "#EBF0F8"
             },
             "line": {
              "color": "white"
             }
            },
            "header": {
             "fill": {
              "color": "#C8D4E3"
             },
             "line": {
              "color": "white"
             }
            },
            "type": "table"
           }
          ]
         },
         "layout": {
          "annotationdefaults": {
           "arrowcolor": "#2a3f5f",
           "arrowhead": 0,
           "arrowwidth": 1
          },
          "autotypenumbers": "strict",
          "coloraxis": {
           "colorbar": {
            "outlinewidth": 0,
            "ticks": ""
           }
          },
          "colorscale": {
           "diverging": [
            [
             0,
             "#8e0152"
            ],
            [
             0.1,
             "#c51b7d"
            ],
            [
             0.2,
             "#de77ae"
            ],
            [
             0.3,
             "#f1b6da"
            ],
            [
             0.4,
             "#fde0ef"
            ],
            [
             0.5,
             "#f7f7f7"
            ],
            [
             0.6,
             "#e6f5d0"
            ],
            [
             0.7,
             "#b8e186"
            ],
            [
             0.8,
             "#7fbc41"
            ],
            [
             0.9,
             "#4d9221"
            ],
            [
             1,
             "#276419"
            ]
           ],
           "sequential": [
            [
             0,
             "#0d0887"
            ],
            [
             0.1111111111111111,
             "#46039f"
            ],
            [
             0.2222222222222222,
             "#7201a8"
            ],
            [
             0.3333333333333333,
             "#9c179e"
            ],
            [
             0.4444444444444444,
             "#bd3786"
            ],
            [
             0.5555555555555556,
             "#d8576b"
            ],
            [
             0.6666666666666666,
             "#ed7953"
            ],
            [
             0.7777777777777778,
             "#fb9f3a"
            ],
            [
             0.8888888888888888,
             "#fdca26"
            ],
            [
             1,
             "#f0f921"
            ]
           ],
           "sequentialminus": [
            [
             0,
             "#0d0887"
            ],
            [
             0.1111111111111111,
             "#46039f"
            ],
            [
             0.2222222222222222,
             "#7201a8"
            ],
            [
             0.3333333333333333,
             "#9c179e"
            ],
            [
             0.4444444444444444,
             "#bd3786"
            ],
            [
             0.5555555555555556,
             "#d8576b"
            ],
            [
             0.6666666666666666,
             "#ed7953"
            ],
            [
             0.7777777777777778,
             "#fb9f3a"
            ],
            [
             0.8888888888888888,
             "#fdca26"
            ],
            [
             1,
             "#f0f921"
            ]
           ]
          },
          "colorway": [
           "#636efa",
           "#EF553B",
           "#00cc96",
           "#ab63fa",
           "#FFA15A",
           "#19d3f3",
           "#FF6692",
           "#B6E880",
           "#FF97FF",
           "#FECB52"
          ],
          "font": {
           "color": "#2a3f5f"
          },
          "geo": {
           "bgcolor": "white",
           "lakecolor": "white",
           "landcolor": "#E5ECF6",
           "showlakes": true,
           "showland": true,
           "subunitcolor": "white"
          },
          "hoverlabel": {
           "align": "left"
          },
          "hovermode": "closest",
          "mapbox": {
           "style": "light"
          },
          "paper_bgcolor": "white",
          "plot_bgcolor": "#E5ECF6",
          "polar": {
           "angularaxis": {
            "gridcolor": "white",
            "linecolor": "white",
            "ticks": ""
           },
           "bgcolor": "#E5ECF6",
           "radialaxis": {
            "gridcolor": "white",
            "linecolor": "white",
            "ticks": ""
           }
          },
          "scene": {
           "xaxis": {
            "backgroundcolor": "#E5ECF6",
            "gridcolor": "white",
            "gridwidth": 2,
            "linecolor": "white",
            "showbackground": true,
            "ticks": "",
            "zerolinecolor": "white"
           },
           "yaxis": {
            "backgroundcolor": "#E5ECF6",
            "gridcolor": "white",
            "gridwidth": 2,
            "linecolor": "white",
            "showbackground": true,
            "ticks": "",
            "zerolinecolor": "white"
           },
           "zaxis": {
            "backgroundcolor": "#E5ECF6",
            "gridcolor": "white",
            "gridwidth": 2,
            "linecolor": "white",
            "showbackground": true,
            "ticks": "",
            "zerolinecolor": "white"
           }
          },
          "shapedefaults": {
           "line": {
            "color": "#2a3f5f"
           }
          },
          "ternary": {
           "aaxis": {
            "gridcolor": "white",
            "linecolor": "white",
            "ticks": ""
           },
           "baxis": {
            "gridcolor": "white",
            "linecolor": "white",
            "ticks": ""
           },
           "bgcolor": "#E5ECF6",
           "caxis": {
            "gridcolor": "white",
            "linecolor": "white",
            "ticks": ""
           }
          },
          "title": {
           "x": 0.05
          },
          "xaxis": {
           "automargin": true,
           "gridcolor": "white",
           "linecolor": "white",
           "ticks": "",
           "title": {
            "standoff": 15
           },
           "zerolinecolor": "white",
           "zerolinewidth": 2
          },
          "yaxis": {
           "automargin": true,
           "gridcolor": "white",
           "linecolor": "white",
           "ticks": "",
           "title": {
            "standoff": 15
           },
           "zerolinecolor": "white",
           "zerolinewidth": 2
          }
         }
        },
        "title": {
         "text": "Optimization History Plot"
        },
        "xaxis": {
         "title": {
          "text": "Trial"
         }
        },
        "yaxis": {
         "title": {
          "text": "Objective Value"
         }
        }
       }
      }
     },
     "metadata": {},
     "output_type": "display_data"
    }
   ],
   "source": [
    "fig = plot_optimization_history(study)\n",
    "fig.show()"
   ]
  },
  {
   "cell_type": "code",
   "execution_count": 119,
   "id": "b9da25e8",
   "metadata": {},
   "outputs": [
    {
     "data": {
      "application/vnd.plotly.v1+json": {
       "config": {
        "plotlyServerURL": "https://plot.ly"
       },
       "data": [
        {
         "cliponaxis": false,
         "hovertemplate": [
          "learning_rate (FloatDistribution): 0.08767808707382033<extra></extra>",
          "max_bin (IntDistribution): 0.22873248056161974<extra></extra>",
          "min_data_in_leaf (IntDistribution): 0.68358943236456<extra></extra>"
         ],
         "name": "Objective Value",
         "orientation": "h",
         "text": [
          "0.09",
          "0.23",
          "0.68"
         ],
         "textposition": "outside",
         "type": "bar",
         "x": [
          0.08767808707382033,
          0.22873248056161974,
          0.68358943236456
         ],
         "y": [
          "learning_rate",
          "max_bin",
          "min_data_in_leaf"
         ]
        }
       ],
       "layout": {
        "template": {
         "data": {
          "bar": [
           {
            "error_x": {
             "color": "#2a3f5f"
            },
            "error_y": {
             "color": "#2a3f5f"
            },
            "marker": {
             "line": {
              "color": "#E5ECF6",
              "width": 0.5
             },
             "pattern": {
              "fillmode": "overlay",
              "size": 10,
              "solidity": 0.2
             }
            },
            "type": "bar"
           }
          ],
          "barpolar": [
           {
            "marker": {
             "line": {
              "color": "#E5ECF6",
              "width": 0.5
             },
             "pattern": {
              "fillmode": "overlay",
              "size": 10,
              "solidity": 0.2
             }
            },
            "type": "barpolar"
           }
          ],
          "carpet": [
           {
            "aaxis": {
             "endlinecolor": "#2a3f5f",
             "gridcolor": "white",
             "linecolor": "white",
             "minorgridcolor": "white",
             "startlinecolor": "#2a3f5f"
            },
            "baxis": {
             "endlinecolor": "#2a3f5f",
             "gridcolor": "white",
             "linecolor": "white",
             "minorgridcolor": "white",
             "startlinecolor": "#2a3f5f"
            },
            "type": "carpet"
           }
          ],
          "choropleth": [
           {
            "colorbar": {
             "outlinewidth": 0,
             "ticks": ""
            },
            "type": "choropleth"
           }
          ],
          "contour": [
           {
            "colorbar": {
             "outlinewidth": 0,
             "ticks": ""
            },
            "colorscale": [
             [
              0,
              "#0d0887"
             ],
             [
              0.1111111111111111,
              "#46039f"
             ],
             [
              0.2222222222222222,
              "#7201a8"
             ],
             [
              0.3333333333333333,
              "#9c179e"
             ],
             [
              0.4444444444444444,
              "#bd3786"
             ],
             [
              0.5555555555555556,
              "#d8576b"
             ],
             [
              0.6666666666666666,
              "#ed7953"
             ],
             [
              0.7777777777777778,
              "#fb9f3a"
             ],
             [
              0.8888888888888888,
              "#fdca26"
             ],
             [
              1,
              "#f0f921"
             ]
            ],
            "type": "contour"
           }
          ],
          "contourcarpet": [
           {
            "colorbar": {
             "outlinewidth": 0,
             "ticks": ""
            },
            "type": "contourcarpet"
           }
          ],
          "heatmap": [
           {
            "colorbar": {
             "outlinewidth": 0,
             "ticks": ""
            },
            "colorscale": [
             [
              0,
              "#0d0887"
             ],
             [
              0.1111111111111111,
              "#46039f"
             ],
             [
              0.2222222222222222,
              "#7201a8"
             ],
             [
              0.3333333333333333,
              "#9c179e"
             ],
             [
              0.4444444444444444,
              "#bd3786"
             ],
             [
              0.5555555555555556,
              "#d8576b"
             ],
             [
              0.6666666666666666,
              "#ed7953"
             ],
             [
              0.7777777777777778,
              "#fb9f3a"
             ],
             [
              0.8888888888888888,
              "#fdca26"
             ],
             [
              1,
              "#f0f921"
             ]
            ],
            "type": "heatmap"
           }
          ],
          "heatmapgl": [
           {
            "colorbar": {
             "outlinewidth": 0,
             "ticks": ""
            },
            "colorscale": [
             [
              0,
              "#0d0887"
             ],
             [
              0.1111111111111111,
              "#46039f"
             ],
             [
              0.2222222222222222,
              "#7201a8"
             ],
             [
              0.3333333333333333,
              "#9c179e"
             ],
             [
              0.4444444444444444,
              "#bd3786"
             ],
             [
              0.5555555555555556,
              "#d8576b"
             ],
             [
              0.6666666666666666,
              "#ed7953"
             ],
             [
              0.7777777777777778,
              "#fb9f3a"
             ],
             [
              0.8888888888888888,
              "#fdca26"
             ],
             [
              1,
              "#f0f921"
             ]
            ],
            "type": "heatmapgl"
           }
          ],
          "histogram": [
           {
            "marker": {
             "pattern": {
              "fillmode": "overlay",
              "size": 10,
              "solidity": 0.2
             }
            },
            "type": "histogram"
           }
          ],
          "histogram2d": [
           {
            "colorbar": {
             "outlinewidth": 0,
             "ticks": ""
            },
            "colorscale": [
             [
              0,
              "#0d0887"
             ],
             [
              0.1111111111111111,
              "#46039f"
             ],
             [
              0.2222222222222222,
              "#7201a8"
             ],
             [
              0.3333333333333333,
              "#9c179e"
             ],
             [
              0.4444444444444444,
              "#bd3786"
             ],
             [
              0.5555555555555556,
              "#d8576b"
             ],
             [
              0.6666666666666666,
              "#ed7953"
             ],
             [
              0.7777777777777778,
              "#fb9f3a"
             ],
             [
              0.8888888888888888,
              "#fdca26"
             ],
             [
              1,
              "#f0f921"
             ]
            ],
            "type": "histogram2d"
           }
          ],
          "histogram2dcontour": [
           {
            "colorbar": {
             "outlinewidth": 0,
             "ticks": ""
            },
            "colorscale": [
             [
              0,
              "#0d0887"
             ],
             [
              0.1111111111111111,
              "#46039f"
             ],
             [
              0.2222222222222222,
              "#7201a8"
             ],
             [
              0.3333333333333333,
              "#9c179e"
             ],
             [
              0.4444444444444444,
              "#bd3786"
             ],
             [
              0.5555555555555556,
              "#d8576b"
             ],
             [
              0.6666666666666666,
              "#ed7953"
             ],
             [
              0.7777777777777778,
              "#fb9f3a"
             ],
             [
              0.8888888888888888,
              "#fdca26"
             ],
             [
              1,
              "#f0f921"
             ]
            ],
            "type": "histogram2dcontour"
           }
          ],
          "mesh3d": [
           {
            "colorbar": {
             "outlinewidth": 0,
             "ticks": ""
            },
            "type": "mesh3d"
           }
          ],
          "parcoords": [
           {
            "line": {
             "colorbar": {
              "outlinewidth": 0,
              "ticks": ""
             }
            },
            "type": "parcoords"
           }
          ],
          "pie": [
           {
            "automargin": true,
            "type": "pie"
           }
          ],
          "scatter": [
           {
            "fillpattern": {
             "fillmode": "overlay",
             "size": 10,
             "solidity": 0.2
            },
            "type": "scatter"
           }
          ],
          "scatter3d": [
           {
            "line": {
             "colorbar": {
              "outlinewidth": 0,
              "ticks": ""
             }
            },
            "marker": {
             "colorbar": {
              "outlinewidth": 0,
              "ticks": ""
             }
            },
            "type": "scatter3d"
           }
          ],
          "scattercarpet": [
           {
            "marker": {
             "colorbar": {
              "outlinewidth": 0,
              "ticks": ""
             }
            },
            "type": "scattercarpet"
           }
          ],
          "scattergeo": [
           {
            "marker": {
             "colorbar": {
              "outlinewidth": 0,
              "ticks": ""
             }
            },
            "type": "scattergeo"
           }
          ],
          "scattergl": [
           {
            "marker": {
             "colorbar": {
              "outlinewidth": 0,
              "ticks": ""
             }
            },
            "type": "scattergl"
           }
          ],
          "scattermapbox": [
           {
            "marker": {
             "colorbar": {
              "outlinewidth": 0,
              "ticks": ""
             }
            },
            "type": "scattermapbox"
           }
          ],
          "scatterpolar": [
           {
            "marker": {
             "colorbar": {
              "outlinewidth": 0,
              "ticks": ""
             }
            },
            "type": "scatterpolar"
           }
          ],
          "scatterpolargl": [
           {
            "marker": {
             "colorbar": {
              "outlinewidth": 0,
              "ticks": ""
             }
            },
            "type": "scatterpolargl"
           }
          ],
          "scatterternary": [
           {
            "marker": {
             "colorbar": {
              "outlinewidth": 0,
              "ticks": ""
             }
            },
            "type": "scatterternary"
           }
          ],
          "surface": [
           {
            "colorbar": {
             "outlinewidth": 0,
             "ticks": ""
            },
            "colorscale": [
             [
              0,
              "#0d0887"
             ],
             [
              0.1111111111111111,
              "#46039f"
             ],
             [
              0.2222222222222222,
              "#7201a8"
             ],
             [
              0.3333333333333333,
              "#9c179e"
             ],
             [
              0.4444444444444444,
              "#bd3786"
             ],
             [
              0.5555555555555556,
              "#d8576b"
             ],
             [
              0.6666666666666666,
              "#ed7953"
             ],
             [
              0.7777777777777778,
              "#fb9f3a"
             ],
             [
              0.8888888888888888,
              "#fdca26"
             ],
             [
              1,
              "#f0f921"
             ]
            ],
            "type": "surface"
           }
          ],
          "table": [
           {
            "cells": {
             "fill": {
              "color": "#EBF0F8"
             },
             "line": {
              "color": "white"
             }
            },
            "header": {
             "fill": {
              "color": "#C8D4E3"
             },
             "line": {
              "color": "white"
             }
            },
            "type": "table"
           }
          ]
         },
         "layout": {
          "annotationdefaults": {
           "arrowcolor": "#2a3f5f",
           "arrowhead": 0,
           "arrowwidth": 1
          },
          "autotypenumbers": "strict",
          "coloraxis": {
           "colorbar": {
            "outlinewidth": 0,
            "ticks": ""
           }
          },
          "colorscale": {
           "diverging": [
            [
             0,
             "#8e0152"
            ],
            [
             0.1,
             "#c51b7d"
            ],
            [
             0.2,
             "#de77ae"
            ],
            [
             0.3,
             "#f1b6da"
            ],
            [
             0.4,
             "#fde0ef"
            ],
            [
             0.5,
             "#f7f7f7"
            ],
            [
             0.6,
             "#e6f5d0"
            ],
            [
             0.7,
             "#b8e186"
            ],
            [
             0.8,
             "#7fbc41"
            ],
            [
             0.9,
             "#4d9221"
            ],
            [
             1,
             "#276419"
            ]
           ],
           "sequential": [
            [
             0,
             "#0d0887"
            ],
            [
             0.1111111111111111,
             "#46039f"
            ],
            [
             0.2222222222222222,
             "#7201a8"
            ],
            [
             0.3333333333333333,
             "#9c179e"
            ],
            [
             0.4444444444444444,
             "#bd3786"
            ],
            [
             0.5555555555555556,
             "#d8576b"
            ],
            [
             0.6666666666666666,
             "#ed7953"
            ],
            [
             0.7777777777777778,
             "#fb9f3a"
            ],
            [
             0.8888888888888888,
             "#fdca26"
            ],
            [
             1,
             "#f0f921"
            ]
           ],
           "sequentialminus": [
            [
             0,
             "#0d0887"
            ],
            [
             0.1111111111111111,
             "#46039f"
            ],
            [
             0.2222222222222222,
             "#7201a8"
            ],
            [
             0.3333333333333333,
             "#9c179e"
            ],
            [
             0.4444444444444444,
             "#bd3786"
            ],
            [
             0.5555555555555556,
             "#d8576b"
            ],
            [
             0.6666666666666666,
             "#ed7953"
            ],
            [
             0.7777777777777778,
             "#fb9f3a"
            ],
            [
             0.8888888888888888,
             "#fdca26"
            ],
            [
             1,
             "#f0f921"
            ]
           ]
          },
          "colorway": [
           "#636efa",
           "#EF553B",
           "#00cc96",
           "#ab63fa",
           "#FFA15A",
           "#19d3f3",
           "#FF6692",
           "#B6E880",
           "#FF97FF",
           "#FECB52"
          ],
          "font": {
           "color": "#2a3f5f"
          },
          "geo": {
           "bgcolor": "white",
           "lakecolor": "white",
           "landcolor": "#E5ECF6",
           "showlakes": true,
           "showland": true,
           "subunitcolor": "white"
          },
          "hoverlabel": {
           "align": "left"
          },
          "hovermode": "closest",
          "mapbox": {
           "style": "light"
          },
          "paper_bgcolor": "white",
          "plot_bgcolor": "#E5ECF6",
          "polar": {
           "angularaxis": {
            "gridcolor": "white",
            "linecolor": "white",
            "ticks": ""
           },
           "bgcolor": "#E5ECF6",
           "radialaxis": {
            "gridcolor": "white",
            "linecolor": "white",
            "ticks": ""
           }
          },
          "scene": {
           "xaxis": {
            "backgroundcolor": "#E5ECF6",
            "gridcolor": "white",
            "gridwidth": 2,
            "linecolor": "white",
            "showbackground": true,
            "ticks": "",
            "zerolinecolor": "white"
           },
           "yaxis": {
            "backgroundcolor": "#E5ECF6",
            "gridcolor": "white",
            "gridwidth": 2,
            "linecolor": "white",
            "showbackground": true,
            "ticks": "",
            "zerolinecolor": "white"
           },
           "zaxis": {
            "backgroundcolor": "#E5ECF6",
            "gridcolor": "white",
            "gridwidth": 2,
            "linecolor": "white",
            "showbackground": true,
            "ticks": "",
            "zerolinecolor": "white"
           }
          },
          "shapedefaults": {
           "line": {
            "color": "#2a3f5f"
           }
          },
          "ternary": {
           "aaxis": {
            "gridcolor": "white",
            "linecolor": "white",
            "ticks": ""
           },
           "baxis": {
            "gridcolor": "white",
            "linecolor": "white",
            "ticks": ""
           },
           "bgcolor": "#E5ECF6",
           "caxis": {
            "gridcolor": "white",
            "linecolor": "white",
            "ticks": ""
           }
          },
          "title": {
           "x": 0.05
          },
          "xaxis": {
           "automargin": true,
           "gridcolor": "white",
           "linecolor": "white",
           "ticks": "",
           "title": {
            "standoff": 15
           },
           "zerolinecolor": "white",
           "zerolinewidth": 2
          },
          "yaxis": {
           "automargin": true,
           "gridcolor": "white",
           "linecolor": "white",
           "ticks": "",
           "title": {
            "standoff": 15
           },
           "zerolinecolor": "white",
           "zerolinewidth": 2
          }
         }
        },
        "title": {
         "text": "Hyperparameter Importances"
        },
        "xaxis": {
         "title": {
          "text": "Hyperparameter Importance"
         }
        },
        "yaxis": {
         "title": {
          "text": "Hyperparameter"
         }
        }
       }
      }
     },
     "metadata": {},
     "output_type": "display_data"
    }
   ],
   "source": [
    "fig = plot_param_importances(study)\n",
    "fig.show()"
   ]
  },
  {
   "cell_type": "code",
   "execution_count": 120,
   "id": "97933c02",
   "metadata": {},
   "outputs": [
    {
     "data": {
      "application/vnd.plotly.v1+json": {
       "config": {
        "plotlyServerURL": "https://plot.ly"
       },
       "data": [
        {
         "colorbar": {
          "title": {
           "text": "Objective Value"
          }
         },
         "colorscale": [
          [
           0,
           "rgb(247,251,255)"
          ],
          [
           0.125,
           "rgb(222,235,247)"
          ],
          [
           0.25,
           "rgb(198,219,239)"
          ],
          [
           0.375,
           "rgb(158,202,225)"
          ],
          [
           0.5,
           "rgb(107,174,214)"
          ],
          [
           0.625,
           "rgb(66,146,198)"
          ],
          [
           0.75,
           "rgb(33,113,181)"
          ],
          [
           0.875,
           "rgb(8,81,156)"
          ],
          [
           1,
           "rgb(8,48,107)"
          ]
         ],
         "connectgaps": true,
         "contours": {
          "coloring": "heatmap"
         },
         "hoverinfo": "none",
         "line": {
          "smoothing": 1.3
         },
         "reversescale": false,
         "type": "contour",
         "x": [
          0.0591127466562317,
          0.06010684673919817,
          0.061126693621747163,
          0.06136448027027146,
          0.06472198512117774,
          0.0666609294537772,
          0.06892105260171537,
          0.07002452820559008,
          0.07213941470892607,
          0.07230627562073313,
          0.07297524167630001,
          0.07426445644320168,
          0.07436912886956015,
          0.07517450146482087,
          0.07640615962935998,
          0.07694774951239733,
          0.07758694285728465,
          0.07817465269665455,
          0.07987666570143613,
          0.07988843005102993,
          0.07998884839852757,
          0.08098294848149404
         ],
         "y": [
          198.2,
          203,
          216,
          220,
          222,
          228,
          233,
          238,
          240,
          242,
          243,
          252,
          253,
          256,
          261,
          264,
          269,
          273,
          283,
          293,
          299,
          303.8
         ],
         "z": [
          [
           null,
           null,
           null,
           null,
           null,
           null,
           null,
           null,
           null,
           null,
           null,
           null,
           null,
           null,
           null,
           null,
           null,
           null,
           null,
           null,
           null,
           null
          ],
          [
           null,
           null,
           null,
           null,
           null,
           null,
           null,
           null,
           null,
           0.9368521512442932,
           null,
           null,
           null,
           null,
           null,
           null,
           null,
           null,
           null,
           null,
           null,
           null
          ],
          [
           null,
           0.9367803280454703,
           null,
           null,
           null,
           null,
           null,
           null,
           null,
           null,
           null,
           null,
           null,
           null,
           null,
           null,
           null,
           null,
           null,
           null,
           null,
           null
          ],
          [
           null,
           null,
           null,
           null,
           null,
           null,
           null,
           null,
           0.936635733534952,
           null,
           null,
           null,
           null,
           null,
           null,
           null,
           null,
           null,
           null,
           null,
           null,
           null
          ],
          [
           null,
           null,
           0.9363650869844082,
           null,
           null,
           null,
           null,
           null,
           null,
           null,
           null,
           null,
           null,
           null,
           null,
           null,
           null,
           null,
           null,
           null,
           null,
           null
          ],
          [
           null,
           null,
           null,
           null,
           null,
           null,
           null,
           null,
           null,
           null,
           null,
           0.9369448283274782,
           null,
           null,
           null,
           null,
           null,
           null,
           null,
           null,
           null,
           null
          ],
          [
           null,
           null,
           null,
           null,
           null,
           null,
           null,
           null,
           null,
           null,
           null,
           null,
           null,
           null,
           null,
           null,
           null,
           null,
           null,
           null,
           0.9363757675545227,
           null
          ],
          [
           null,
           null,
           null,
           null,
           null,
           null,
           null,
           null,
           null,
           null,
           null,
           null,
           null,
           null,
           null,
           null,
           null,
           null,
           null,
           0.9370546574419789,
           null,
           null
          ],
          [
           null,
           null,
           null,
           null,
           null,
           null,
           null,
           null,
           null,
           null,
           null,
           null,
           null,
           null,
           null,
           null,
           null,
           null,
           0.9367215195046956,
           null,
           null,
           null
          ],
          [
           null,
           null,
           null,
           null,
           null,
           null,
           null,
           null,
           null,
           null,
           null,
           null,
           null,
           null,
           0.9367300042308597,
           null,
           null,
           null,
           null,
           null,
           null,
           null
          ],
          [
           null,
           null,
           null,
           null,
           null,
           null,
           0.9364480062979179,
           null,
           null,
           null,
           null,
           null,
           null,
           null,
           null,
           null,
           null,
           null,
           null,
           null,
           null,
           null
          ],
          [
           null,
           null,
           null,
           null,
           null,
           null,
           null,
           null,
           null,
           null,
           0.936310343359659,
           null,
           null,
           null,
           null,
           null,
           null,
           null,
           null,
           null,
           null,
           null
          ],
          [
           null,
           null,
           null,
           null,
           null,
           0.9366794395268558,
           null,
           null,
           null,
           null,
           null,
           null,
           null,
           null,
           null,
           null,
           null,
           null,
           null,
           null,
           null,
           null
          ],
          [
           null,
           null,
           null,
           null,
           null,
           null,
           null,
           null,
           null,
           null,
           null,
           null,
           0.9369885302272039,
           null,
           null,
           null,
           null,
           null,
           null,
           null,
           null,
           null
          ],
          [
           null,
           null,
           null,
           null,
           0.9366090859036549,
           null,
           null,
           null,
           null,
           null,
           null,
           null,
           null,
           null,
           null,
           null,
           null,
           null,
           null,
           null,
           null,
           null
          ],
          [
           null,
           null,
           null,
           null,
           null,
           null,
           null,
           null,
           null,
           null,
           null,
           null,
           null,
           null,
           null,
           null,
           null,
           0.936764040034437,
           null,
           null,
           null,
           null
          ],
          [
           null,
           null,
           null,
           null,
           null,
           null,
           null,
           null,
           null,
           null,
           null,
           null,
           null,
           null,
           null,
           0.9362207150642223,
           null,
           null,
           null,
           null,
           null,
           null
          ],
          [
           null,
           null,
           null,
           null,
           null,
           null,
           null,
           null,
           null,
           null,
           null,
           null,
           null,
           0.9363011150278858,
           null,
           null,
           null,
           null,
           null,
           null,
           null,
           null
          ],
          [
           null,
           null,
           null,
           null,
           null,
           null,
           null,
           null,
           null,
           null,
           null,
           null,
           null,
           null,
           null,
           null,
           0.936381735867525,
           null,
           null,
           null,
           null,
           null
          ],
          [
           null,
           null,
           null,
           0.9364137386464817,
           null,
           null,
           null,
           null,
           null,
           null,
           null,
           null,
           null,
           null,
           null,
           null,
           null,
           null,
           null,
           null,
           null,
           null
          ],
          [
           null,
           null,
           null,
           null,
           null,
           null,
           null,
           0.9366951894390916,
           null,
           null,
           null,
           null,
           null,
           null,
           null,
           null,
           null,
           null,
           null,
           null,
           null,
           null
          ],
          [
           null,
           null,
           null,
           null,
           null,
           null,
           null,
           null,
           null,
           null,
           null,
           null,
           null,
           null,
           null,
           null,
           null,
           null,
           null,
           null,
           null,
           null
          ]
         ]
        },
        {
         "marker": {
          "color": "black",
          "line": {
           "color": "Gray",
           "width": 2
          }
         },
         "mode": "markers",
         "name": "Feasible Trial",
         "showlegend": false,
         "type": "scatter",
         "x": [
          0.07694774951239733,
          0.07213941470892607,
          0.06010684673919817,
          0.07002452820559008,
          0.07426445644320168,
          0.06136448027027146,
          0.07517450146482087,
          0.07640615962935998,
          0.061126693621747163,
          0.06472198512117774,
          0.07988843005102993,
          0.07987666570143613,
          0.07998884839852757,
          0.07230627562073313,
          0.07436912886956015,
          0.0666609294537772,
          0.07758694285728465,
          0.07297524167630001,
          0.06892105260171537,
          0.07817465269665455
         ],
         "y": [
          269,
          220,
          216,
          299,
          228,
          293,
          273,
          242,
          222,
          261,
          238,
          240,
          233,
          203,
          256,
          253,
          283,
          252,
          243,
          264
         ]
        },
        {
         "marker": {
          "color": "#cccccc",
          "line": {
           "color": "Gray",
           "width": 2
          }
         },
         "mode": "markers",
         "name": "Infeasible Trial",
         "showlegend": false,
         "type": "scatter",
         "x": [],
         "y": []
        }
       ],
       "layout": {
        "template": {
         "data": {
          "bar": [
           {
            "error_x": {
             "color": "#2a3f5f"
            },
            "error_y": {
             "color": "#2a3f5f"
            },
            "marker": {
             "line": {
              "color": "#E5ECF6",
              "width": 0.5
             },
             "pattern": {
              "fillmode": "overlay",
              "size": 10,
              "solidity": 0.2
             }
            },
            "type": "bar"
           }
          ],
          "barpolar": [
           {
            "marker": {
             "line": {
              "color": "#E5ECF6",
              "width": 0.5
             },
             "pattern": {
              "fillmode": "overlay",
              "size": 10,
              "solidity": 0.2
             }
            },
            "type": "barpolar"
           }
          ],
          "carpet": [
           {
            "aaxis": {
             "endlinecolor": "#2a3f5f",
             "gridcolor": "white",
             "linecolor": "white",
             "minorgridcolor": "white",
             "startlinecolor": "#2a3f5f"
            },
            "baxis": {
             "endlinecolor": "#2a3f5f",
             "gridcolor": "white",
             "linecolor": "white",
             "minorgridcolor": "white",
             "startlinecolor": "#2a3f5f"
            },
            "type": "carpet"
           }
          ],
          "choropleth": [
           {
            "colorbar": {
             "outlinewidth": 0,
             "ticks": ""
            },
            "type": "choropleth"
           }
          ],
          "contour": [
           {
            "colorbar": {
             "outlinewidth": 0,
             "ticks": ""
            },
            "colorscale": [
             [
              0,
              "#0d0887"
             ],
             [
              0.1111111111111111,
              "#46039f"
             ],
             [
              0.2222222222222222,
              "#7201a8"
             ],
             [
              0.3333333333333333,
              "#9c179e"
             ],
             [
              0.4444444444444444,
              "#bd3786"
             ],
             [
              0.5555555555555556,
              "#d8576b"
             ],
             [
              0.6666666666666666,
              "#ed7953"
             ],
             [
              0.7777777777777778,
              "#fb9f3a"
             ],
             [
              0.8888888888888888,
              "#fdca26"
             ],
             [
              1,
              "#f0f921"
             ]
            ],
            "type": "contour"
           }
          ],
          "contourcarpet": [
           {
            "colorbar": {
             "outlinewidth": 0,
             "ticks": ""
            },
            "type": "contourcarpet"
           }
          ],
          "heatmap": [
           {
            "colorbar": {
             "outlinewidth": 0,
             "ticks": ""
            },
            "colorscale": [
             [
              0,
              "#0d0887"
             ],
             [
              0.1111111111111111,
              "#46039f"
             ],
             [
              0.2222222222222222,
              "#7201a8"
             ],
             [
              0.3333333333333333,
              "#9c179e"
             ],
             [
              0.4444444444444444,
              "#bd3786"
             ],
             [
              0.5555555555555556,
              "#d8576b"
             ],
             [
              0.6666666666666666,
              "#ed7953"
             ],
             [
              0.7777777777777778,
              "#fb9f3a"
             ],
             [
              0.8888888888888888,
              "#fdca26"
             ],
             [
              1,
              "#f0f921"
             ]
            ],
            "type": "heatmap"
           }
          ],
          "heatmapgl": [
           {
            "colorbar": {
             "outlinewidth": 0,
             "ticks": ""
            },
            "colorscale": [
             [
              0,
              "#0d0887"
             ],
             [
              0.1111111111111111,
              "#46039f"
             ],
             [
              0.2222222222222222,
              "#7201a8"
             ],
             [
              0.3333333333333333,
              "#9c179e"
             ],
             [
              0.4444444444444444,
              "#bd3786"
             ],
             [
              0.5555555555555556,
              "#d8576b"
             ],
             [
              0.6666666666666666,
              "#ed7953"
             ],
             [
              0.7777777777777778,
              "#fb9f3a"
             ],
             [
              0.8888888888888888,
              "#fdca26"
             ],
             [
              1,
              "#f0f921"
             ]
            ],
            "type": "heatmapgl"
           }
          ],
          "histogram": [
           {
            "marker": {
             "pattern": {
              "fillmode": "overlay",
              "size": 10,
              "solidity": 0.2
             }
            },
            "type": "histogram"
           }
          ],
          "histogram2d": [
           {
            "colorbar": {
             "outlinewidth": 0,
             "ticks": ""
            },
            "colorscale": [
             [
              0,
              "#0d0887"
             ],
             [
              0.1111111111111111,
              "#46039f"
             ],
             [
              0.2222222222222222,
              "#7201a8"
             ],
             [
              0.3333333333333333,
              "#9c179e"
             ],
             [
              0.4444444444444444,
              "#bd3786"
             ],
             [
              0.5555555555555556,
              "#d8576b"
             ],
             [
              0.6666666666666666,
              "#ed7953"
             ],
             [
              0.7777777777777778,
              "#fb9f3a"
             ],
             [
              0.8888888888888888,
              "#fdca26"
             ],
             [
              1,
              "#f0f921"
             ]
            ],
            "type": "histogram2d"
           }
          ],
          "histogram2dcontour": [
           {
            "colorbar": {
             "outlinewidth": 0,
             "ticks": ""
            },
            "colorscale": [
             [
              0,
              "#0d0887"
             ],
             [
              0.1111111111111111,
              "#46039f"
             ],
             [
              0.2222222222222222,
              "#7201a8"
             ],
             [
              0.3333333333333333,
              "#9c179e"
             ],
             [
              0.4444444444444444,
              "#bd3786"
             ],
             [
              0.5555555555555556,
              "#d8576b"
             ],
             [
              0.6666666666666666,
              "#ed7953"
             ],
             [
              0.7777777777777778,
              "#fb9f3a"
             ],
             [
              0.8888888888888888,
              "#fdca26"
             ],
             [
              1,
              "#f0f921"
             ]
            ],
            "type": "histogram2dcontour"
           }
          ],
          "mesh3d": [
           {
            "colorbar": {
             "outlinewidth": 0,
             "ticks": ""
            },
            "type": "mesh3d"
           }
          ],
          "parcoords": [
           {
            "line": {
             "colorbar": {
              "outlinewidth": 0,
              "ticks": ""
             }
            },
            "type": "parcoords"
           }
          ],
          "pie": [
           {
            "automargin": true,
            "type": "pie"
           }
          ],
          "scatter": [
           {
            "fillpattern": {
             "fillmode": "overlay",
             "size": 10,
             "solidity": 0.2
            },
            "type": "scatter"
           }
          ],
          "scatter3d": [
           {
            "line": {
             "colorbar": {
              "outlinewidth": 0,
              "ticks": ""
             }
            },
            "marker": {
             "colorbar": {
              "outlinewidth": 0,
              "ticks": ""
             }
            },
            "type": "scatter3d"
           }
          ],
          "scattercarpet": [
           {
            "marker": {
             "colorbar": {
              "outlinewidth": 0,
              "ticks": ""
             }
            },
            "type": "scattercarpet"
           }
          ],
          "scattergeo": [
           {
            "marker": {
             "colorbar": {
              "outlinewidth": 0,
              "ticks": ""
             }
            },
            "type": "scattergeo"
           }
          ],
          "scattergl": [
           {
            "marker": {
             "colorbar": {
              "outlinewidth": 0,
              "ticks": ""
             }
            },
            "type": "scattergl"
           }
          ],
          "scattermapbox": [
           {
            "marker": {
             "colorbar": {
              "outlinewidth": 0,
              "ticks": ""
             }
            },
            "type": "scattermapbox"
           }
          ],
          "scatterpolar": [
           {
            "marker": {
             "colorbar": {
              "outlinewidth": 0,
              "ticks": ""
             }
            },
            "type": "scatterpolar"
           }
          ],
          "scatterpolargl": [
           {
            "marker": {
             "colorbar": {
              "outlinewidth": 0,
              "ticks": ""
             }
            },
            "type": "scatterpolargl"
           }
          ],
          "scatterternary": [
           {
            "marker": {
             "colorbar": {
              "outlinewidth": 0,
              "ticks": ""
             }
            },
            "type": "scatterternary"
           }
          ],
          "surface": [
           {
            "colorbar": {
             "outlinewidth": 0,
             "ticks": ""
            },
            "colorscale": [
             [
              0,
              "#0d0887"
             ],
             [
              0.1111111111111111,
              "#46039f"
             ],
             [
              0.2222222222222222,
              "#7201a8"
             ],
             [
              0.3333333333333333,
              "#9c179e"
             ],
             [
              0.4444444444444444,
              "#bd3786"
             ],
             [
              0.5555555555555556,
              "#d8576b"
             ],
             [
              0.6666666666666666,
              "#ed7953"
             ],
             [
              0.7777777777777778,
              "#fb9f3a"
             ],
             [
              0.8888888888888888,
              "#fdca26"
             ],
             [
              1,
              "#f0f921"
             ]
            ],
            "type": "surface"
           }
          ],
          "table": [
           {
            "cells": {
             "fill": {
              "color": "#EBF0F8"
             },
             "line": {
              "color": "white"
             }
            },
            "header": {
             "fill": {
              "color": "#C8D4E3"
             },
             "line": {
              "color": "white"
             }
            },
            "type": "table"
           }
          ]
         },
         "layout": {
          "annotationdefaults": {
           "arrowcolor": "#2a3f5f",
           "arrowhead": 0,
           "arrowwidth": 1
          },
          "autotypenumbers": "strict",
          "coloraxis": {
           "colorbar": {
            "outlinewidth": 0,
            "ticks": ""
           }
          },
          "colorscale": {
           "diverging": [
            [
             0,
             "#8e0152"
            ],
            [
             0.1,
             "#c51b7d"
            ],
            [
             0.2,
             "#de77ae"
            ],
            [
             0.3,
             "#f1b6da"
            ],
            [
             0.4,
             "#fde0ef"
            ],
            [
             0.5,
             "#f7f7f7"
            ],
            [
             0.6,
             "#e6f5d0"
            ],
            [
             0.7,
             "#b8e186"
            ],
            [
             0.8,
             "#7fbc41"
            ],
            [
             0.9,
             "#4d9221"
            ],
            [
             1,
             "#276419"
            ]
           ],
           "sequential": [
            [
             0,
             "#0d0887"
            ],
            [
             0.1111111111111111,
             "#46039f"
            ],
            [
             0.2222222222222222,
             "#7201a8"
            ],
            [
             0.3333333333333333,
             "#9c179e"
            ],
            [
             0.4444444444444444,
             "#bd3786"
            ],
            [
             0.5555555555555556,
             "#d8576b"
            ],
            [
             0.6666666666666666,
             "#ed7953"
            ],
            [
             0.7777777777777778,
             "#fb9f3a"
            ],
            [
             0.8888888888888888,
             "#fdca26"
            ],
            [
             1,
             "#f0f921"
            ]
           ],
           "sequentialminus": [
            [
             0,
             "#0d0887"
            ],
            [
             0.1111111111111111,
             "#46039f"
            ],
            [
             0.2222222222222222,
             "#7201a8"
            ],
            [
             0.3333333333333333,
             "#9c179e"
            ],
            [
             0.4444444444444444,
             "#bd3786"
            ],
            [
             0.5555555555555556,
             "#d8576b"
            ],
            [
             0.6666666666666666,
             "#ed7953"
            ],
            [
             0.7777777777777778,
             "#fb9f3a"
            ],
            [
             0.8888888888888888,
             "#fdca26"
            ],
            [
             1,
             "#f0f921"
            ]
           ]
          },
          "colorway": [
           "#636efa",
           "#EF553B",
           "#00cc96",
           "#ab63fa",
           "#FFA15A",
           "#19d3f3",
           "#FF6692",
           "#B6E880",
           "#FF97FF",
           "#FECB52"
          ],
          "font": {
           "color": "#2a3f5f"
          },
          "geo": {
           "bgcolor": "white",
           "lakecolor": "white",
           "landcolor": "#E5ECF6",
           "showlakes": true,
           "showland": true,
           "subunitcolor": "white"
          },
          "hoverlabel": {
           "align": "left"
          },
          "hovermode": "closest",
          "mapbox": {
           "style": "light"
          },
          "paper_bgcolor": "white",
          "plot_bgcolor": "#E5ECF6",
          "polar": {
           "angularaxis": {
            "gridcolor": "white",
            "linecolor": "white",
            "ticks": ""
           },
           "bgcolor": "#E5ECF6",
           "radialaxis": {
            "gridcolor": "white",
            "linecolor": "white",
            "ticks": ""
           }
          },
          "scene": {
           "xaxis": {
            "backgroundcolor": "#E5ECF6",
            "gridcolor": "white",
            "gridwidth": 2,
            "linecolor": "white",
            "showbackground": true,
            "ticks": "",
            "zerolinecolor": "white"
           },
           "yaxis": {
            "backgroundcolor": "#E5ECF6",
            "gridcolor": "white",
            "gridwidth": 2,
            "linecolor": "white",
            "showbackground": true,
            "ticks": "",
            "zerolinecolor": "white"
           },
           "zaxis": {
            "backgroundcolor": "#E5ECF6",
            "gridcolor": "white",
            "gridwidth": 2,
            "linecolor": "white",
            "showbackground": true,
            "ticks": "",
            "zerolinecolor": "white"
           }
          },
          "shapedefaults": {
           "line": {
            "color": "#2a3f5f"
           }
          },
          "ternary": {
           "aaxis": {
            "gridcolor": "white",
            "linecolor": "white",
            "ticks": ""
           },
           "baxis": {
            "gridcolor": "white",
            "linecolor": "white",
            "ticks": ""
           },
           "bgcolor": "#E5ECF6",
           "caxis": {
            "gridcolor": "white",
            "linecolor": "white",
            "ticks": ""
           }
          },
          "title": {
           "x": 0.05
          },
          "xaxis": {
           "automargin": true,
           "gridcolor": "white",
           "linecolor": "white",
           "ticks": "",
           "title": {
            "standoff": 15
           },
           "zerolinecolor": "white",
           "zerolinewidth": 2
          },
          "yaxis": {
           "automargin": true,
           "gridcolor": "white",
           "linecolor": "white",
           "ticks": "",
           "title": {
            "standoff": 15
           },
           "zerolinecolor": "white",
           "zerolinewidth": 2
          }
         }
        },
        "title": {
         "text": "Contour plot: learning_rate vs max_bin"
        },
        "xaxis": {
         "range": [
          0.0591127466562317,
          0.08098294848149404
         ],
         "title": {
          "text": "learning_rate"
         }
        },
        "yaxis": {
         "range": [
          198.2,
          303.8
         ],
         "title": {
          "text": "max_bin"
         }
        }
       }
      }
     },
     "metadata": {},
     "output_type": "display_data"
    },
    {
     "data": {
      "application/vnd.plotly.v1+json": {
       "config": {
        "plotlyServerURL": "https://plot.ly"
       },
       "data": [
        {
         "colorbar": {
          "title": {
           "text": "Objective Value"
          }
         },
         "colorscale": [
          [
           0,
           "rgb(247,251,255)"
          ],
          [
           0.125,
           "rgb(222,235,247)"
          ],
          [
           0.25,
           "rgb(198,219,239)"
          ],
          [
           0.375,
           "rgb(158,202,225)"
          ],
          [
           0.5,
           "rgb(107,174,214)"
          ],
          [
           0.625,
           "rgb(66,146,198)"
          ],
          [
           0.75,
           "rgb(33,113,181)"
          ],
          [
           0.875,
           "rgb(8,81,156)"
          ],
          [
           1,
           "rgb(8,48,107)"
          ]
         ],
         "connectgaps": true,
         "contours": {
          "coloring": "heatmap"
         },
         "hoverinfo": "none",
         "line": {
          "smoothing": 1.3
         },
         "reversescale": false,
         "type": "contour",
         "x": [
          0.0591127466562317,
          0.06010684673919817,
          0.061126693621747163,
          0.06136448027027146,
          0.06472198512117774,
          0.0666609294537772,
          0.06892105260171537,
          0.07002452820559008,
          0.07213941470892607,
          0.07230627562073313,
          0.07297524167630001,
          0.07426445644320168,
          0.07436912886956015,
          0.07517450146482087,
          0.07640615962935998,
          0.07694774951239733,
          0.07758694285728465,
          0.07817465269665455,
          0.07987666570143613,
          0.07988843005102993,
          0.07998884839852757,
          0.08098294848149404
         ],
         "y": [
          98.15,
          103,
          114,
          128,
          131,
          136,
          149,
          157,
          159,
          163,
          175,
          177,
          184,
          185,
          186,
          192,
          197,
          199,
          200,
          204.85
         ],
         "z": [
          [
           null,
           null,
           null,
           null,
           null,
           null,
           null,
           null,
           null,
           null,
           null,
           null,
           null,
           null,
           null,
           null,
           null,
           null,
           null,
           null,
           null,
           null
          ],
          [
           null,
           null,
           null,
           null,
           null,
           null,
           0.9364480062979179,
           null,
           null,
           null,
           null,
           null,
           null,
           null,
           null,
           null,
           null,
           null,
           null,
           null,
           null,
           null
          ],
          [
           null,
           null,
           null,
           null,
           0.9366090859036549,
           null,
           null,
           null,
           null,
           null,
           null,
           null,
           null,
           null,
           null,
           null,
           null,
           null,
           null,
           null,
           null,
           null
          ],
          [
           null,
           null,
           null,
           0.9364137386464817,
           null,
           null,
           null,
           null,
           null,
           null,
           null,
           null,
           null,
           null,
           null,
           null,
           null,
           null,
           null,
           null,
           null,
           null
          ],
          [
           null,
           null,
           null,
           null,
           null,
           null,
           null,
           null,
           0.936635733534952,
           null,
           null,
           null,
           null,
           null,
           null,
           null,
           null,
           null,
           null,
           null,
           null,
           null
          ],
          [
           null,
           null,
           null,
           null,
           null,
           null,
           null,
           null,
           null,
           null,
           null,
           null,
           null,
           null,
           0.9367300042308597,
           null,
           null,
           null,
           null,
           null,
           null,
           null
          ],
          [
           null,
           null,
           null,
           null,
           null,
           null,
           null,
           null,
           null,
           null,
           null,
           null,
           null,
           null,
           null,
           0.9362207150642223,
           null,
           null,
           null,
           null,
           null,
           null
          ],
          [
           null,
           null,
           null,
           null,
           null,
           null,
           null,
           null,
           null,
           null,
           null,
           null,
           null,
           0.9363011150278858,
           null,
           null,
           null,
           null,
           null,
           null,
           null,
           null
          ],
          [
           null,
           null,
           0.9363650869844082,
           null,
           null,
           null,
           null,
           null,
           null,
           null,
           null,
           null,
           null,
           null,
           null,
           null,
           null,
           null,
           null,
           null,
           null,
           null
          ],
          [
           null,
           null,
           null,
           null,
           null,
           null,
           null,
           null,
           null,
           null,
           0.936310343359659,
           null,
           null,
           null,
           null,
           null,
           null,
           null,
           null,
           null,
           null,
           null
          ],
          [
           null,
           0.9367803280454703,
           null,
           null,
           null,
           null,
           null,
           null,
           null,
           null,
           null,
           0.9369448283274782,
           null,
           null,
           null,
           null,
           null,
           null,
           null,
           null,
           null,
           null
          ],
          [
           null,
           null,
           null,
           null,
           null,
           null,
           null,
           null,
           null,
           0.9368521512442932,
           null,
           null,
           null,
           null,
           null,
           null,
           null,
           null,
           null,
           null,
           null,
           null
          ],
          [
           null,
           null,
           null,
           null,
           null,
           null,
           null,
           null,
           null,
           null,
           null,
           null,
           0.9369885302272039,
           null,
           null,
           null,
           null,
           null,
           null,
           null,
           null,
           null
          ],
          [
           null,
           null,
           null,
           null,
           null,
           null,
           null,
           0.9366951894390916,
           null,
           null,
           null,
           null,
           null,
           null,
           null,
           null,
           null,
           null,
           null,
           null,
           null,
           null
          ],
          [
           null,
           null,
           null,
           null,
           null,
           0.9366794395268558,
           null,
           null,
           null,
           null,
           null,
           null,
           null,
           null,
           null,
           null,
           0.936381735867525,
           null,
           null,
           null,
           null,
           null
          ],
          [
           null,
           null,
           null,
           null,
           null,
           null,
           null,
           null,
           null,
           null,
           null,
           null,
           null,
           null,
           null,
           null,
           null,
           0.936764040034437,
           null,
           null,
           null,
           null
          ],
          [
           null,
           null,
           null,
           null,
           null,
           null,
           null,
           null,
           null,
           null,
           null,
           null,
           null,
           null,
           null,
           null,
           null,
           null,
           null,
           0.9370546574419789,
           null,
           null
          ],
          [
           null,
           null,
           null,
           null,
           null,
           null,
           null,
           null,
           null,
           null,
           null,
           null,
           null,
           null,
           null,
           null,
           null,
           null,
           null,
           null,
           0.9363757675545227,
           null
          ],
          [
           null,
           null,
           null,
           null,
           null,
           null,
           null,
           null,
           null,
           null,
           null,
           null,
           null,
           null,
           null,
           null,
           null,
           null,
           0.9367215195046956,
           null,
           null,
           null
          ],
          [
           null,
           null,
           null,
           null,
           null,
           null,
           null,
           null,
           null,
           null,
           null,
           null,
           null,
           null,
           null,
           null,
           null,
           null,
           null,
           null,
           null,
           null
          ]
         ]
        },
        {
         "marker": {
          "color": "black",
          "line": {
           "color": "Gray",
           "width": 2
          }
         },
         "mode": "markers",
         "name": "Feasible Trial",
         "showlegend": false,
         "type": "scatter",
         "x": [
          0.07694774951239733,
          0.07213941470892607,
          0.06010684673919817,
          0.07002452820559008,
          0.07426445644320168,
          0.06136448027027146,
          0.07517450146482087,
          0.07640615962935998,
          0.061126693621747163,
          0.06472198512117774,
          0.07988843005102993,
          0.07987666570143613,
          0.07998884839852757,
          0.07230627562073313,
          0.07436912886956015,
          0.0666609294537772,
          0.07758694285728465,
          0.07297524167630001,
          0.06892105260171537,
          0.07817465269665455
         ],
         "y": [
          149,
          131,
          175,
          185,
          175,
          128,
          157,
          136,
          159,
          114,
          197,
          200,
          199,
          177,
          184,
          186,
          186,
          163,
          103,
          192
         ]
        },
        {
         "marker": {
          "color": "#cccccc",
          "line": {
           "color": "Gray",
           "width": 2
          }
         },
         "mode": "markers",
         "name": "Infeasible Trial",
         "showlegend": false,
         "type": "scatter",
         "x": [],
         "y": []
        }
       ],
       "layout": {
        "template": {
         "data": {
          "bar": [
           {
            "error_x": {
             "color": "#2a3f5f"
            },
            "error_y": {
             "color": "#2a3f5f"
            },
            "marker": {
             "line": {
              "color": "#E5ECF6",
              "width": 0.5
             },
             "pattern": {
              "fillmode": "overlay",
              "size": 10,
              "solidity": 0.2
             }
            },
            "type": "bar"
           }
          ],
          "barpolar": [
           {
            "marker": {
             "line": {
              "color": "#E5ECF6",
              "width": 0.5
             },
             "pattern": {
              "fillmode": "overlay",
              "size": 10,
              "solidity": 0.2
             }
            },
            "type": "barpolar"
           }
          ],
          "carpet": [
           {
            "aaxis": {
             "endlinecolor": "#2a3f5f",
             "gridcolor": "white",
             "linecolor": "white",
             "minorgridcolor": "white",
             "startlinecolor": "#2a3f5f"
            },
            "baxis": {
             "endlinecolor": "#2a3f5f",
             "gridcolor": "white",
             "linecolor": "white",
             "minorgridcolor": "white",
             "startlinecolor": "#2a3f5f"
            },
            "type": "carpet"
           }
          ],
          "choropleth": [
           {
            "colorbar": {
             "outlinewidth": 0,
             "ticks": ""
            },
            "type": "choropleth"
           }
          ],
          "contour": [
           {
            "colorbar": {
             "outlinewidth": 0,
             "ticks": ""
            },
            "colorscale": [
             [
              0,
              "#0d0887"
             ],
             [
              0.1111111111111111,
              "#46039f"
             ],
             [
              0.2222222222222222,
              "#7201a8"
             ],
             [
              0.3333333333333333,
              "#9c179e"
             ],
             [
              0.4444444444444444,
              "#bd3786"
             ],
             [
              0.5555555555555556,
              "#d8576b"
             ],
             [
              0.6666666666666666,
              "#ed7953"
             ],
             [
              0.7777777777777778,
              "#fb9f3a"
             ],
             [
              0.8888888888888888,
              "#fdca26"
             ],
             [
              1,
              "#f0f921"
             ]
            ],
            "type": "contour"
           }
          ],
          "contourcarpet": [
           {
            "colorbar": {
             "outlinewidth": 0,
             "ticks": ""
            },
            "type": "contourcarpet"
           }
          ],
          "heatmap": [
           {
            "colorbar": {
             "outlinewidth": 0,
             "ticks": ""
            },
            "colorscale": [
             [
              0,
              "#0d0887"
             ],
             [
              0.1111111111111111,
              "#46039f"
             ],
             [
              0.2222222222222222,
              "#7201a8"
             ],
             [
              0.3333333333333333,
              "#9c179e"
             ],
             [
              0.4444444444444444,
              "#bd3786"
             ],
             [
              0.5555555555555556,
              "#d8576b"
             ],
             [
              0.6666666666666666,
              "#ed7953"
             ],
             [
              0.7777777777777778,
              "#fb9f3a"
             ],
             [
              0.8888888888888888,
              "#fdca26"
             ],
             [
              1,
              "#f0f921"
             ]
            ],
            "type": "heatmap"
           }
          ],
          "heatmapgl": [
           {
            "colorbar": {
             "outlinewidth": 0,
             "ticks": ""
            },
            "colorscale": [
             [
              0,
              "#0d0887"
             ],
             [
              0.1111111111111111,
              "#46039f"
             ],
             [
              0.2222222222222222,
              "#7201a8"
             ],
             [
              0.3333333333333333,
              "#9c179e"
             ],
             [
              0.4444444444444444,
              "#bd3786"
             ],
             [
              0.5555555555555556,
              "#d8576b"
             ],
             [
              0.6666666666666666,
              "#ed7953"
             ],
             [
              0.7777777777777778,
              "#fb9f3a"
             ],
             [
              0.8888888888888888,
              "#fdca26"
             ],
             [
              1,
              "#f0f921"
             ]
            ],
            "type": "heatmapgl"
           }
          ],
          "histogram": [
           {
            "marker": {
             "pattern": {
              "fillmode": "overlay",
              "size": 10,
              "solidity": 0.2
             }
            },
            "type": "histogram"
           }
          ],
          "histogram2d": [
           {
            "colorbar": {
             "outlinewidth": 0,
             "ticks": ""
            },
            "colorscale": [
             [
              0,
              "#0d0887"
             ],
             [
              0.1111111111111111,
              "#46039f"
             ],
             [
              0.2222222222222222,
              "#7201a8"
             ],
             [
              0.3333333333333333,
              "#9c179e"
             ],
             [
              0.4444444444444444,
              "#bd3786"
             ],
             [
              0.5555555555555556,
              "#d8576b"
             ],
             [
              0.6666666666666666,
              "#ed7953"
             ],
             [
              0.7777777777777778,
              "#fb9f3a"
             ],
             [
              0.8888888888888888,
              "#fdca26"
             ],
             [
              1,
              "#f0f921"
             ]
            ],
            "type": "histogram2d"
           }
          ],
          "histogram2dcontour": [
           {
            "colorbar": {
             "outlinewidth": 0,
             "ticks": ""
            },
            "colorscale": [
             [
              0,
              "#0d0887"
             ],
             [
              0.1111111111111111,
              "#46039f"
             ],
             [
              0.2222222222222222,
              "#7201a8"
             ],
             [
              0.3333333333333333,
              "#9c179e"
             ],
             [
              0.4444444444444444,
              "#bd3786"
             ],
             [
              0.5555555555555556,
              "#d8576b"
             ],
             [
              0.6666666666666666,
              "#ed7953"
             ],
             [
              0.7777777777777778,
              "#fb9f3a"
             ],
             [
              0.8888888888888888,
              "#fdca26"
             ],
             [
              1,
              "#f0f921"
             ]
            ],
            "type": "histogram2dcontour"
           }
          ],
          "mesh3d": [
           {
            "colorbar": {
             "outlinewidth": 0,
             "ticks": ""
            },
            "type": "mesh3d"
           }
          ],
          "parcoords": [
           {
            "line": {
             "colorbar": {
              "outlinewidth": 0,
              "ticks": ""
             }
            },
            "type": "parcoords"
           }
          ],
          "pie": [
           {
            "automargin": true,
            "type": "pie"
           }
          ],
          "scatter": [
           {
            "fillpattern": {
             "fillmode": "overlay",
             "size": 10,
             "solidity": 0.2
            },
            "type": "scatter"
           }
          ],
          "scatter3d": [
           {
            "line": {
             "colorbar": {
              "outlinewidth": 0,
              "ticks": ""
             }
            },
            "marker": {
             "colorbar": {
              "outlinewidth": 0,
              "ticks": ""
             }
            },
            "type": "scatter3d"
           }
          ],
          "scattercarpet": [
           {
            "marker": {
             "colorbar": {
              "outlinewidth": 0,
              "ticks": ""
             }
            },
            "type": "scattercarpet"
           }
          ],
          "scattergeo": [
           {
            "marker": {
             "colorbar": {
              "outlinewidth": 0,
              "ticks": ""
             }
            },
            "type": "scattergeo"
           }
          ],
          "scattergl": [
           {
            "marker": {
             "colorbar": {
              "outlinewidth": 0,
              "ticks": ""
             }
            },
            "type": "scattergl"
           }
          ],
          "scattermapbox": [
           {
            "marker": {
             "colorbar": {
              "outlinewidth": 0,
              "ticks": ""
             }
            },
            "type": "scattermapbox"
           }
          ],
          "scatterpolar": [
           {
            "marker": {
             "colorbar": {
              "outlinewidth": 0,
              "ticks": ""
             }
            },
            "type": "scatterpolar"
           }
          ],
          "scatterpolargl": [
           {
            "marker": {
             "colorbar": {
              "outlinewidth": 0,
              "ticks": ""
             }
            },
            "type": "scatterpolargl"
           }
          ],
          "scatterternary": [
           {
            "marker": {
             "colorbar": {
              "outlinewidth": 0,
              "ticks": ""
             }
            },
            "type": "scatterternary"
           }
          ],
          "surface": [
           {
            "colorbar": {
             "outlinewidth": 0,
             "ticks": ""
            },
            "colorscale": [
             [
              0,
              "#0d0887"
             ],
             [
              0.1111111111111111,
              "#46039f"
             ],
             [
              0.2222222222222222,
              "#7201a8"
             ],
             [
              0.3333333333333333,
              "#9c179e"
             ],
             [
              0.4444444444444444,
              "#bd3786"
             ],
             [
              0.5555555555555556,
              "#d8576b"
             ],
             [
              0.6666666666666666,
              "#ed7953"
             ],
             [
              0.7777777777777778,
              "#fb9f3a"
             ],
             [
              0.8888888888888888,
              "#fdca26"
             ],
             [
              1,
              "#f0f921"
             ]
            ],
            "type": "surface"
           }
          ],
          "table": [
           {
            "cells": {
             "fill": {
              "color": "#EBF0F8"
             },
             "line": {
              "color": "white"
             }
            },
            "header": {
             "fill": {
              "color": "#C8D4E3"
             },
             "line": {
              "color": "white"
             }
            },
            "type": "table"
           }
          ]
         },
         "layout": {
          "annotationdefaults": {
           "arrowcolor": "#2a3f5f",
           "arrowhead": 0,
           "arrowwidth": 1
          },
          "autotypenumbers": "strict",
          "coloraxis": {
           "colorbar": {
            "outlinewidth": 0,
            "ticks": ""
           }
          },
          "colorscale": {
           "diverging": [
            [
             0,
             "#8e0152"
            ],
            [
             0.1,
             "#c51b7d"
            ],
            [
             0.2,
             "#de77ae"
            ],
            [
             0.3,
             "#f1b6da"
            ],
            [
             0.4,
             "#fde0ef"
            ],
            [
             0.5,
             "#f7f7f7"
            ],
            [
             0.6,
             "#e6f5d0"
            ],
            [
             0.7,
             "#b8e186"
            ],
            [
             0.8,
             "#7fbc41"
            ],
            [
             0.9,
             "#4d9221"
            ],
            [
             1,
             "#276419"
            ]
           ],
           "sequential": [
            [
             0,
             "#0d0887"
            ],
            [
             0.1111111111111111,
             "#46039f"
            ],
            [
             0.2222222222222222,
             "#7201a8"
            ],
            [
             0.3333333333333333,
             "#9c179e"
            ],
            [
             0.4444444444444444,
             "#bd3786"
            ],
            [
             0.5555555555555556,
             "#d8576b"
            ],
            [
             0.6666666666666666,
             "#ed7953"
            ],
            [
             0.7777777777777778,
             "#fb9f3a"
            ],
            [
             0.8888888888888888,
             "#fdca26"
            ],
            [
             1,
             "#f0f921"
            ]
           ],
           "sequentialminus": [
            [
             0,
             "#0d0887"
            ],
            [
             0.1111111111111111,
             "#46039f"
            ],
            [
             0.2222222222222222,
             "#7201a8"
            ],
            [
             0.3333333333333333,
             "#9c179e"
            ],
            [
             0.4444444444444444,
             "#bd3786"
            ],
            [
             0.5555555555555556,
             "#d8576b"
            ],
            [
             0.6666666666666666,
             "#ed7953"
            ],
            [
             0.7777777777777778,
             "#fb9f3a"
            ],
            [
             0.8888888888888888,
             "#fdca26"
            ],
            [
             1,
             "#f0f921"
            ]
           ]
          },
          "colorway": [
           "#636efa",
           "#EF553B",
           "#00cc96",
           "#ab63fa",
           "#FFA15A",
           "#19d3f3",
           "#FF6692",
           "#B6E880",
           "#FF97FF",
           "#FECB52"
          ],
          "font": {
           "color": "#2a3f5f"
          },
          "geo": {
           "bgcolor": "white",
           "lakecolor": "white",
           "landcolor": "#E5ECF6",
           "showlakes": true,
           "showland": true,
           "subunitcolor": "white"
          },
          "hoverlabel": {
           "align": "left"
          },
          "hovermode": "closest",
          "mapbox": {
           "style": "light"
          },
          "paper_bgcolor": "white",
          "plot_bgcolor": "#E5ECF6",
          "polar": {
           "angularaxis": {
            "gridcolor": "white",
            "linecolor": "white",
            "ticks": ""
           },
           "bgcolor": "#E5ECF6",
           "radialaxis": {
            "gridcolor": "white",
            "linecolor": "white",
            "ticks": ""
           }
          },
          "scene": {
           "xaxis": {
            "backgroundcolor": "#E5ECF6",
            "gridcolor": "white",
            "gridwidth": 2,
            "linecolor": "white",
            "showbackground": true,
            "ticks": "",
            "zerolinecolor": "white"
           },
           "yaxis": {
            "backgroundcolor": "#E5ECF6",
            "gridcolor": "white",
            "gridwidth": 2,
            "linecolor": "white",
            "showbackground": true,
            "ticks": "",
            "zerolinecolor": "white"
           },
           "zaxis": {
            "backgroundcolor": "#E5ECF6",
            "gridcolor": "white",
            "gridwidth": 2,
            "linecolor": "white",
            "showbackground": true,
            "ticks": "",
            "zerolinecolor": "white"
           }
          },
          "shapedefaults": {
           "line": {
            "color": "#2a3f5f"
           }
          },
          "ternary": {
           "aaxis": {
            "gridcolor": "white",
            "linecolor": "white",
            "ticks": ""
           },
           "baxis": {
            "gridcolor": "white",
            "linecolor": "white",
            "ticks": ""
           },
           "bgcolor": "#E5ECF6",
           "caxis": {
            "gridcolor": "white",
            "linecolor": "white",
            "ticks": ""
           }
          },
          "title": {
           "x": 0.05
          },
          "xaxis": {
           "automargin": true,
           "gridcolor": "white",
           "linecolor": "white",
           "ticks": "",
           "title": {
            "standoff": 15
           },
           "zerolinecolor": "white",
           "zerolinewidth": 2
          },
          "yaxis": {
           "automargin": true,
           "gridcolor": "white",
           "linecolor": "white",
           "ticks": "",
           "title": {
            "standoff": 15
           },
           "zerolinecolor": "white",
           "zerolinewidth": 2
          }
         }
        },
        "title": {
         "text": "Contour plot: learning_rate vs min_data_in_leaf"
        },
        "xaxis": {
         "range": [
          0.0591127466562317,
          0.08098294848149404
         ],
         "title": {
          "text": "learning_rate"
         }
        },
        "yaxis": {
         "range": [
          98.15,
          204.85
         ],
         "title": {
          "text": "min_data_in_leaf"
         }
        }
       }
      }
     },
     "metadata": {},
     "output_type": "display_data"
    },
    {
     "data": {
      "application/vnd.plotly.v1+json": {
       "config": {
        "plotlyServerURL": "https://plot.ly"
       },
       "data": [
        {
         "colorbar": {
          "title": {
           "text": "Objective Value"
          }
         },
         "colorscale": [
          [
           0,
           "rgb(247,251,255)"
          ],
          [
           0.125,
           "rgb(222,235,247)"
          ],
          [
           0.25,
           "rgb(198,219,239)"
          ],
          [
           0.375,
           "rgb(158,202,225)"
          ],
          [
           0.5,
           "rgb(107,174,214)"
          ],
          [
           0.625,
           "rgb(66,146,198)"
          ],
          [
           0.75,
           "rgb(33,113,181)"
          ],
          [
           0.875,
           "rgb(8,81,156)"
          ],
          [
           1,
           "rgb(8,48,107)"
          ]
         ],
         "connectgaps": true,
         "contours": {
          "coloring": "heatmap"
         },
         "hoverinfo": "none",
         "line": {
          "smoothing": 1.3
         },
         "reversescale": false,
         "type": "contour",
         "x": [
          198.2,
          203,
          216,
          220,
          222,
          228,
          233,
          238,
          240,
          242,
          243,
          252,
          253,
          256,
          261,
          264,
          269,
          273,
          283,
          293,
          299,
          303.8
         ],
         "y": [
          98.15,
          103,
          114,
          128,
          131,
          136,
          149,
          157,
          159,
          163,
          175,
          177,
          184,
          185,
          186,
          192,
          197,
          199,
          200,
          204.85
         ],
         "z": [
          [
           null,
           null,
           null,
           null,
           null,
           null,
           null,
           null,
           null,
           null,
           null,
           null,
           null,
           null,
           null,
           null,
           null,
           null,
           null,
           null,
           null,
           null
          ],
          [
           null,
           null,
           null,
           null,
           null,
           null,
           null,
           null,
           null,
           null,
           0.9364480062979179,
           null,
           null,
           null,
           null,
           null,
           null,
           null,
           null,
           null,
           null,
           null
          ],
          [
           null,
           null,
           null,
           null,
           null,
           null,
           null,
           null,
           null,
           null,
           null,
           null,
           null,
           null,
           0.9366090859036549,
           null,
           null,
           null,
           null,
           null,
           null,
           null
          ],
          [
           null,
           null,
           null,
           null,
           null,
           null,
           null,
           null,
           null,
           null,
           null,
           null,
           null,
           null,
           null,
           null,
           null,
           null,
           null,
           0.9364137386464817,
           null,
           null
          ],
          [
           null,
           null,
           null,
           0.936635733534952,
           null,
           null,
           null,
           null,
           null,
           null,
           null,
           null,
           null,
           null,
           null,
           null,
           null,
           null,
           null,
           null,
           null,
           null
          ],
          [
           null,
           null,
           null,
           null,
           null,
           null,
           null,
           null,
           null,
           0.9367300042308597,
           null,
           null,
           null,
           null,
           null,
           null,
           null,
           null,
           null,
           null,
           null,
           null
          ],
          [
           null,
           null,
           null,
           null,
           null,
           null,
           null,
           null,
           null,
           null,
           null,
           null,
           null,
           null,
           null,
           null,
           0.9362207150642223,
           null,
           null,
           null,
           null,
           null
          ],
          [
           null,
           null,
           null,
           null,
           null,
           null,
           null,
           null,
           null,
           null,
           null,
           null,
           null,
           null,
           null,
           null,
           null,
           0.9363011150278858,
           null,
           null,
           null,
           null
          ],
          [
           null,
           null,
           null,
           null,
           0.9363650869844082,
           null,
           null,
           null,
           null,
           null,
           null,
           null,
           null,
           null,
           null,
           null,
           null,
           null,
           null,
           null,
           null,
           null
          ],
          [
           null,
           null,
           null,
           null,
           null,
           null,
           null,
           null,
           null,
           null,
           null,
           0.936310343359659,
           null,
           null,
           null,
           null,
           null,
           null,
           null,
           null,
           null,
           null
          ],
          [
           null,
           null,
           0.9367803280454703,
           null,
           null,
           0.9369448283274782,
           null,
           null,
           null,
           null,
           null,
           null,
           null,
           null,
           null,
           null,
           null,
           null,
           null,
           null,
           null,
           null
          ],
          [
           null,
           0.9368521512442932,
           null,
           null,
           null,
           null,
           null,
           null,
           null,
           null,
           null,
           null,
           null,
           null,
           null,
           null,
           null,
           null,
           null,
           null,
           null,
           null
          ],
          [
           null,
           null,
           null,
           null,
           null,
           null,
           null,
           null,
           null,
           null,
           null,
           null,
           null,
           0.9369885302272039,
           null,
           null,
           null,
           null,
           null,
           null,
           null,
           null
          ],
          [
           null,
           null,
           null,
           null,
           null,
           null,
           null,
           null,
           null,
           null,
           null,
           null,
           null,
           null,
           null,
           null,
           null,
           null,
           null,
           null,
           0.9366951894390916,
           null
          ],
          [
           null,
           null,
           null,
           null,
           null,
           null,
           null,
           null,
           null,
           null,
           null,
           null,
           0.9366794395268558,
           null,
           null,
           null,
           null,
           null,
           0.936381735867525,
           null,
           null,
           null
          ],
          [
           null,
           null,
           null,
           null,
           null,
           null,
           null,
           null,
           null,
           null,
           null,
           null,
           null,
           null,
           null,
           0.936764040034437,
           null,
           null,
           null,
           null,
           null,
           null
          ],
          [
           null,
           null,
           null,
           null,
           null,
           null,
           null,
           0.9370546574419789,
           null,
           null,
           null,
           null,
           null,
           null,
           null,
           null,
           null,
           null,
           null,
           null,
           null,
           null
          ],
          [
           null,
           null,
           null,
           null,
           null,
           null,
           0.9363757675545227,
           null,
           null,
           null,
           null,
           null,
           null,
           null,
           null,
           null,
           null,
           null,
           null,
           null,
           null,
           null
          ],
          [
           null,
           null,
           null,
           null,
           null,
           null,
           null,
           null,
           0.9367215195046956,
           null,
           null,
           null,
           null,
           null,
           null,
           null,
           null,
           null,
           null,
           null,
           null,
           null
          ],
          [
           null,
           null,
           null,
           null,
           null,
           null,
           null,
           null,
           null,
           null,
           null,
           null,
           null,
           null,
           null,
           null,
           null,
           null,
           null,
           null,
           null,
           null
          ]
         ]
        },
        {
         "marker": {
          "color": "black",
          "line": {
           "color": "Gray",
           "width": 2
          }
         },
         "mode": "markers",
         "name": "Feasible Trial",
         "showlegend": false,
         "type": "scatter",
         "x": [
          269,
          220,
          216,
          299,
          228,
          293,
          273,
          242,
          222,
          261,
          238,
          240,
          233,
          203,
          256,
          253,
          283,
          252,
          243,
          264
         ],
         "y": [
          149,
          131,
          175,
          185,
          175,
          128,
          157,
          136,
          159,
          114,
          197,
          200,
          199,
          177,
          184,
          186,
          186,
          163,
          103,
          192
         ]
        },
        {
         "marker": {
          "color": "#cccccc",
          "line": {
           "color": "Gray",
           "width": 2
          }
         },
         "mode": "markers",
         "name": "Infeasible Trial",
         "showlegend": false,
         "type": "scatter",
         "x": [],
         "y": []
        }
       ],
       "layout": {
        "template": {
         "data": {
          "bar": [
           {
            "error_x": {
             "color": "#2a3f5f"
            },
            "error_y": {
             "color": "#2a3f5f"
            },
            "marker": {
             "line": {
              "color": "#E5ECF6",
              "width": 0.5
             },
             "pattern": {
              "fillmode": "overlay",
              "size": 10,
              "solidity": 0.2
             }
            },
            "type": "bar"
           }
          ],
          "barpolar": [
           {
            "marker": {
             "line": {
              "color": "#E5ECF6",
              "width": 0.5
             },
             "pattern": {
              "fillmode": "overlay",
              "size": 10,
              "solidity": 0.2
             }
            },
            "type": "barpolar"
           }
          ],
          "carpet": [
           {
            "aaxis": {
             "endlinecolor": "#2a3f5f",
             "gridcolor": "white",
             "linecolor": "white",
             "minorgridcolor": "white",
             "startlinecolor": "#2a3f5f"
            },
            "baxis": {
             "endlinecolor": "#2a3f5f",
             "gridcolor": "white",
             "linecolor": "white",
             "minorgridcolor": "white",
             "startlinecolor": "#2a3f5f"
            },
            "type": "carpet"
           }
          ],
          "choropleth": [
           {
            "colorbar": {
             "outlinewidth": 0,
             "ticks": ""
            },
            "type": "choropleth"
           }
          ],
          "contour": [
           {
            "colorbar": {
             "outlinewidth": 0,
             "ticks": ""
            },
            "colorscale": [
             [
              0,
              "#0d0887"
             ],
             [
              0.1111111111111111,
              "#46039f"
             ],
             [
              0.2222222222222222,
              "#7201a8"
             ],
             [
              0.3333333333333333,
              "#9c179e"
             ],
             [
              0.4444444444444444,
              "#bd3786"
             ],
             [
              0.5555555555555556,
              "#d8576b"
             ],
             [
              0.6666666666666666,
              "#ed7953"
             ],
             [
              0.7777777777777778,
              "#fb9f3a"
             ],
             [
              0.8888888888888888,
              "#fdca26"
             ],
             [
              1,
              "#f0f921"
             ]
            ],
            "type": "contour"
           }
          ],
          "contourcarpet": [
           {
            "colorbar": {
             "outlinewidth": 0,
             "ticks": ""
            },
            "type": "contourcarpet"
           }
          ],
          "heatmap": [
           {
            "colorbar": {
             "outlinewidth": 0,
             "ticks": ""
            },
            "colorscale": [
             [
              0,
              "#0d0887"
             ],
             [
              0.1111111111111111,
              "#46039f"
             ],
             [
              0.2222222222222222,
              "#7201a8"
             ],
             [
              0.3333333333333333,
              "#9c179e"
             ],
             [
              0.4444444444444444,
              "#bd3786"
             ],
             [
              0.5555555555555556,
              "#d8576b"
             ],
             [
              0.6666666666666666,
              "#ed7953"
             ],
             [
              0.7777777777777778,
              "#fb9f3a"
             ],
             [
              0.8888888888888888,
              "#fdca26"
             ],
             [
              1,
              "#f0f921"
             ]
            ],
            "type": "heatmap"
           }
          ],
          "heatmapgl": [
           {
            "colorbar": {
             "outlinewidth": 0,
             "ticks": ""
            },
            "colorscale": [
             [
              0,
              "#0d0887"
             ],
             [
              0.1111111111111111,
              "#46039f"
             ],
             [
              0.2222222222222222,
              "#7201a8"
             ],
             [
              0.3333333333333333,
              "#9c179e"
             ],
             [
              0.4444444444444444,
              "#bd3786"
             ],
             [
              0.5555555555555556,
              "#d8576b"
             ],
             [
              0.6666666666666666,
              "#ed7953"
             ],
             [
              0.7777777777777778,
              "#fb9f3a"
             ],
             [
              0.8888888888888888,
              "#fdca26"
             ],
             [
              1,
              "#f0f921"
             ]
            ],
            "type": "heatmapgl"
           }
          ],
          "histogram": [
           {
            "marker": {
             "pattern": {
              "fillmode": "overlay",
              "size": 10,
              "solidity": 0.2
             }
            },
            "type": "histogram"
           }
          ],
          "histogram2d": [
           {
            "colorbar": {
             "outlinewidth": 0,
             "ticks": ""
            },
            "colorscale": [
             [
              0,
              "#0d0887"
             ],
             [
              0.1111111111111111,
              "#46039f"
             ],
             [
              0.2222222222222222,
              "#7201a8"
             ],
             [
              0.3333333333333333,
              "#9c179e"
             ],
             [
              0.4444444444444444,
              "#bd3786"
             ],
             [
              0.5555555555555556,
              "#d8576b"
             ],
             [
              0.6666666666666666,
              "#ed7953"
             ],
             [
              0.7777777777777778,
              "#fb9f3a"
             ],
             [
              0.8888888888888888,
              "#fdca26"
             ],
             [
              1,
              "#f0f921"
             ]
            ],
            "type": "histogram2d"
           }
          ],
          "histogram2dcontour": [
           {
            "colorbar": {
             "outlinewidth": 0,
             "ticks": ""
            },
            "colorscale": [
             [
              0,
              "#0d0887"
             ],
             [
              0.1111111111111111,
              "#46039f"
             ],
             [
              0.2222222222222222,
              "#7201a8"
             ],
             [
              0.3333333333333333,
              "#9c179e"
             ],
             [
              0.4444444444444444,
              "#bd3786"
             ],
             [
              0.5555555555555556,
              "#d8576b"
             ],
             [
              0.6666666666666666,
              "#ed7953"
             ],
             [
              0.7777777777777778,
              "#fb9f3a"
             ],
             [
              0.8888888888888888,
              "#fdca26"
             ],
             [
              1,
              "#f0f921"
             ]
            ],
            "type": "histogram2dcontour"
           }
          ],
          "mesh3d": [
           {
            "colorbar": {
             "outlinewidth": 0,
             "ticks": ""
            },
            "type": "mesh3d"
           }
          ],
          "parcoords": [
           {
            "line": {
             "colorbar": {
              "outlinewidth": 0,
              "ticks": ""
             }
            },
            "type": "parcoords"
           }
          ],
          "pie": [
           {
            "automargin": true,
            "type": "pie"
           }
          ],
          "scatter": [
           {
            "fillpattern": {
             "fillmode": "overlay",
             "size": 10,
             "solidity": 0.2
            },
            "type": "scatter"
           }
          ],
          "scatter3d": [
           {
            "line": {
             "colorbar": {
              "outlinewidth": 0,
              "ticks": ""
             }
            },
            "marker": {
             "colorbar": {
              "outlinewidth": 0,
              "ticks": ""
             }
            },
            "type": "scatter3d"
           }
          ],
          "scattercarpet": [
           {
            "marker": {
             "colorbar": {
              "outlinewidth": 0,
              "ticks": ""
             }
            },
            "type": "scattercarpet"
           }
          ],
          "scattergeo": [
           {
            "marker": {
             "colorbar": {
              "outlinewidth": 0,
              "ticks": ""
             }
            },
            "type": "scattergeo"
           }
          ],
          "scattergl": [
           {
            "marker": {
             "colorbar": {
              "outlinewidth": 0,
              "ticks": ""
             }
            },
            "type": "scattergl"
           }
          ],
          "scattermapbox": [
           {
            "marker": {
             "colorbar": {
              "outlinewidth": 0,
              "ticks": ""
             }
            },
            "type": "scattermapbox"
           }
          ],
          "scatterpolar": [
           {
            "marker": {
             "colorbar": {
              "outlinewidth": 0,
              "ticks": ""
             }
            },
            "type": "scatterpolar"
           }
          ],
          "scatterpolargl": [
           {
            "marker": {
             "colorbar": {
              "outlinewidth": 0,
              "ticks": ""
             }
            },
            "type": "scatterpolargl"
           }
          ],
          "scatterternary": [
           {
            "marker": {
             "colorbar": {
              "outlinewidth": 0,
              "ticks": ""
             }
            },
            "type": "scatterternary"
           }
          ],
          "surface": [
           {
            "colorbar": {
             "outlinewidth": 0,
             "ticks": ""
            },
            "colorscale": [
             [
              0,
              "#0d0887"
             ],
             [
              0.1111111111111111,
              "#46039f"
             ],
             [
              0.2222222222222222,
              "#7201a8"
             ],
             [
              0.3333333333333333,
              "#9c179e"
             ],
             [
              0.4444444444444444,
              "#bd3786"
             ],
             [
              0.5555555555555556,
              "#d8576b"
             ],
             [
              0.6666666666666666,
              "#ed7953"
             ],
             [
              0.7777777777777778,
              "#fb9f3a"
             ],
             [
              0.8888888888888888,
              "#fdca26"
             ],
             [
              1,
              "#f0f921"
             ]
            ],
            "type": "surface"
           }
          ],
          "table": [
           {
            "cells": {
             "fill": {
              "color": "#EBF0F8"
             },
             "line": {
              "color": "white"
             }
            },
            "header": {
             "fill": {
              "color": "#C8D4E3"
             },
             "line": {
              "color": "white"
             }
            },
            "type": "table"
           }
          ]
         },
         "layout": {
          "annotationdefaults": {
           "arrowcolor": "#2a3f5f",
           "arrowhead": 0,
           "arrowwidth": 1
          },
          "autotypenumbers": "strict",
          "coloraxis": {
           "colorbar": {
            "outlinewidth": 0,
            "ticks": ""
           }
          },
          "colorscale": {
           "diverging": [
            [
             0,
             "#8e0152"
            ],
            [
             0.1,
             "#c51b7d"
            ],
            [
             0.2,
             "#de77ae"
            ],
            [
             0.3,
             "#f1b6da"
            ],
            [
             0.4,
             "#fde0ef"
            ],
            [
             0.5,
             "#f7f7f7"
            ],
            [
             0.6,
             "#e6f5d0"
            ],
            [
             0.7,
             "#b8e186"
            ],
            [
             0.8,
             "#7fbc41"
            ],
            [
             0.9,
             "#4d9221"
            ],
            [
             1,
             "#276419"
            ]
           ],
           "sequential": [
            [
             0,
             "#0d0887"
            ],
            [
             0.1111111111111111,
             "#46039f"
            ],
            [
             0.2222222222222222,
             "#7201a8"
            ],
            [
             0.3333333333333333,
             "#9c179e"
            ],
            [
             0.4444444444444444,
             "#bd3786"
            ],
            [
             0.5555555555555556,
             "#d8576b"
            ],
            [
             0.6666666666666666,
             "#ed7953"
            ],
            [
             0.7777777777777778,
             "#fb9f3a"
            ],
            [
             0.8888888888888888,
             "#fdca26"
            ],
            [
             1,
             "#f0f921"
            ]
           ],
           "sequentialminus": [
            [
             0,
             "#0d0887"
            ],
            [
             0.1111111111111111,
             "#46039f"
            ],
            [
             0.2222222222222222,
             "#7201a8"
            ],
            [
             0.3333333333333333,
             "#9c179e"
            ],
            [
             0.4444444444444444,
             "#bd3786"
            ],
            [
             0.5555555555555556,
             "#d8576b"
            ],
            [
             0.6666666666666666,
             "#ed7953"
            ],
            [
             0.7777777777777778,
             "#fb9f3a"
            ],
            [
             0.8888888888888888,
             "#fdca26"
            ],
            [
             1,
             "#f0f921"
            ]
           ]
          },
          "colorway": [
           "#636efa",
           "#EF553B",
           "#00cc96",
           "#ab63fa",
           "#FFA15A",
           "#19d3f3",
           "#FF6692",
           "#B6E880",
           "#FF97FF",
           "#FECB52"
          ],
          "font": {
           "color": "#2a3f5f"
          },
          "geo": {
           "bgcolor": "white",
           "lakecolor": "white",
           "landcolor": "#E5ECF6",
           "showlakes": true,
           "showland": true,
           "subunitcolor": "white"
          },
          "hoverlabel": {
           "align": "left"
          },
          "hovermode": "closest",
          "mapbox": {
           "style": "light"
          },
          "paper_bgcolor": "white",
          "plot_bgcolor": "#E5ECF6",
          "polar": {
           "angularaxis": {
            "gridcolor": "white",
            "linecolor": "white",
            "ticks": ""
           },
           "bgcolor": "#E5ECF6",
           "radialaxis": {
            "gridcolor": "white",
            "linecolor": "white",
            "ticks": ""
           }
          },
          "scene": {
           "xaxis": {
            "backgroundcolor": "#E5ECF6",
            "gridcolor": "white",
            "gridwidth": 2,
            "linecolor": "white",
            "showbackground": true,
            "ticks": "",
            "zerolinecolor": "white"
           },
           "yaxis": {
            "backgroundcolor": "#E5ECF6",
            "gridcolor": "white",
            "gridwidth": 2,
            "linecolor": "white",
            "showbackground": true,
            "ticks": "",
            "zerolinecolor": "white"
           },
           "zaxis": {
            "backgroundcolor": "#E5ECF6",
            "gridcolor": "white",
            "gridwidth": 2,
            "linecolor": "white",
            "showbackground": true,
            "ticks": "",
            "zerolinecolor": "white"
           }
          },
          "shapedefaults": {
           "line": {
            "color": "#2a3f5f"
           }
          },
          "ternary": {
           "aaxis": {
            "gridcolor": "white",
            "linecolor": "white",
            "ticks": ""
           },
           "baxis": {
            "gridcolor": "white",
            "linecolor": "white",
            "ticks": ""
           },
           "bgcolor": "#E5ECF6",
           "caxis": {
            "gridcolor": "white",
            "linecolor": "white",
            "ticks": ""
           }
          },
          "title": {
           "x": 0.05
          },
          "xaxis": {
           "automargin": true,
           "gridcolor": "white",
           "linecolor": "white",
           "ticks": "",
           "title": {
            "standoff": 15
           },
           "zerolinecolor": "white",
           "zerolinewidth": 2
          },
          "yaxis": {
           "automargin": true,
           "gridcolor": "white",
           "linecolor": "white",
           "ticks": "",
           "title": {
            "standoff": 15
           },
           "zerolinecolor": "white",
           "zerolinewidth": 2
          }
         }
        },
        "title": {
         "text": "Contour plot: max_bin vs min_data_in_leaf"
        },
        "xaxis": {
         "range": [
          198.2,
          303.8
         ],
         "title": {
          "text": "max_bin"
         }
        },
        "yaxis": {
         "range": [
          98.15,
          204.85
         ],
         "title": {
          "text": "min_data_in_leaf"
         }
        }
       }
      }
     },
     "metadata": {},
     "output_type": "display_data"
    }
   ],
   "source": [
    "param_names = list(study.best_params.keys())\n",
    "\n",
    "for param_x, param_y in combinations(param_names, 2):\n",
    "    fig = plot_contour(study, params=[param_x, param_y])\n",
    "    fig.update_layout(title=f'Contour plot: {param_x} vs {param_y}')\n",
    "    fig.show()"
   ]
  },
  {
   "cell_type": "code",
   "execution_count": null,
   "id": "a89c1cbb",
   "metadata": {},
   "outputs": [
    {
     "data": {
      "text/plain": [
       "['optuna_study2706_6_less.pkl']"
      ]
     },
     "execution_count": 121,
     "metadata": {},
     "output_type": "execute_result"
    }
   ],
   "source": [
    "joblib.dump(study, 'optuna_study2706_6_less.pkl')"
   ]
  },
  {
   "cell_type": "code",
   "execution_count": 111,
   "id": "c445b930",
   "metadata": {},
   "outputs": [],
   "source": [
    "final_model = CatBoostClassifier(\n",
    "    **best_params,\n",
    "    iterations=570,\n",
    "    thread_count=-1,\n",
    "    task_type='GPU',\n",
    "    random_seed=42,\n",
    "    #leaf_estimation_method='Newton',\n",
    "    bootstrap_type='MVS',\n",
    "    random_strength=0.15,\n",
    "    verbose=0\n",
    ")\n",
    "\n",
    "final_model.fit(\n",
    "    X, y,\n",
    "    cat_features=cat_features\n",
    ")\n",
    "\n",
    "y_test_pred = final_model.predict_proba(test_df)[:, 1]"
   ]
  },
  {
   "cell_type": "code",
   "execution_count": 112,
   "id": "1ff88953",
   "metadata": {},
   "outputs": [
    {
     "data": {
      "image/png": "[encoded data removed]",
      "text/plain": [
       "<Figure size 1000x600 with 1 Axes>"
      ]
     },
     "metadata": {},
     "output_type": "display_data"
    }
   ],
   "source": [
    "feat_importance = final_model.get_feature_importance(prettified=True)\n",
    "\n",
    "plt.figure(figsize=(10, 6))\n",
    "sns.barplot(x='Importances', y='Feature Id', data=feat_importance.sort_values('Importances', ascending=False))\n",
    "plt.title('CatBoost Feature Importance')\n",
    "plt.tight_layout()\n",
    "plt.show()"
   ]
  },
  {
   "cell_type": "code",
   "execution_count": 113,
   "id": "624ad676",
   "metadata": {},
   "outputs": [
    {
     "data": {
      "image/png": "[encoded data removed]",
      "text/plain": [
       "<Figure size 800x590 with 2 Axes>"
      ]
     },
     "metadata": {},
     "output_type": "display_data"
    }
   ],
   "source": [
    "explainer = shap.TreeExplainer(final_model)\n",
    "shap_values = explainer.shap_values(X)\n",
    "\n",
    "shap.summary_plot(shap_values, X)"
   ]
  },
  {
   "cell_type": "markdown",
   "id": "8c380b02",
   "metadata": {},
   "source": [
    "Сабмишн"
   ]
  },
  {
   "cell_type": "code",
   "execution_count": 114,
   "id": "c7896dac",
   "metadata": {},
   "outputs": [],
   "source": [
    "submission = pd.DataFrame({\n",
    "    'id': test['id'], \n",
    "    'Exited': y_test_pred\n",
    "})\n",
    "\n",
    "submission.to_csv('test_preds_2706_5.csv', index=False, sep=',')"
   ]
  }
 ],
 "metadata": {
  "kernelspec": {
   "display_name": "Python 3",
   "language": "python",
   "name": "python3"
  },
  "language_info": {
   "codemirror_mode": {
    "name": "ipython",
    "version": 3
   },
   "file_extension": ".py",
   "mimetype": "text/x-python",
   "name": "python",
   "nbconvert_exporter": "python",
   "pygments_lexer": "ipython3",
   "version": "3.12.6"
  }
 },
 "nbformat": 4,
 "nbformat_minor": 5
}
